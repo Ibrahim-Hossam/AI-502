{
 "cells": [
  {
   "cell_type": "markdown",
   "id": "e4bab933",
   "metadata": {
    "papermill": {
     "duration": 0.02178,
     "end_time": "2023-09-03T20:13:27.577434",
     "exception": false,
     "start_time": "2023-09-03T20:13:27.555654",
     "status": "completed"
    },
    "tags": []
   },
   "source": [
    "<div style=\"color:white;\n",
    "           display:fill;\n",
    "           border-radius:5px;\n",
    "           background-color:#FFBB55;\n",
    "           font-size:20px;\n",
    "           font-family:Nexa;\n",
    "           letter-spacing:0.5px\">\n",
    "        <p style=\"padding: 10px;\n",
    "              color:black;\">\n",
    "            <b>Resampling data and using autoML</b>\n",
    "        </p>\n",
    "</div>\n",
    "<div class=\"alert alert-block alert-info\" style=\"font-size:22px; font-family:arial;\">\n",
    "    Presented by Ibrahim Hossam\n",
    "</div>"
   ]
  },
  {
   "cell_type": "code",
   "execution_count": 1,
   "id": "4e9c5f99",
   "metadata": {
    "_cell_guid": "b1076dfc-b9ad-4769-8c92-a6c4dae69d19",
    "_uuid": "8f2839f25d086af736a60e9eeb907d3b93b6e0e5",
    "execution": {
     "iopub.execute_input": "2023-09-03T20:13:27.623653Z",
     "iopub.status.busy": "2023-09-03T20:13:27.623002Z",
     "iopub.status.idle": "2023-09-03T20:13:29.328018Z",
     "shell.execute_reply": "2023-09-03T20:13:29.326842Z"
    },
    "id": "p4MzPW97S654",
    "papermill": {
     "duration": 1.732412,
     "end_time": "2023-09-03T20:13:29.331222",
     "exception": false,
     "start_time": "2023-09-03T20:13:27.598810",
     "status": "completed"
    },
    "tags": []
   },
   "outputs": [
    {
     "name": "stderr",
     "output_type": "stream",
     "text": [
      "/opt/conda/lib/python3.10/site-packages/scipy/__init__.py:146: UserWarning: A NumPy version >=1.16.5 and <1.23.0 is required for this version of SciPy (detected version 1.23.5\n",
      "  warnings.warn(f\"A NumPy version >={np_minversion} and <{np_maxversion}\"\n"
     ]
    }
   ],
   "source": [
    "# This Python 3 environment comes with many helpful analytics libraries installed\n",
    "# It is defined by the kaggle/python Docker image: https://github.com/kaggle/docker-python\n",
    "# For example, here's several helpful packages to load\n",
    "\n",
    "import numpy as np # linear algebra\n",
    "import pandas as pd # data processing, CSV file I/O (e.g. pd.read_csv)\n",
    "\n",
    "import matplotlib.pyplot as plt\n",
    "import seaborn as sns\n",
    "from sklearn.model_selection import train_test_split"
   ]
  },
  {
   "cell_type": "code",
   "execution_count": 2,
   "id": "33702d81",
   "metadata": {
    "execution": {
     "iopub.execute_input": "2023-09-03T20:13:29.376660Z",
     "iopub.status.busy": "2023-09-03T20:13:29.376267Z",
     "iopub.status.idle": "2023-09-03T20:13:33.788005Z",
     "shell.execute_reply": "2023-09-03T20:13:33.786884Z"
    },
    "id": "m_ZOaWiPS656",
    "outputId": "e973fd48-d3b7-44ce-9608-e5efd372accb",
    "papermill": {
     "duration": 4.436707,
     "end_time": "2023-09-03T20:13:33.790218",
     "exception": false,
     "start_time": "2023-09-03T20:13:29.353511",
     "status": "completed"
    },
    "tags": []
   },
   "outputs": [
    {
     "data": {
      "text/html": [
       "<div>\n",
       "<style scoped>\n",
       "    .dataframe tbody tr th:only-of-type {\n",
       "        vertical-align: middle;\n",
       "    }\n",
       "\n",
       "    .dataframe tbody tr th {\n",
       "        vertical-align: top;\n",
       "    }\n",
       "\n",
       "    .dataframe thead th {\n",
       "        text-align: right;\n",
       "    }\n",
       "</style>\n",
       "<table border=\"1\" class=\"dataframe\">\n",
       "  <thead>\n",
       "    <tr style=\"text-align: right;\">\n",
       "      <th></th>\n",
       "      <th>Time</th>\n",
       "      <th>V1</th>\n",
       "      <th>V2</th>\n",
       "      <th>V3</th>\n",
       "      <th>V4</th>\n",
       "      <th>V5</th>\n",
       "      <th>V6</th>\n",
       "      <th>V7</th>\n",
       "      <th>V8</th>\n",
       "      <th>V9</th>\n",
       "      <th>...</th>\n",
       "      <th>V21</th>\n",
       "      <th>V22</th>\n",
       "      <th>V23</th>\n",
       "      <th>V24</th>\n",
       "      <th>V25</th>\n",
       "      <th>V26</th>\n",
       "      <th>V27</th>\n",
       "      <th>V28</th>\n",
       "      <th>Amount</th>\n",
       "      <th>Class</th>\n",
       "    </tr>\n",
       "  </thead>\n",
       "  <tbody>\n",
       "    <tr>\n",
       "      <th>94337</th>\n",
       "      <td>64837.0</td>\n",
       "      <td>-2.342125</td>\n",
       "      <td>-0.691247</td>\n",
       "      <td>0.581436</td>\n",
       "      <td>-1.973589</td>\n",
       "      <td>0.327926</td>\n",
       "      <td>-0.072179</td>\n",
       "      <td>1.060103</td>\n",
       "      <td>-0.228944</td>\n",
       "      <td>-1.433256</td>\n",
       "      <td>...</td>\n",
       "      <td>-0.612532</td>\n",
       "      <td>-0.910947</td>\n",
       "      <td>0.658688</td>\n",
       "      <td>-1.032297</td>\n",
       "      <td>0.762063</td>\n",
       "      <td>-0.600204</td>\n",
       "      <td>0.453501</td>\n",
       "      <td>0.106378</td>\n",
       "      <td>180.25</td>\n",
       "      <td>0</td>\n",
       "    </tr>\n",
       "    <tr>\n",
       "      <th>30814</th>\n",
       "      <td>36090.0</td>\n",
       "      <td>1.131802</td>\n",
       "      <td>-0.369712</td>\n",
       "      <td>1.169786</td>\n",
       "      <td>0.836518</td>\n",
       "      <td>-1.095213</td>\n",
       "      <td>0.117761</td>\n",
       "      <td>-0.842799</td>\n",
       "      <td>0.331427</td>\n",
       "      <td>1.247031</td>\n",
       "      <td>...</td>\n",
       "      <td>-0.086921</td>\n",
       "      <td>-0.130468</td>\n",
       "      <td>0.084277</td>\n",
       "      <td>0.064857</td>\n",
       "      <td>0.109137</td>\n",
       "      <td>0.352908</td>\n",
       "      <td>0.019053</td>\n",
       "      <td>0.019830</td>\n",
       "      <td>11.50</td>\n",
       "      <td>0</td>\n",
       "    </tr>\n",
       "    <tr>\n",
       "      <th>104896</th>\n",
       "      <td>69276.0</td>\n",
       "      <td>-1.299973</td>\n",
       "      <td>1.469715</td>\n",
       "      <td>0.991695</td>\n",
       "      <td>1.341176</td>\n",
       "      <td>-0.734756</td>\n",
       "      <td>-0.374578</td>\n",
       "      <td>-0.034997</td>\n",
       "      <td>0.542643</td>\n",
       "      <td>0.495932</td>\n",
       "      <td>...</td>\n",
       "      <td>-0.013639</td>\n",
       "      <td>0.236494</td>\n",
       "      <td>-0.131434</td>\n",
       "      <td>0.372552</td>\n",
       "      <td>-0.057103</td>\n",
       "      <td>-0.195711</td>\n",
       "      <td>0.388508</td>\n",
       "      <td>0.274656</td>\n",
       "      <td>10.00</td>\n",
       "      <td>0</td>\n",
       "    </tr>\n",
       "    <tr>\n",
       "      <th>75409</th>\n",
       "      <td>56050.0</td>\n",
       "      <td>0.962553</td>\n",
       "      <td>-0.123669</td>\n",
       "      <td>0.191440</td>\n",
       "      <td>1.272528</td>\n",
       "      <td>0.014626</td>\n",
       "      <td>0.376709</td>\n",
       "      <td>0.111713</td>\n",
       "      <td>0.105032</td>\n",
       "      <td>-0.019954</td>\n",
       "      <td>...</td>\n",
       "      <td>-0.009647</td>\n",
       "      <td>-0.020531</td>\n",
       "      <td>-0.203341</td>\n",
       "      <td>-0.271273</td>\n",
       "      <td>0.656191</td>\n",
       "      <td>-0.321373</td>\n",
       "      <td>0.020455</td>\n",
       "      <td>0.019890</td>\n",
       "      <td>102.99</td>\n",
       "      <td>0</td>\n",
       "    </tr>\n",
       "    <tr>\n",
       "      <th>265734</th>\n",
       "      <td>162025.0</td>\n",
       "      <td>1.963913</td>\n",
       "      <td>-0.303299</td>\n",
       "      <td>-0.445809</td>\n",
       "      <td>0.348678</td>\n",
       "      <td>-0.392624</td>\n",
       "      <td>-0.284534</td>\n",
       "      <td>-0.435868</td>\n",
       "      <td>-0.037170</td>\n",
       "      <td>1.159253</td>\n",
       "      <td>...</td>\n",
       "      <td>-0.170091</td>\n",
       "      <td>-0.380701</td>\n",
       "      <td>0.378163</td>\n",
       "      <td>0.707629</td>\n",
       "      <td>-0.385248</td>\n",
       "      <td>-0.659709</td>\n",
       "      <td>0.031497</td>\n",
       "      <td>-0.019443</td>\n",
       "      <td>24.99</td>\n",
       "      <td>0</td>\n",
       "    </tr>\n",
       "  </tbody>\n",
       "</table>\n",
       "<p>5 rows × 31 columns</p>\n",
       "</div>"
      ],
      "text/plain": [
       "            Time        V1        V2        V3        V4        V5        V6  \\\n",
       "94337    64837.0 -2.342125 -0.691247  0.581436 -1.973589  0.327926 -0.072179   \n",
       "30814    36090.0  1.131802 -0.369712  1.169786  0.836518 -1.095213  0.117761   \n",
       "104896   69276.0 -1.299973  1.469715  0.991695  1.341176 -0.734756 -0.374578   \n",
       "75409    56050.0  0.962553 -0.123669  0.191440  1.272528  0.014626  0.376709   \n",
       "265734  162025.0  1.963913 -0.303299 -0.445809  0.348678 -0.392624 -0.284534   \n",
       "\n",
       "              V7        V8        V9  ...       V21       V22       V23  \\\n",
       "94337   1.060103 -0.228944 -1.433256  ... -0.612532 -0.910947  0.658688   \n",
       "30814  -0.842799  0.331427  1.247031  ... -0.086921 -0.130468  0.084277   \n",
       "104896 -0.034997  0.542643  0.495932  ... -0.013639  0.236494 -0.131434   \n",
       "75409   0.111713  0.105032 -0.019954  ... -0.009647 -0.020531 -0.203341   \n",
       "265734 -0.435868 -0.037170  1.159253  ... -0.170091 -0.380701  0.378163   \n",
       "\n",
       "             V24       V25       V26       V27       V28  Amount  Class  \n",
       "94337  -1.032297  0.762063 -0.600204  0.453501  0.106378  180.25      0  \n",
       "30814   0.064857  0.109137  0.352908  0.019053  0.019830   11.50      0  \n",
       "104896  0.372552 -0.057103 -0.195711  0.388508  0.274656   10.00      0  \n",
       "75409  -0.271273  0.656191 -0.321373  0.020455  0.019890  102.99      0  \n",
       "265734  0.707629 -0.385248 -0.659709  0.031497 -0.019443   24.99      0  \n",
       "\n",
       "[5 rows x 31 columns]"
      ]
     },
     "execution_count": 2,
     "metadata": {},
     "output_type": "execute_result"
    }
   ],
   "source": [
    "df = pd.read_csv('/kaggle/input/creditcardfraud/creditcard.csv', sep = ',', encoding = 'utf-8')\n",
    "df.sample(5)"
   ]
  },
  {
   "cell_type": "code",
   "execution_count": 3,
   "id": "9a5a27ec",
   "metadata": {
    "execution": {
     "iopub.execute_input": "2023-09-03T20:13:33.835899Z",
     "iopub.status.busy": "2023-09-03T20:13:33.835475Z",
     "iopub.status.idle": "2023-09-03T20:13:34.055283Z",
     "shell.execute_reply": "2023-09-03T20:13:34.053531Z"
    },
    "id": "sGxyew1FS656",
    "outputId": "d9304b0c-ca31-4226-d5cd-a829bbe2bc5e",
    "papermill": {
     "duration": 0.247228,
     "end_time": "2023-09-03T20:13:34.059611",
     "exception": false,
     "start_time": "2023-09-03T20:13:33.812383",
     "status": "completed"
    },
    "tags": []
   },
   "outputs": [
    {
     "data": {
      "text/plain": [
       "array([<Axes: ylabel='Class'>], dtype=object)"
      ]
     },
     "execution_count": 3,
     "metadata": {},
     "output_type": "execute_result"
    },
    {
     "data": {
      "image/png": "[encoded data removed]",
      "text/plain": [
       "<Figure size 640x480 with 1 Axes>"
      ]
     },
     "metadata": {},
     "output_type": "display_data"
    }
   ],
   "source": [
    "round(df['Class'].value_counts()/df.shape[0]*100, 2).plot.pie(autopct = \"%1.1f%%\", subplots = True)"
   ]
  },
  {
   "cell_type": "code",
   "execution_count": 4,
   "id": "e92e6b94",
   "metadata": {
    "execution": {
     "iopub.execute_input": "2023-09-03T20:13:34.133024Z",
     "iopub.status.busy": "2023-09-03T20:13:34.132600Z",
     "iopub.status.idle": "2023-09-03T20:13:35.287798Z",
     "shell.execute_reply": "2023-09-03T20:13:35.286824Z"
    },
    "id": "1EF7ikEEhQlT",
    "outputId": "cbc10ab5-296d-47c3-b022-37035f296b51",
    "papermill": {
     "duration": 1.183637,
     "end_time": "2023-09-03T20:13:35.290278",
     "exception": false,
     "start_time": "2023-09-03T20:13:34.106641",
     "status": "completed"
    },
    "tags": []
   },
   "outputs": [
    {
     "data": {
      "text/html": [
       "<div>\n",
       "<style scoped>\n",
       "    .dataframe tbody tr th:only-of-type {\n",
       "        vertical-align: middle;\n",
       "    }\n",
       "\n",
       "    .dataframe tbody tr th {\n",
       "        vertical-align: top;\n",
       "    }\n",
       "\n",
       "    .dataframe thead th {\n",
       "        text-align: right;\n",
       "    }\n",
       "</style>\n",
       "<table border=\"1\" class=\"dataframe\">\n",
       "  <thead>\n",
       "    <tr style=\"text-align: right;\">\n",
       "      <th></th>\n",
       "      <th>Time</th>\n",
       "      <th>V1</th>\n",
       "      <th>V2</th>\n",
       "      <th>V3</th>\n",
       "      <th>V4</th>\n",
       "      <th>V5</th>\n",
       "      <th>V6</th>\n",
       "      <th>V7</th>\n",
       "      <th>V8</th>\n",
       "      <th>V9</th>\n",
       "      <th>...</th>\n",
       "      <th>V21</th>\n",
       "      <th>V22</th>\n",
       "      <th>V23</th>\n",
       "      <th>V24</th>\n",
       "      <th>V25</th>\n",
       "      <th>V26</th>\n",
       "      <th>V27</th>\n",
       "      <th>V28</th>\n",
       "      <th>Amount</th>\n",
       "      <th>Class</th>\n",
       "    </tr>\n",
       "  </thead>\n",
       "  <tbody>\n",
       "    <tr>\n",
       "      <th>0</th>\n",
       "      <td>0.0</td>\n",
       "      <td>-1.359807</td>\n",
       "      <td>-0.072781</td>\n",
       "      <td>2.536347</td>\n",
       "      <td>1.378155</td>\n",
       "      <td>-0.338321</td>\n",
       "      <td>0.462388</td>\n",
       "      <td>0.239599</td>\n",
       "      <td>0.098698</td>\n",
       "      <td>0.363787</td>\n",
       "      <td>...</td>\n",
       "      <td>-0.018307</td>\n",
       "      <td>0.277838</td>\n",
       "      <td>-0.110474</td>\n",
       "      <td>0.066928</td>\n",
       "      <td>0.128539</td>\n",
       "      <td>-0.189115</td>\n",
       "      <td>0.133558</td>\n",
       "      <td>-0.021053</td>\n",
       "      <td>149.62</td>\n",
       "      <td>0</td>\n",
       "    </tr>\n",
       "    <tr>\n",
       "      <th>1</th>\n",
       "      <td>0.0</td>\n",
       "      <td>1.191857</td>\n",
       "      <td>0.266151</td>\n",
       "      <td>0.166480</td>\n",
       "      <td>0.448154</td>\n",
       "      <td>0.060018</td>\n",
       "      <td>-0.082361</td>\n",
       "      <td>-0.078803</td>\n",
       "      <td>0.085102</td>\n",
       "      <td>-0.255425</td>\n",
       "      <td>...</td>\n",
       "      <td>-0.225775</td>\n",
       "      <td>-0.638672</td>\n",
       "      <td>0.101288</td>\n",
       "      <td>-0.339846</td>\n",
       "      <td>0.167170</td>\n",
       "      <td>0.125895</td>\n",
       "      <td>-0.008983</td>\n",
       "      <td>0.014724</td>\n",
       "      <td>2.69</td>\n",
       "      <td>0</td>\n",
       "    </tr>\n",
       "    <tr>\n",
       "      <th>2</th>\n",
       "      <td>1.0</td>\n",
       "      <td>-1.358354</td>\n",
       "      <td>-1.340163</td>\n",
       "      <td>1.773209</td>\n",
       "      <td>0.379780</td>\n",
       "      <td>-0.503198</td>\n",
       "      <td>1.800499</td>\n",
       "      <td>0.791461</td>\n",
       "      <td>0.247676</td>\n",
       "      <td>-1.514654</td>\n",
       "      <td>...</td>\n",
       "      <td>0.247998</td>\n",
       "      <td>0.771679</td>\n",
       "      <td>0.909412</td>\n",
       "      <td>-0.689281</td>\n",
       "      <td>-0.327642</td>\n",
       "      <td>-0.139097</td>\n",
       "      <td>-0.055353</td>\n",
       "      <td>-0.059752</td>\n",
       "      <td>378.66</td>\n",
       "      <td>0</td>\n",
       "    </tr>\n",
       "    <tr>\n",
       "      <th>3</th>\n",
       "      <td>1.0</td>\n",
       "      <td>-0.966272</td>\n",
       "      <td>-0.185226</td>\n",
       "      <td>1.792993</td>\n",
       "      <td>-0.863291</td>\n",
       "      <td>-0.010309</td>\n",
       "      <td>1.247203</td>\n",
       "      <td>0.237609</td>\n",
       "      <td>0.377436</td>\n",
       "      <td>-1.387024</td>\n",
       "      <td>...</td>\n",
       "      <td>-0.108300</td>\n",
       "      <td>0.005274</td>\n",
       "      <td>-0.190321</td>\n",
       "      <td>-1.175575</td>\n",
       "      <td>0.647376</td>\n",
       "      <td>-0.221929</td>\n",
       "      <td>0.062723</td>\n",
       "      <td>0.061458</td>\n",
       "      <td>123.50</td>\n",
       "      <td>0</td>\n",
       "    </tr>\n",
       "    <tr>\n",
       "      <th>4</th>\n",
       "      <td>2.0</td>\n",
       "      <td>-1.158233</td>\n",
       "      <td>0.877737</td>\n",
       "      <td>1.548718</td>\n",
       "      <td>0.403034</td>\n",
       "      <td>-0.407193</td>\n",
       "      <td>0.095921</td>\n",
       "      <td>0.592941</td>\n",
       "      <td>-0.270533</td>\n",
       "      <td>0.817739</td>\n",
       "      <td>...</td>\n",
       "      <td>-0.009431</td>\n",
       "      <td>0.798278</td>\n",
       "      <td>-0.137458</td>\n",
       "      <td>0.141267</td>\n",
       "      <td>-0.206010</td>\n",
       "      <td>0.502292</td>\n",
       "      <td>0.219422</td>\n",
       "      <td>0.215153</td>\n",
       "      <td>69.99</td>\n",
       "      <td>0</td>\n",
       "    </tr>\n",
       "    <tr>\n",
       "      <th>...</th>\n",
       "      <td>...</td>\n",
       "      <td>...</td>\n",
       "      <td>...</td>\n",
       "      <td>...</td>\n",
       "      <td>...</td>\n",
       "      <td>...</td>\n",
       "      <td>...</td>\n",
       "      <td>...</td>\n",
       "      <td>...</td>\n",
       "      <td>...</td>\n",
       "      <td>...</td>\n",
       "      <td>...</td>\n",
       "      <td>...</td>\n",
       "      <td>...</td>\n",
       "      <td>...</td>\n",
       "      <td>...</td>\n",
       "      <td>...</td>\n",
       "      <td>...</td>\n",
       "      <td>...</td>\n",
       "      <td>...</td>\n",
       "      <td>...</td>\n",
       "    </tr>\n",
       "    <tr>\n",
       "      <th>284802</th>\n",
       "      <td>172786.0</td>\n",
       "      <td>-11.881118</td>\n",
       "      <td>10.071785</td>\n",
       "      <td>-9.834783</td>\n",
       "      <td>-2.066656</td>\n",
       "      <td>-5.364473</td>\n",
       "      <td>-2.606837</td>\n",
       "      <td>-4.918215</td>\n",
       "      <td>7.305334</td>\n",
       "      <td>1.914428</td>\n",
       "      <td>...</td>\n",
       "      <td>0.213454</td>\n",
       "      <td>0.111864</td>\n",
       "      <td>1.014480</td>\n",
       "      <td>-0.509348</td>\n",
       "      <td>1.436807</td>\n",
       "      <td>0.250034</td>\n",
       "      <td>0.943651</td>\n",
       "      <td>0.823731</td>\n",
       "      <td>0.77</td>\n",
       "      <td>0</td>\n",
       "    </tr>\n",
       "    <tr>\n",
       "      <th>284803</th>\n",
       "      <td>172787.0</td>\n",
       "      <td>-0.732789</td>\n",
       "      <td>-0.055080</td>\n",
       "      <td>2.035030</td>\n",
       "      <td>-0.738589</td>\n",
       "      <td>0.868229</td>\n",
       "      <td>1.058415</td>\n",
       "      <td>0.024330</td>\n",
       "      <td>0.294869</td>\n",
       "      <td>0.584800</td>\n",
       "      <td>...</td>\n",
       "      <td>0.214205</td>\n",
       "      <td>0.924384</td>\n",
       "      <td>0.012463</td>\n",
       "      <td>-1.016226</td>\n",
       "      <td>-0.606624</td>\n",
       "      <td>-0.395255</td>\n",
       "      <td>0.068472</td>\n",
       "      <td>-0.053527</td>\n",
       "      <td>24.79</td>\n",
       "      <td>0</td>\n",
       "    </tr>\n",
       "    <tr>\n",
       "      <th>284804</th>\n",
       "      <td>172788.0</td>\n",
       "      <td>1.919565</td>\n",
       "      <td>-0.301254</td>\n",
       "      <td>-3.249640</td>\n",
       "      <td>-0.557828</td>\n",
       "      <td>2.630515</td>\n",
       "      <td>3.031260</td>\n",
       "      <td>-0.296827</td>\n",
       "      <td>0.708417</td>\n",
       "      <td>0.432454</td>\n",
       "      <td>...</td>\n",
       "      <td>0.232045</td>\n",
       "      <td>0.578229</td>\n",
       "      <td>-0.037501</td>\n",
       "      <td>0.640134</td>\n",
       "      <td>0.265745</td>\n",
       "      <td>-0.087371</td>\n",
       "      <td>0.004455</td>\n",
       "      <td>-0.026561</td>\n",
       "      <td>67.88</td>\n",
       "      <td>0</td>\n",
       "    </tr>\n",
       "    <tr>\n",
       "      <th>284805</th>\n",
       "      <td>172788.0</td>\n",
       "      <td>-0.240440</td>\n",
       "      <td>0.530483</td>\n",
       "      <td>0.702510</td>\n",
       "      <td>0.689799</td>\n",
       "      <td>-0.377961</td>\n",
       "      <td>0.623708</td>\n",
       "      <td>-0.686180</td>\n",
       "      <td>0.679145</td>\n",
       "      <td>0.392087</td>\n",
       "      <td>...</td>\n",
       "      <td>0.265245</td>\n",
       "      <td>0.800049</td>\n",
       "      <td>-0.163298</td>\n",
       "      <td>0.123205</td>\n",
       "      <td>-0.569159</td>\n",
       "      <td>0.546668</td>\n",
       "      <td>0.108821</td>\n",
       "      <td>0.104533</td>\n",
       "      <td>10.00</td>\n",
       "      <td>0</td>\n",
       "    </tr>\n",
       "    <tr>\n",
       "      <th>284806</th>\n",
       "      <td>172792.0</td>\n",
       "      <td>-0.533413</td>\n",
       "      <td>-0.189733</td>\n",
       "      <td>0.703337</td>\n",
       "      <td>-0.506271</td>\n",
       "      <td>-0.012546</td>\n",
       "      <td>-0.649617</td>\n",
       "      <td>1.577006</td>\n",
       "      <td>-0.414650</td>\n",
       "      <td>0.486180</td>\n",
       "      <td>...</td>\n",
       "      <td>0.261057</td>\n",
       "      <td>0.643078</td>\n",
       "      <td>0.376777</td>\n",
       "      <td>0.008797</td>\n",
       "      <td>-0.473649</td>\n",
       "      <td>-0.818267</td>\n",
       "      <td>-0.002415</td>\n",
       "      <td>0.013649</td>\n",
       "      <td>217.00</td>\n",
       "      <td>0</td>\n",
       "    </tr>\n",
       "  </tbody>\n",
       "</table>\n",
       "<p>283726 rows × 31 columns</p>\n",
       "</div>"
      ],
      "text/plain": [
       "            Time         V1         V2        V3        V4        V5  \\\n",
       "0            0.0  -1.359807  -0.072781  2.536347  1.378155 -0.338321   \n",
       "1            0.0   1.191857   0.266151  0.166480  0.448154  0.060018   \n",
       "2            1.0  -1.358354  -1.340163  1.773209  0.379780 -0.503198   \n",
       "3            1.0  -0.966272  -0.185226  1.792993 -0.863291 -0.010309   \n",
       "4            2.0  -1.158233   0.877737  1.548718  0.403034 -0.407193   \n",
       "...          ...        ...        ...       ...       ...       ...   \n",
       "284802  172786.0 -11.881118  10.071785 -9.834783 -2.066656 -5.364473   \n",
       "284803  172787.0  -0.732789  -0.055080  2.035030 -0.738589  0.868229   \n",
       "284804  172788.0   1.919565  -0.301254 -3.249640 -0.557828  2.630515   \n",
       "284805  172788.0  -0.240440   0.530483  0.702510  0.689799 -0.377961   \n",
       "284806  172792.0  -0.533413  -0.189733  0.703337 -0.506271 -0.012546   \n",
       "\n",
       "              V6        V7        V8        V9  ...       V21       V22  \\\n",
       "0       0.462388  0.239599  0.098698  0.363787  ... -0.018307  0.277838   \n",
       "1      -0.082361 -0.078803  0.085102 -0.255425  ... -0.225775 -0.638672   \n",
       "2       1.800499  0.791461  0.247676 -1.514654  ...  0.247998  0.771679   \n",
       "3       1.247203  0.237609  0.377436 -1.387024  ... -0.108300  0.005274   \n",
       "4       0.095921  0.592941 -0.270533  0.817739  ... -0.009431  0.798278   \n",
       "...          ...       ...       ...       ...  ...       ...       ...   \n",
       "284802 -2.606837 -4.918215  7.305334  1.914428  ...  0.213454  0.111864   \n",
       "284803  1.058415  0.024330  0.294869  0.584800  ...  0.214205  0.924384   \n",
       "284804  3.031260 -0.296827  0.708417  0.432454  ...  0.232045  0.578229   \n",
       "284805  0.623708 -0.686180  0.679145  0.392087  ...  0.265245  0.800049   \n",
       "284806 -0.649617  1.577006 -0.414650  0.486180  ...  0.261057  0.643078   \n",
       "\n",
       "             V23       V24       V25       V26       V27       V28  Amount  \\\n",
       "0      -0.110474  0.066928  0.128539 -0.189115  0.133558 -0.021053  149.62   \n",
       "1       0.101288 -0.339846  0.167170  0.125895 -0.008983  0.014724    2.69   \n",
       "2       0.909412 -0.689281 -0.327642 -0.139097 -0.055353 -0.059752  378.66   \n",
       "3      -0.190321 -1.175575  0.647376 -0.221929  0.062723  0.061458  123.50   \n",
       "4      -0.137458  0.141267 -0.206010  0.502292  0.219422  0.215153   69.99   \n",
       "...          ...       ...       ...       ...       ...       ...     ...   \n",
       "284802  1.014480 -0.509348  1.436807  0.250034  0.943651  0.823731    0.77   \n",
       "284803  0.012463 -1.016226 -0.606624 -0.395255  0.068472 -0.053527   24.79   \n",
       "284804 -0.037501  0.640134  0.265745 -0.087371  0.004455 -0.026561   67.88   \n",
       "284805 -0.163298  0.123205 -0.569159  0.546668  0.108821  0.104533   10.00   \n",
       "284806  0.376777  0.008797 -0.473649 -0.818267 -0.002415  0.013649  217.00   \n",
       "\n",
       "        Class  \n",
       "0           0  \n",
       "1           0  \n",
       "2           0  \n",
       "3           0  \n",
       "4           0  \n",
       "...       ...  \n",
       "284802      0  \n",
       "284803      0  \n",
       "284804      0  \n",
       "284805      0  \n",
       "284806      0  \n",
       "\n",
       "[283726 rows x 31 columns]"
      ]
     },
     "execution_count": 4,
     "metadata": {},
     "output_type": "execute_result"
    }
   ],
   "source": [
    "df.drop_duplicates()"
   ]
  },
  {
   "cell_type": "code",
   "execution_count": 5,
   "id": "4d708e51",
   "metadata": {
    "execution": {
     "iopub.execute_input": "2023-09-03T20:13:35.339400Z",
     "iopub.status.busy": "2023-09-03T20:13:35.338661Z",
     "iopub.status.idle": "2023-09-03T20:13:35.360035Z",
     "shell.execute_reply": "2023-09-03T20:13:35.359018Z"
    },
    "id": "LQqR6CgThYkr",
    "outputId": "56a11b70-b9a3-4e5f-9260-92807d230371",
    "papermill": {
     "duration": 0.048261,
     "end_time": "2023-09-03T20:13:35.362462",
     "exception": false,
     "start_time": "2023-09-03T20:13:35.314201",
     "status": "completed"
    },
    "tags": []
   },
   "outputs": [
    {
     "data": {
      "text/plain": [
       "Time      0\n",
       "V1        0\n",
       "V2        0\n",
       "V3        0\n",
       "V4        0\n",
       "V5        0\n",
       "V6        0\n",
       "V7        0\n",
       "V8        0\n",
       "V9        0\n",
       "V10       0\n",
       "V11       0\n",
       "V12       0\n",
       "V13       0\n",
       "V14       0\n",
       "V15       0\n",
       "V16       0\n",
       "V17       0\n",
       "V18       0\n",
       "V19       0\n",
       "V20       0\n",
       "V21       0\n",
       "V22       0\n",
       "V23       0\n",
       "V24       0\n",
       "V25       0\n",
       "V26       0\n",
       "V27       0\n",
       "V28       0\n",
       "Amount    0\n",
       "Class     0\n",
       "dtype: int64"
      ]
     },
     "execution_count": 5,
     "metadata": {},
     "output_type": "execute_result"
    }
   ],
   "source": [
    "df.isnull().sum()"
   ]
  },
  {
   "cell_type": "code",
   "execution_count": 6,
   "id": "140e7cb0",
   "metadata": {
    "execution": {
     "iopub.execute_input": "2023-09-03T20:13:35.410211Z",
     "iopub.status.busy": "2023-09-03T20:13:35.409692Z",
     "iopub.status.idle": "2023-09-03T20:13:35.452965Z",
     "shell.execute_reply": "2023-09-03T20:13:35.452030Z"
    },
    "id": "liE6UQDbiSmt",
    "papermill": {
     "duration": 0.070122,
     "end_time": "2023-09-03T20:13:35.455586",
     "exception": false,
     "start_time": "2023-09-03T20:13:35.385464",
     "status": "completed"
    },
    "tags": []
   },
   "outputs": [],
   "source": [
    "df.dropna(inplace = True)"
   ]
  },
  {
   "cell_type": "markdown",
   "id": "7e5313c6",
   "metadata": {
    "id": "-7k_JyVDS656",
    "papermill": {
     "duration": 0.022353,
     "end_time": "2023-09-03T20:13:35.501436",
     "exception": false,
     "start_time": "2023-09-03T20:13:35.479083",
     "status": "completed"
    },
    "tags": []
   },
   "source": [
    "***\n",
    "<div style=\"color:white;\n",
    "           display:fill;\n",
    "           border-radius:5px;\n",
    "           background-color:#DA986B;\n",
    "           font-size:24px;\n",
    "           font-family:Nexa;\n",
    "           letter-spacing:0.5px\">\n",
    "        <p style=\"padding: 10px;\n",
    "              color:white;\">\n",
    "            <b>Modelling</b>\n",
    "        </p>\n",
    "</div>"
   ]
  },
  {
   "cell_type": "code",
   "execution_count": 7,
   "id": "f9531f43",
   "metadata": {
    "execution": {
     "iopub.execute_input": "2023-09-03T20:13:35.548920Z",
     "iopub.status.busy": "2023-09-03T20:13:35.548098Z",
     "iopub.status.idle": "2023-09-03T20:13:35.580422Z",
     "shell.execute_reply": "2023-09-03T20:13:35.579282Z"
    },
    "id": "Tkqv4-HYS657",
    "papermill": {
     "duration": 0.058811,
     "end_time": "2023-09-03T20:13:35.582733",
     "exception": false,
     "start_time": "2023-09-03T20:13:35.523922",
     "status": "completed"
    },
    "tags": []
   },
   "outputs": [],
   "source": [
    "x = df.drop('Class', axis = 1)\n",
    "y = df['Class']"
   ]
  },
  {
   "cell_type": "code",
   "execution_count": 8,
   "id": "abb15174",
   "metadata": {
    "execution": {
     "iopub.execute_input": "2023-09-03T20:13:35.630834Z",
     "iopub.status.busy": "2023-09-03T20:13:35.630428Z",
     "iopub.status.idle": "2023-09-03T20:13:35.730155Z",
     "shell.execute_reply": "2023-09-03T20:13:35.729027Z"
    },
    "id": "U_jlNkVVS657",
    "papermill": {
     "duration": 0.127108,
     "end_time": "2023-09-03T20:13:35.732885",
     "exception": false,
     "start_time": "2023-09-03T20:13:35.605777",
     "status": "completed"
    },
    "tags": []
   },
   "outputs": [],
   "source": [
    "x_train, x_test, y_train, y_test = train_test_split(x,y, test_size = .25, random_state = 42)"
   ]
  },
  {
   "cell_type": "code",
   "execution_count": 9,
   "id": "25684258",
   "metadata": {
    "execution": {
     "iopub.execute_input": "2023-09-03T20:13:35.780734Z",
     "iopub.status.busy": "2023-09-03T20:13:35.780334Z",
     "iopub.status.idle": "2023-09-03T20:13:35.876582Z",
     "shell.execute_reply": "2023-09-03T20:13:35.875718Z"
    },
    "id": "KyxfSwk3S657",
    "papermill": {
     "duration": 0.123103,
     "end_time": "2023-09-03T20:13:35.879130",
     "exception": false,
     "start_time": "2023-09-03T20:13:35.756027",
     "status": "completed"
    },
    "tags": []
   },
   "outputs": [],
   "source": [
    "from sklearn.linear_model import LogisticRegression"
   ]
  },
  {
   "cell_type": "code",
   "execution_count": 10,
   "id": "2e667cb5",
   "metadata": {
    "execution": {
     "iopub.execute_input": "2023-09-03T20:13:35.927946Z",
     "iopub.status.busy": "2023-09-03T20:13:35.927028Z",
     "iopub.status.idle": "2023-09-03T20:13:35.931524Z",
     "shell.execute_reply": "2023-09-03T20:13:35.930533Z"
    },
    "id": "RYA4OxeMS657",
    "papermill": {
     "duration": 0.030968,
     "end_time": "2023-09-03T20:13:35.933583",
     "exception": false,
     "start_time": "2023-09-03T20:13:35.902615",
     "status": "completed"
    },
    "tags": []
   },
   "outputs": [],
   "source": [
    "lg = LogisticRegression()"
   ]
  },
  {
   "cell_type": "code",
   "execution_count": 11,
   "id": "d9914f61",
   "metadata": {
    "execution": {
     "iopub.execute_input": "2023-09-03T20:13:35.983003Z",
     "iopub.status.busy": "2023-09-03T20:13:35.981843Z",
     "iopub.status.idle": "2023-09-03T20:13:39.726490Z",
     "shell.execute_reply": "2023-09-03T20:13:39.725026Z"
    },
    "id": "1VqVokQ-S657",
    "outputId": "1d0b8faf-0e56-4a8d-8d9e-c00918eaccb9",
    "papermill": {
     "duration": 3.774543,
     "end_time": "2023-09-03T20:13:39.731945",
     "exception": false,
     "start_time": "2023-09-03T20:13:35.957402",
     "status": "completed"
    },
    "tags": []
   },
   "outputs": [
    {
     "name": "stderr",
     "output_type": "stream",
     "text": [
      "/opt/conda/lib/python3.10/site-packages/sklearn/linear_model/_logistic.py:458: ConvergenceWarning: lbfgs failed to converge (status=1):\n",
      "STOP: TOTAL NO. of ITERATIONS REACHED LIMIT.\n",
      "\n",
      "Increase the number of iterations (max_iter) or scale the data as shown in:\n",
      "    https://scikit-learn.org/stable/modules/preprocessing.html\n",
      "Please also refer to the documentation for alternative solver options:\n",
      "    https://scikit-learn.org/stable/modules/linear_model.html#logistic-regression\n",
      "  n_iter_i = _check_optimize_result(\n"
     ]
    },
    {
     "data": {
      "text/html": [
       "<style>#sk-container-id-1 {color: black;background-color: white;}#sk-container-id-1 pre{padding: 0;}#sk-container-id-1 div.sk-toggleable {background-color: white;}#sk-container-id-1 label.sk-toggleable__label {cursor: pointer;display: block;width: 100%;margin-bottom: 0;padding: 0.3em;box-sizing: border-box;text-align: center;}#sk-container-id-1 label.sk-toggleable__label-arrow:before {content: \"▸\";float: left;margin-right: 0.25em;color: #696969;}#sk-container-id-1 label.sk-toggleable__label-arrow:hover:before {color: black;}#sk-container-id-1 div.sk-estimator:hover label.sk-toggleable__label-arrow:before {color: black;}#sk-container-id-1 div.sk-toggleable__content {max-height: 0;max-width: 0;overflow: hidden;text-align: left;background-color: #f0f8ff;}#sk-container-id-1 div.sk-toggleable__content pre {margin: 0.2em;color: black;border-radius: 0.25em;background-color: #f0f8ff;}#sk-container-id-1 input.sk-toggleable__control:checked~div.sk-toggleable__content {max-height: 200px;max-width: 100%;overflow: auto;}#sk-container-id-1 input.sk-toggleable__control:checked~label.sk-toggleable__label-arrow:before {content: \"▾\";}#sk-container-id-1 div.sk-estimator input.sk-toggleable__control:checked~label.sk-toggleable__label {background-color: #d4ebff;}#sk-container-id-1 div.sk-label input.sk-toggleable__control:checked~label.sk-toggleable__label {background-color: #d4ebff;}#sk-container-id-1 input.sk-hidden--visually {border: 0;clip: rect(1px 1px 1px 1px);clip: rect(1px, 1px, 1px, 1px);height: 1px;margin: -1px;overflow: hidden;padding: 0;position: absolute;width: 1px;}#sk-container-id-1 div.sk-estimator {font-family: monospace;background-color: #f0f8ff;border: 1px dotted black;border-radius: 0.25em;box-sizing: border-box;margin-bottom: 0.5em;}#sk-container-id-1 div.sk-estimator:hover {background-color: #d4ebff;}#sk-container-id-1 div.sk-parallel-item::after {content: \"\";width: 100%;border-bottom: 1px solid gray;flex-grow: 1;}#sk-container-id-1 div.sk-label:hover label.sk-toggleable__label {background-color: #d4ebff;}#sk-container-id-1 div.sk-serial::before {content: \"\";position: absolute;border-left: 1px solid gray;box-sizing: border-box;top: 0;bottom: 0;left: 50%;z-index: 0;}#sk-container-id-1 div.sk-serial {display: flex;flex-direction: column;align-items: center;background-color: white;padding-right: 0.2em;padding-left: 0.2em;position: relative;}#sk-container-id-1 div.sk-item {position: relative;z-index: 1;}#sk-container-id-1 div.sk-parallel {display: flex;align-items: stretch;justify-content: center;background-color: white;position: relative;}#sk-container-id-1 div.sk-item::before, #sk-container-id-1 div.sk-parallel-item::before {content: \"\";position: absolute;border-left: 1px solid gray;box-sizing: border-box;top: 0;bottom: 0;left: 50%;z-index: -1;}#sk-container-id-1 div.sk-parallel-item {display: flex;flex-direction: column;z-index: 1;position: relative;background-color: white;}#sk-container-id-1 div.sk-parallel-item:first-child::after {align-self: flex-end;width: 50%;}#sk-container-id-1 div.sk-parallel-item:last-child::after {align-self: flex-start;width: 50%;}#sk-container-id-1 div.sk-parallel-item:only-child::after {width: 0;}#sk-container-id-1 div.sk-dashed-wrapped {border: 1px dashed gray;margin: 0 0.4em 0.5em 0.4em;box-sizing: border-box;padding-bottom: 0.4em;background-color: white;}#sk-container-id-1 div.sk-label label {font-family: monospace;font-weight: bold;display: inline-block;line-height: 1.2em;}#sk-container-id-1 div.sk-label-container {text-align: center;}#sk-container-id-1 div.sk-container {/* jupyter's `normalize.less` sets `[hidden] { display: none; }` but bootstrap.min.css set `[hidden] { display: none !important; }` so we also need the `!important` here to be able to override the default hidden behavior on the sphinx rendered scikit-learn.org. See: https://github.com/scikit-learn/scikit-learn/issues/21755 */display: inline-block !important;position: relative;}#sk-container-id-1 div.sk-text-repr-fallback {display: none;}</style><div id=\"sk-container-id-1\" class=\"sk-top-container\"><div class=\"sk-text-repr-fallback\"><pre>LogisticRegression()</pre><b>In a Jupyter environment, please rerun this cell to show the HTML representation or trust the notebook. <br />On GitHub, the HTML representation is unable to render, please try loading this page with nbviewer.org.</b></div><div class=\"sk-container\" hidden><div class=\"sk-item\"><div class=\"sk-estimator sk-toggleable\"><input class=\"sk-toggleable__control sk-hidden--visually\" id=\"sk-estimator-id-1\" type=\"checkbox\" checked><label for=\"sk-estimator-id-1\" class=\"sk-toggleable__label sk-toggleable__label-arrow\">LogisticRegression</label><div class=\"sk-toggleable__content\"><pre>LogisticRegression()</pre></div></div></div></div></div>"
      ],
      "text/plain": [
       "LogisticRegression()"
      ]
     },
     "execution_count": 11,
     "metadata": {},
     "output_type": "execute_result"
    }
   ],
   "source": [
    "lg.fit(x_train, y_train)"
   ]
  },
  {
   "cell_type": "code",
   "execution_count": 12,
   "id": "1efe0e1e",
   "metadata": {
    "execution": {
     "iopub.execute_input": "2023-09-03T20:13:39.828209Z",
     "iopub.status.busy": "2023-09-03T20:13:39.827195Z",
     "iopub.status.idle": "2023-09-03T20:13:39.909662Z",
     "shell.execute_reply": "2023-09-03T20:13:39.908543Z"
    },
    "id": "q7NsaW5HS658",
    "outputId": "8ed3ee6d-ad42-42b1-e5c6-6e3974979542",
    "papermill": {
     "duration": 0.132101,
     "end_time": "2023-09-03T20:13:39.913777",
     "exception": false,
     "start_time": "2023-09-03T20:13:39.781676",
     "status": "completed"
    },
    "tags": []
   },
   "outputs": [
    {
     "name": "stdout",
     "output_type": "stream",
     "text": [
      "0.9989841061772898\n"
     ]
    },
    {
     "data": {
      "text/plain": [
       "0.9987500351113733"
      ]
     },
     "execution_count": 12,
     "metadata": {},
     "output_type": "execute_result"
    }
   ],
   "source": [
    "print(lg.score(x_train, y_train))\n",
    "lg.score(x_test, y_test)"
   ]
  },
  {
   "cell_type": "markdown",
   "id": "fb4728fa",
   "metadata": {
    "id": "F46vQl6QS658",
    "papermill": {
     "duration": 0.050441,
     "end_time": "2023-09-03T20:13:40.014343",
     "exception": false,
     "start_time": "2023-09-03T20:13:39.963902",
     "status": "completed"
    },
    "tags": []
   },
   "source": [
    "## Oversampling"
   ]
  },
  {
   "cell_type": "code",
   "execution_count": 13,
   "id": "ad3cdbd0",
   "metadata": {
    "execution": {
     "iopub.execute_input": "2023-09-03T20:13:40.064410Z",
     "iopub.status.busy": "2023-09-03T20:13:40.064039Z",
     "iopub.status.idle": "2023-09-03T20:13:40.533984Z",
     "shell.execute_reply": "2023-09-03T20:13:40.532792Z"
    },
    "id": "PE7UANmTS658",
    "papermill": {
     "duration": 0.498011,
     "end_time": "2023-09-03T20:13:40.536589",
     "exception": false,
     "start_time": "2023-09-03T20:13:40.038578",
     "status": "completed"
    },
    "tags": []
   },
   "outputs": [],
   "source": [
    "from imblearn.over_sampling import SMOTE"
   ]
  },
  {
   "cell_type": "code",
   "execution_count": 14,
   "id": "c0cdbf4f",
   "metadata": {
    "execution": {
     "iopub.execute_input": "2023-09-03T20:13:40.586248Z",
     "iopub.status.busy": "2023-09-03T20:13:40.585211Z",
     "iopub.status.idle": "2023-09-03T20:13:41.055699Z",
     "shell.execute_reply": "2023-09-03T20:13:41.054481Z"
    },
    "id": "-WW3xTMkS658",
    "papermill": {
     "duration": 0.498173,
     "end_time": "2023-09-03T20:13:41.058463",
     "exception": false,
     "start_time": "2023-09-03T20:13:40.560290",
     "status": "completed"
    },
    "tags": []
   },
   "outputs": [],
   "source": [
    "smote = SMOTE(random_state=42)\n",
    "x_resampled, y_resampled = smote.fit_resample(x_train, y_train)"
   ]
  },
  {
   "cell_type": "code",
   "execution_count": 15,
   "id": "bf477b98",
   "metadata": {
    "execution": {
     "iopub.execute_input": "2023-09-03T20:13:41.107636Z",
     "iopub.status.busy": "2023-09-03T20:13:41.106758Z",
     "iopub.status.idle": "2023-09-03T20:13:47.591601Z",
     "shell.execute_reply": "2023-09-03T20:13:47.590035Z"
    },
    "id": "Mv_YiGomS658",
    "outputId": "b89683a5-6d0c-40d8-db05-4c109f303fb7",
    "papermill": {
     "duration": 6.513043,
     "end_time": "2023-09-03T20:13:47.595467",
     "exception": false,
     "start_time": "2023-09-03T20:13:41.082424",
     "status": "completed"
    },
    "tags": []
   },
   "outputs": [
    {
     "data": {
      "text/html": [
       "<style>#sk-container-id-2 {color: black;background-color: white;}#sk-container-id-2 pre{padding: 0;}#sk-container-id-2 div.sk-toggleable {background-color: white;}#sk-container-id-2 label.sk-toggleable__label {cursor: pointer;display: block;width: 100%;margin-bottom: 0;padding: 0.3em;box-sizing: border-box;text-align: center;}#sk-container-id-2 label.sk-toggleable__label-arrow:before {content: \"▸\";float: left;margin-right: 0.25em;color: #696969;}#sk-container-id-2 label.sk-toggleable__label-arrow:hover:before {color: black;}#sk-container-id-2 div.sk-estimator:hover label.sk-toggleable__label-arrow:before {color: black;}#sk-container-id-2 div.sk-toggleable__content {max-height: 0;max-width: 0;overflow: hidden;text-align: left;background-color: #f0f8ff;}#sk-container-id-2 div.sk-toggleable__content pre {margin: 0.2em;color: black;border-radius: 0.25em;background-color: #f0f8ff;}#sk-container-id-2 input.sk-toggleable__control:checked~div.sk-toggleable__content {max-height: 200px;max-width: 100%;overflow: auto;}#sk-container-id-2 input.sk-toggleable__control:checked~label.sk-toggleable__label-arrow:before {content: \"▾\";}#sk-container-id-2 div.sk-estimator input.sk-toggleable__control:checked~label.sk-toggleable__label {background-color: #d4ebff;}#sk-container-id-2 div.sk-label input.sk-toggleable__control:checked~label.sk-toggleable__label {background-color: #d4ebff;}#sk-container-id-2 input.sk-hidden--visually {border: 0;clip: rect(1px 1px 1px 1px);clip: rect(1px, 1px, 1px, 1px);height: 1px;margin: -1px;overflow: hidden;padding: 0;position: absolute;width: 1px;}#sk-container-id-2 div.sk-estimator {font-family: monospace;background-color: #f0f8ff;border: 1px dotted black;border-radius: 0.25em;box-sizing: border-box;margin-bottom: 0.5em;}#sk-container-id-2 div.sk-estimator:hover {background-color: #d4ebff;}#sk-container-id-2 div.sk-parallel-item::after {content: \"\";width: 100%;border-bottom: 1px solid gray;flex-grow: 1;}#sk-container-id-2 div.sk-label:hover label.sk-toggleable__label {background-color: #d4ebff;}#sk-container-id-2 div.sk-serial::before {content: \"\";position: absolute;border-left: 1px solid gray;box-sizing: border-box;top: 0;bottom: 0;left: 50%;z-index: 0;}#sk-container-id-2 div.sk-serial {display: flex;flex-direction: column;align-items: center;background-color: white;padding-right: 0.2em;padding-left: 0.2em;position: relative;}#sk-container-id-2 div.sk-item {position: relative;z-index: 1;}#sk-container-id-2 div.sk-parallel {display: flex;align-items: stretch;justify-content: center;background-color: white;position: relative;}#sk-container-id-2 div.sk-item::before, #sk-container-id-2 div.sk-parallel-item::before {content: \"\";position: absolute;border-left: 1px solid gray;box-sizing: border-box;top: 0;bottom: 0;left: 50%;z-index: -1;}#sk-container-id-2 div.sk-parallel-item {display: flex;flex-direction: column;z-index: 1;position: relative;background-color: white;}#sk-container-id-2 div.sk-parallel-item:first-child::after {align-self: flex-end;width: 50%;}#sk-container-id-2 div.sk-parallel-item:last-child::after {align-self: flex-start;width: 50%;}#sk-container-id-2 div.sk-parallel-item:only-child::after {width: 0;}#sk-container-id-2 div.sk-dashed-wrapped {border: 1px dashed gray;margin: 0 0.4em 0.5em 0.4em;box-sizing: border-box;padding-bottom: 0.4em;background-color: white;}#sk-container-id-2 div.sk-label label {font-family: monospace;font-weight: bold;display: inline-block;line-height: 1.2em;}#sk-container-id-2 div.sk-label-container {text-align: center;}#sk-container-id-2 div.sk-container {/* jupyter's `normalize.less` sets `[hidden] { display: none; }` but bootstrap.min.css set `[hidden] { display: none !important; }` so we also need the `!important` here to be able to override the default hidden behavior on the sphinx rendered scikit-learn.org. See: https://github.com/scikit-learn/scikit-learn/issues/21755 */display: inline-block !important;position: relative;}#sk-container-id-2 div.sk-text-repr-fallback {display: none;}</style><div id=\"sk-container-id-2\" class=\"sk-top-container\"><div class=\"sk-text-repr-fallback\"><pre>LogisticRegression()</pre><b>In a Jupyter environment, please rerun this cell to show the HTML representation or trust the notebook. <br />On GitHub, the HTML representation is unable to render, please try loading this page with nbviewer.org.</b></div><div class=\"sk-container\" hidden><div class=\"sk-item\"><div class=\"sk-estimator sk-toggleable\"><input class=\"sk-toggleable__control sk-hidden--visually\" id=\"sk-estimator-id-2\" type=\"checkbox\" checked><label for=\"sk-estimator-id-2\" class=\"sk-toggleable__label sk-toggleable__label-arrow\">LogisticRegression</label><div class=\"sk-toggleable__content\"><pre>LogisticRegression()</pre></div></div></div></div></div>"
      ],
      "text/plain": [
       "LogisticRegression()"
      ]
     },
     "execution_count": 15,
     "metadata": {},
     "output_type": "execute_result"
    }
   ],
   "source": [
    "lg.fit(x_resampled, y_resampled)"
   ]
  },
  {
   "cell_type": "code",
   "execution_count": 16,
   "id": "29c09bd4",
   "metadata": {
    "execution": {
     "iopub.execute_input": "2023-09-03T20:13:47.698493Z",
     "iopub.status.busy": "2023-09-03T20:13:47.697794Z",
     "iopub.status.idle": "2023-09-03T20:13:47.830574Z",
     "shell.execute_reply": "2023-09-03T20:13:47.829037Z"
    },
    "id": "WIeXylNUS658",
    "outputId": "4f2b66c3-d190-41fe-f0a2-67fe8dfdf97f",
    "papermill": {
     "duration": 0.189368,
     "end_time": "2023-09-03T20:13:47.834985",
     "exception": false,
     "start_time": "2023-09-03T20:13:47.645617",
     "status": "completed"
    },
    "tags": []
   },
   "outputs": [
    {
     "name": "stdout",
     "output_type": "stream",
     "text": [
      "0.9720062281335297\n"
     ]
    },
    {
     "data": {
      "text/plain": [
       "0.9806185219516306"
      ]
     },
     "execution_count": 16,
     "metadata": {},
     "output_type": "execute_result"
    }
   ],
   "source": [
    "print(lg.score(x_resampled, y_resampled))\n",
    "lg.score(x_test, y_test)"
   ]
  },
  {
   "cell_type": "markdown",
   "id": "d762133b",
   "metadata": {
    "id": "-71F34pbS659",
    "papermill": {
     "duration": 0.046992,
     "end_time": "2023-09-03T20:13:47.934685",
     "exception": false,
     "start_time": "2023-09-03T20:13:47.887693",
     "status": "completed"
    },
    "tags": []
   },
   "source": [
    "## Undersampling"
   ]
  },
  {
   "cell_type": "code",
   "execution_count": 17,
   "id": "af590b2d",
   "metadata": {
    "execution": {
     "iopub.execute_input": "2023-09-03T20:13:47.984913Z",
     "iopub.status.busy": "2023-09-03T20:13:47.984471Z",
     "iopub.status.idle": "2023-09-03T20:13:47.989307Z",
     "shell.execute_reply": "2023-09-03T20:13:47.988458Z"
    },
    "id": "-Wmj-X78S659",
    "papermill": {
     "duration": 0.032258,
     "end_time": "2023-09-03T20:13:47.991264",
     "exception": false,
     "start_time": "2023-09-03T20:13:47.959006",
     "status": "completed"
    },
    "tags": []
   },
   "outputs": [],
   "source": [
    "from imblearn.under_sampling import RandomUnderSampler"
   ]
  },
  {
   "cell_type": "code",
   "execution_count": 18,
   "id": "45954651",
   "metadata": {
    "execution": {
     "iopub.execute_input": "2023-09-03T20:13:48.042093Z",
     "iopub.status.busy": "2023-09-03T20:13:48.041211Z",
     "iopub.status.idle": "2023-09-03T20:13:48.118704Z",
     "shell.execute_reply": "2023-09-03T20:13:48.117532Z"
    },
    "id": "Lp9FZrXJS659",
    "papermill": {
     "duration": 0.106009,
     "end_time": "2023-09-03T20:13:48.121656",
     "exception": false,
     "start_time": "2023-09-03T20:13:48.015647",
     "status": "completed"
    },
    "tags": []
   },
   "outputs": [],
   "source": [
    "undersampler = RandomUnderSampler(sampling_strategy='auto', random_state=42)\n",
    "x_undersampled, y_undersampled = undersampler.fit_resample(x_train, y_train)"
   ]
  },
  {
   "cell_type": "code",
   "execution_count": 19,
   "id": "1e39055d",
   "metadata": {
    "execution": {
     "iopub.execute_input": "2023-09-03T20:13:48.171594Z",
     "iopub.status.busy": "2023-09-03T20:13:48.171193Z",
     "iopub.status.idle": "2023-09-03T20:13:48.217136Z",
     "shell.execute_reply": "2023-09-03T20:13:48.216085Z"
    },
    "id": "eDh_-q6qS659",
    "outputId": "2d8854bf-3f0b-4205-f138-6e4e192d86d1",
    "papermill": {
     "duration": 0.074981,
     "end_time": "2023-09-03T20:13:48.220674",
     "exception": false,
     "start_time": "2023-09-03T20:13:48.145693",
     "status": "completed"
    },
    "tags": []
   },
   "outputs": [
    {
     "data": {
      "text/html": [
       "<style>#sk-container-id-3 {color: black;background-color: white;}#sk-container-id-3 pre{padding: 0;}#sk-container-id-3 div.sk-toggleable {background-color: white;}#sk-container-id-3 label.sk-toggleable__label {cursor: pointer;display: block;width: 100%;margin-bottom: 0;padding: 0.3em;box-sizing: border-box;text-align: center;}#sk-container-id-3 label.sk-toggleable__label-arrow:before {content: \"▸\";float: left;margin-right: 0.25em;color: #696969;}#sk-container-id-3 label.sk-toggleable__label-arrow:hover:before {color: black;}#sk-container-id-3 div.sk-estimator:hover label.sk-toggleable__label-arrow:before {color: black;}#sk-container-id-3 div.sk-toggleable__content {max-height: 0;max-width: 0;overflow: hidden;text-align: left;background-color: #f0f8ff;}#sk-container-id-3 div.sk-toggleable__content pre {margin: 0.2em;color: black;border-radius: 0.25em;background-color: #f0f8ff;}#sk-container-id-3 input.sk-toggleable__control:checked~div.sk-toggleable__content {max-height: 200px;max-width: 100%;overflow: auto;}#sk-container-id-3 input.sk-toggleable__control:checked~label.sk-toggleable__label-arrow:before {content: \"▾\";}#sk-container-id-3 div.sk-estimator input.sk-toggleable__control:checked~label.sk-toggleable__label {background-color: #d4ebff;}#sk-container-id-3 div.sk-label input.sk-toggleable__control:checked~label.sk-toggleable__label {background-color: #d4ebff;}#sk-container-id-3 input.sk-hidden--visually {border: 0;clip: rect(1px 1px 1px 1px);clip: rect(1px, 1px, 1px, 1px);height: 1px;margin: -1px;overflow: hidden;padding: 0;position: absolute;width: 1px;}#sk-container-id-3 div.sk-estimator {font-family: monospace;background-color: #f0f8ff;border: 1px dotted black;border-radius: 0.25em;box-sizing: border-box;margin-bottom: 0.5em;}#sk-container-id-3 div.sk-estimator:hover {background-color: #d4ebff;}#sk-container-id-3 div.sk-parallel-item::after {content: \"\";width: 100%;border-bottom: 1px solid gray;flex-grow: 1;}#sk-container-id-3 div.sk-label:hover label.sk-toggleable__label {background-color: #d4ebff;}#sk-container-id-3 div.sk-serial::before {content: \"\";position: absolute;border-left: 1px solid gray;box-sizing: border-box;top: 0;bottom: 0;left: 50%;z-index: 0;}#sk-container-id-3 div.sk-serial {display: flex;flex-direction: column;align-items: center;background-color: white;padding-right: 0.2em;padding-left: 0.2em;position: relative;}#sk-container-id-3 div.sk-item {position: relative;z-index: 1;}#sk-container-id-3 div.sk-parallel {display: flex;align-items: stretch;justify-content: center;background-color: white;position: relative;}#sk-container-id-3 div.sk-item::before, #sk-container-id-3 div.sk-parallel-item::before {content: \"\";position: absolute;border-left: 1px solid gray;box-sizing: border-box;top: 0;bottom: 0;left: 50%;z-index: -1;}#sk-container-id-3 div.sk-parallel-item {display: flex;flex-direction: column;z-index: 1;position: relative;background-color: white;}#sk-container-id-3 div.sk-parallel-item:first-child::after {align-self: flex-end;width: 50%;}#sk-container-id-3 div.sk-parallel-item:last-child::after {align-self: flex-start;width: 50%;}#sk-container-id-3 div.sk-parallel-item:only-child::after {width: 0;}#sk-container-id-3 div.sk-dashed-wrapped {border: 1px dashed gray;margin: 0 0.4em 0.5em 0.4em;box-sizing: border-box;padding-bottom: 0.4em;background-color: white;}#sk-container-id-3 div.sk-label label {font-family: monospace;font-weight: bold;display: inline-block;line-height: 1.2em;}#sk-container-id-3 div.sk-label-container {text-align: center;}#sk-container-id-3 div.sk-container {/* jupyter's `normalize.less` sets `[hidden] { display: none; }` but bootstrap.min.css set `[hidden] { display: none !important; }` so we also need the `!important` here to be able to override the default hidden behavior on the sphinx rendered scikit-learn.org. See: https://github.com/scikit-learn/scikit-learn/issues/21755 */display: inline-block !important;position: relative;}#sk-container-id-3 div.sk-text-repr-fallback {display: none;}</style><div id=\"sk-container-id-3\" class=\"sk-top-container\"><div class=\"sk-text-repr-fallback\"><pre>LogisticRegression()</pre><b>In a Jupyter environment, please rerun this cell to show the HTML representation or trust the notebook. <br />On GitHub, the HTML representation is unable to render, please try loading this page with nbviewer.org.</b></div><div class=\"sk-container\" hidden><div class=\"sk-item\"><div class=\"sk-estimator sk-toggleable\"><input class=\"sk-toggleable__control sk-hidden--visually\" id=\"sk-estimator-id-3\" type=\"checkbox\" checked><label for=\"sk-estimator-id-3\" class=\"sk-toggleable__label sk-toggleable__label-arrow\">LogisticRegression</label><div class=\"sk-toggleable__content\"><pre>LogisticRegression()</pre></div></div></div></div></div>"
      ],
      "text/plain": [
       "LogisticRegression()"
      ]
     },
     "execution_count": 19,
     "metadata": {},
     "output_type": "execute_result"
    }
   ],
   "source": [
    "lg.fit(x_undersampled, y_undersampled)"
   ]
  },
  {
   "cell_type": "code",
   "execution_count": 20,
   "id": "8df0a38e",
   "metadata": {
    "execution": {
     "iopub.execute_input": "2023-09-03T20:13:48.324891Z",
     "iopub.status.busy": "2023-09-03T20:13:48.324229Z",
     "iopub.status.idle": "2023-09-03T20:13:48.360416Z",
     "shell.execute_reply": "2023-09-03T20:13:48.359311Z"
    },
    "id": "dIFbvmMKS659",
    "outputId": "af185ef1-db8d-43d2-9c40-e973cdb20de2",
    "papermill": {
     "duration": 0.092072,
     "end_time": "2023-09-03T20:13:48.363518",
     "exception": false,
     "start_time": "2023-09-03T20:13:48.271446",
     "status": "completed"
    },
    "tags": []
   },
   "outputs": [
    {
     "name": "stdout",
     "output_type": "stream",
     "text": [
      "0.920844327176781\n"
     ]
    },
    {
     "data": {
      "text/plain": [
       "0.9458161287604281"
      ]
     },
     "execution_count": 20,
     "metadata": {},
     "output_type": "execute_result"
    }
   ],
   "source": [
    "print(lg.score(x_undersampled, y_undersampled))\n",
    "lg.score(x_test, y_test)"
   ]
  },
  {
   "cell_type": "code",
   "execution_count": 21,
   "id": "6834cea9",
   "metadata": {
    "execution": {
     "iopub.execute_input": "2023-09-03T20:13:48.473375Z",
     "iopub.status.busy": "2023-09-03T20:13:48.472949Z",
     "iopub.status.idle": "2023-09-03T20:13:48.650523Z",
     "shell.execute_reply": "2023-09-03T20:13:48.649414Z"
    },
    "id": "P3l8Q_25S659",
    "papermill": {
     "duration": 0.239005,
     "end_time": "2023-09-03T20:13:48.653920",
     "exception": false,
     "start_time": "2023-09-03T20:13:48.414915",
     "status": "completed"
    },
    "tags": []
   },
   "outputs": [],
   "source": [
    "from xgboost import XGBClassifier"
   ]
  },
  {
   "cell_type": "code",
   "execution_count": 22,
   "id": "944342ad",
   "metadata": {
    "execution": {
     "iopub.execute_input": "2023-09-03T20:13:48.705243Z",
     "iopub.status.busy": "2023-09-03T20:13:48.704555Z",
     "iopub.status.idle": "2023-09-03T20:13:48.709280Z",
     "shell.execute_reply": "2023-09-03T20:13:48.708519Z"
    },
    "id": "n_2bCqY7S659",
    "papermill": {
     "duration": 0.032548,
     "end_time": "2023-09-03T20:13:48.711382",
     "exception": false,
     "start_time": "2023-09-03T20:13:48.678834",
     "status": "completed"
    },
    "tags": []
   },
   "outputs": [],
   "source": [
    "xgb = XGBClassifier(n_estimators = 25, max_depth =  4, learning_rate = 0.29)"
   ]
  },
  {
   "cell_type": "code",
   "execution_count": 23,
   "id": "1c79c4b3",
   "metadata": {
    "execution": {
     "iopub.execute_input": "2023-09-03T20:13:48.762179Z",
     "iopub.status.busy": "2023-09-03T20:13:48.761492Z",
     "iopub.status.idle": "2023-09-03T20:14:15.476183Z",
     "shell.execute_reply": "2023-09-03T20:14:15.475286Z"
    },
    "id": "-gP43E1NS659",
    "outputId": "6ac5bc64-68bb-4dd1-be5d-40a580bde8e7",
    "papermill": {
     "duration": 26.742513,
     "end_time": "2023-09-03T20:14:15.478466",
     "exception": false,
     "start_time": "2023-09-03T20:13:48.735953",
     "status": "completed"
    },
    "tags": []
   },
   "outputs": [
    {
     "data": {
      "text/html": [
       "<style>#sk-container-id-4 {color: black;background-color: white;}#sk-container-id-4 pre{padding: 0;}#sk-container-id-4 div.sk-toggleable {background-color: white;}#sk-container-id-4 label.sk-toggleable__label {cursor: pointer;display: block;width: 100%;margin-bottom: 0;padding: 0.3em;box-sizing: border-box;text-align: center;}#sk-container-id-4 label.sk-toggleable__label-arrow:before {content: \"▸\";float: left;margin-right: 0.25em;color: #696969;}#sk-container-id-4 label.sk-toggleable__label-arrow:hover:before {color: black;}#sk-container-id-4 div.sk-estimator:hover label.sk-toggleable__label-arrow:before {color: black;}#sk-container-id-4 div.sk-toggleable__content {max-height: 0;max-width: 0;overflow: hidden;text-align: left;background-color: #f0f8ff;}#sk-container-id-4 div.sk-toggleable__content pre {margin: 0.2em;color: black;border-radius: 0.25em;background-color: #f0f8ff;}#sk-container-id-4 input.sk-toggleable__control:checked~div.sk-toggleable__content {max-height: 200px;max-width: 100%;overflow: auto;}#sk-container-id-4 input.sk-toggleable__control:checked~label.sk-toggleable__label-arrow:before {content: \"▾\";}#sk-container-id-4 div.sk-estimator input.sk-toggleable__control:checked~label.sk-toggleable__label {background-color: #d4ebff;}#sk-container-id-4 div.sk-label input.sk-toggleable__control:checked~label.sk-toggleable__label {background-color: #d4ebff;}#sk-container-id-4 input.sk-hidden--visually {border: 0;clip: rect(1px 1px 1px 1px);clip: rect(1px, 1px, 1px, 1px);height: 1px;margin: -1px;overflow: hidden;padding: 0;position: absolute;width: 1px;}#sk-container-id-4 div.sk-estimator {font-family: monospace;background-color: #f0f8ff;border: 1px dotted black;border-radius: 0.25em;box-sizing: border-box;margin-bottom: 0.5em;}#sk-container-id-4 div.sk-estimator:hover {background-color: #d4ebff;}#sk-container-id-4 div.sk-parallel-item::after {content: \"\";width: 100%;border-bottom: 1px solid gray;flex-grow: 1;}#sk-container-id-4 div.sk-label:hover label.sk-toggleable__label {background-color: #d4ebff;}#sk-container-id-4 div.sk-serial::before {content: \"\";position: absolute;border-left: 1px solid gray;box-sizing: border-box;top: 0;bottom: 0;left: 50%;z-index: 0;}#sk-container-id-4 div.sk-serial {display: flex;flex-direction: column;align-items: center;background-color: white;padding-right: 0.2em;padding-left: 0.2em;position: relative;}#sk-container-id-4 div.sk-item {position: relative;z-index: 1;}#sk-container-id-4 div.sk-parallel {display: flex;align-items: stretch;justify-content: center;background-color: white;position: relative;}#sk-container-id-4 div.sk-item::before, #sk-container-id-4 div.sk-parallel-item::before {content: \"\";position: absolute;border-left: 1px solid gray;box-sizing: border-box;top: 0;bottom: 0;left: 50%;z-index: -1;}#sk-container-id-4 div.sk-parallel-item {display: flex;flex-direction: column;z-index: 1;position: relative;background-color: white;}#sk-container-id-4 div.sk-parallel-item:first-child::after {align-self: flex-end;width: 50%;}#sk-container-id-4 div.sk-parallel-item:last-child::after {align-self: flex-start;width: 50%;}#sk-container-id-4 div.sk-parallel-item:only-child::after {width: 0;}#sk-container-id-4 div.sk-dashed-wrapped {border: 1px dashed gray;margin: 0 0.4em 0.5em 0.4em;box-sizing: border-box;padding-bottom: 0.4em;background-color: white;}#sk-container-id-4 div.sk-label label {font-family: monospace;font-weight: bold;display: inline-block;line-height: 1.2em;}#sk-container-id-4 div.sk-label-container {text-align: center;}#sk-container-id-4 div.sk-container {/* jupyter's `normalize.less` sets `[hidden] { display: none; }` but bootstrap.min.css set `[hidden] { display: none !important; }` so we also need the `!important` here to be able to override the default hidden behavior on the sphinx rendered scikit-learn.org. See: https://github.com/scikit-learn/scikit-learn/issues/21755 */display: inline-block !important;position: relative;}#sk-container-id-4 div.sk-text-repr-fallback {display: none;}</style><div id=\"sk-container-id-4\" class=\"sk-top-container\"><div class=\"sk-text-repr-fallback\"><pre>XGBClassifier(base_score=None, booster=None, callbacks=None,\n",
       "              colsample_bylevel=None, colsample_bynode=None,\n",
       "              colsample_bytree=None, early_stopping_rounds=None,\n",
       "              enable_categorical=False, eval_metric=None, feature_types=None,\n",
       "              gamma=None, gpu_id=None, grow_policy=None, importance_type=None,\n",
       "              interaction_constraints=None, learning_rate=0.29, max_bin=None,\n",
       "              max_cat_threshold=None, max_cat_to_onehot=None,\n",
       "              max_delta_step=None, max_depth=4, max_leaves=None,\n",
       "              min_child_weight=None, missing=nan, monotone_constraints=None,\n",
       "              n_estimators=25, n_jobs=None, num_parallel_tree=None,\n",
       "              predictor=None, random_state=None, ...)</pre><b>In a Jupyter environment, please rerun this cell to show the HTML representation or trust the notebook. <br />On GitHub, the HTML representation is unable to render, please try loading this page with nbviewer.org.</b></div><div class=\"sk-container\" hidden><div class=\"sk-item\"><div class=\"sk-estimator sk-toggleable\"><input class=\"sk-toggleable__control sk-hidden--visually\" id=\"sk-estimator-id-4\" type=\"checkbox\" checked><label for=\"sk-estimator-id-4\" class=\"sk-toggleable__label sk-toggleable__label-arrow\">XGBClassifier</label><div class=\"sk-toggleable__content\"><pre>XGBClassifier(base_score=None, booster=None, callbacks=None,\n",
       "              colsample_bylevel=None, colsample_bynode=None,\n",
       "              colsample_bytree=None, early_stopping_rounds=None,\n",
       "              enable_categorical=False, eval_metric=None, feature_types=None,\n",
       "              gamma=None, gpu_id=None, grow_policy=None, importance_type=None,\n",
       "              interaction_constraints=None, learning_rate=0.29, max_bin=None,\n",
       "              max_cat_threshold=None, max_cat_to_onehot=None,\n",
       "              max_delta_step=None, max_depth=4, max_leaves=None,\n",
       "              min_child_weight=None, missing=nan, monotone_constraints=None,\n",
       "              n_estimators=25, n_jobs=None, num_parallel_tree=None,\n",
       "              predictor=None, random_state=None, ...)</pre></div></div></div></div></div>"
      ],
      "text/plain": [
       "XGBClassifier(base_score=None, booster=None, callbacks=None,\n",
       "              colsample_bylevel=None, colsample_bynode=None,\n",
       "              colsample_bytree=None, early_stopping_rounds=None,\n",
       "              enable_categorical=False, eval_metric=None, feature_types=None,\n",
       "              gamma=None, gpu_id=None, grow_policy=None, importance_type=None,\n",
       "              interaction_constraints=None, learning_rate=0.29, max_bin=None,\n",
       "              max_cat_threshold=None, max_cat_to_onehot=None,\n",
       "              max_delta_step=None, max_depth=4, max_leaves=None,\n",
       "              min_child_weight=None, missing=nan, monotone_constraints=None,\n",
       "              n_estimators=25, n_jobs=None, num_parallel_tree=None,\n",
       "              predictor=None, random_state=None, ...)"
      ]
     },
     "execution_count": 23,
     "metadata": {},
     "output_type": "execute_result"
    }
   ],
   "source": [
    "xgb.fit(x_resampled, y_resampled)"
   ]
  },
  {
   "cell_type": "code",
   "execution_count": 24,
   "id": "9ac8bd84",
   "metadata": {
    "execution": {
     "iopub.execute_input": "2023-09-03T20:14:15.530655Z",
     "iopub.status.busy": "2023-09-03T20:14:15.530244Z",
     "iopub.status.idle": "2023-09-03T20:14:15.732746Z",
     "shell.execute_reply": "2023-09-03T20:14:15.731758Z"
    },
    "id": "D6lb_lQRS659",
    "outputId": "26740055-7b51-4ab2-bb19-6c9fb3d043fc",
    "papermill": {
     "duration": 0.231375,
     "end_time": "2023-09-03T20:14:15.735460",
     "exception": false,
     "start_time": "2023-09-03T20:14:15.504085",
     "status": "completed"
    },
    "tags": []
   },
   "outputs": [
    {
     "name": "stdout",
     "output_type": "stream",
     "text": [
      "0.9907820809844953\n"
     ]
    },
    {
     "data": {
      "text/plain": [
       "0.9948877840510097"
      ]
     },
     "execution_count": 24,
     "metadata": {},
     "output_type": "execute_result"
    }
   ],
   "source": [
    "print(xgb.score(x_resampled, y_resampled))\n",
    "xgb.score(x_test, y_test)"
   ]
  },
  {
   "cell_type": "code",
   "execution_count": 25,
   "id": "cd257ec8",
   "metadata": {
    "execution": {
     "iopub.execute_input": "2023-09-03T20:14:15.789678Z",
     "iopub.status.busy": "2023-09-03T20:14:15.788870Z",
     "iopub.status.idle": "2023-09-03T20:14:15.860455Z",
     "shell.execute_reply": "2023-09-03T20:14:15.859432Z"
    },
    "id": "_NUuf_sgS659",
    "outputId": "5ca2ffde-b3a7-4dce-bb4d-c652e48290e3",
    "papermill": {
     "duration": 0.101533,
     "end_time": "2023-09-03T20:14:15.863322",
     "exception": false,
     "start_time": "2023-09-03T20:14:15.761789",
     "status": "completed"
    },
    "tags": []
   },
   "outputs": [
    {
     "data": {
      "text/html": [
       "<style>#sk-container-id-5 {color: black;background-color: white;}#sk-container-id-5 pre{padding: 0;}#sk-container-id-5 div.sk-toggleable {background-color: white;}#sk-container-id-5 label.sk-toggleable__label {cursor: pointer;display: block;width: 100%;margin-bottom: 0;padding: 0.3em;box-sizing: border-box;text-align: center;}#sk-container-id-5 label.sk-toggleable__label-arrow:before {content: \"▸\";float: left;margin-right: 0.25em;color: #696969;}#sk-container-id-5 label.sk-toggleable__label-arrow:hover:before {color: black;}#sk-container-id-5 div.sk-estimator:hover label.sk-toggleable__label-arrow:before {color: black;}#sk-container-id-5 div.sk-toggleable__content {max-height: 0;max-width: 0;overflow: hidden;text-align: left;background-color: #f0f8ff;}#sk-container-id-5 div.sk-toggleable__content pre {margin: 0.2em;color: black;border-radius: 0.25em;background-color: #f0f8ff;}#sk-container-id-5 input.sk-toggleable__control:checked~div.sk-toggleable__content {max-height: 200px;max-width: 100%;overflow: auto;}#sk-container-id-5 input.sk-toggleable__control:checked~label.sk-toggleable__label-arrow:before {content: \"▾\";}#sk-container-id-5 div.sk-estimator input.sk-toggleable__control:checked~label.sk-toggleable__label {background-color: #d4ebff;}#sk-container-id-5 div.sk-label input.sk-toggleable__control:checked~label.sk-toggleable__label {background-color: #d4ebff;}#sk-container-id-5 input.sk-hidden--visually {border: 0;clip: rect(1px 1px 1px 1px);clip: rect(1px, 1px, 1px, 1px);height: 1px;margin: -1px;overflow: hidden;padding: 0;position: absolute;width: 1px;}#sk-container-id-5 div.sk-estimator {font-family: monospace;background-color: #f0f8ff;border: 1px dotted black;border-radius: 0.25em;box-sizing: border-box;margin-bottom: 0.5em;}#sk-container-id-5 div.sk-estimator:hover {background-color: #d4ebff;}#sk-container-id-5 div.sk-parallel-item::after {content: \"\";width: 100%;border-bottom: 1px solid gray;flex-grow: 1;}#sk-container-id-5 div.sk-label:hover label.sk-toggleable__label {background-color: #d4ebff;}#sk-container-id-5 div.sk-serial::before {content: \"\";position: absolute;border-left: 1px solid gray;box-sizing: border-box;top: 0;bottom: 0;left: 50%;z-index: 0;}#sk-container-id-5 div.sk-serial {display: flex;flex-direction: column;align-items: center;background-color: white;padding-right: 0.2em;padding-left: 0.2em;position: relative;}#sk-container-id-5 div.sk-item {position: relative;z-index: 1;}#sk-container-id-5 div.sk-parallel {display: flex;align-items: stretch;justify-content: center;background-color: white;position: relative;}#sk-container-id-5 div.sk-item::before, #sk-container-id-5 div.sk-parallel-item::before {content: \"\";position: absolute;border-left: 1px solid gray;box-sizing: border-box;top: 0;bottom: 0;left: 50%;z-index: -1;}#sk-container-id-5 div.sk-parallel-item {display: flex;flex-direction: column;z-index: 1;position: relative;background-color: white;}#sk-container-id-5 div.sk-parallel-item:first-child::after {align-self: flex-end;width: 50%;}#sk-container-id-5 div.sk-parallel-item:last-child::after {align-self: flex-start;width: 50%;}#sk-container-id-5 div.sk-parallel-item:only-child::after {width: 0;}#sk-container-id-5 div.sk-dashed-wrapped {border: 1px dashed gray;margin: 0 0.4em 0.5em 0.4em;box-sizing: border-box;padding-bottom: 0.4em;background-color: white;}#sk-container-id-5 div.sk-label label {font-family: monospace;font-weight: bold;display: inline-block;line-height: 1.2em;}#sk-container-id-5 div.sk-label-container {text-align: center;}#sk-container-id-5 div.sk-container {/* jupyter's `normalize.less` sets `[hidden] { display: none; }` but bootstrap.min.css set `[hidden] { display: none !important; }` so we also need the `!important` here to be able to override the default hidden behavior on the sphinx rendered scikit-learn.org. See: https://github.com/scikit-learn/scikit-learn/issues/21755 */display: inline-block !important;position: relative;}#sk-container-id-5 div.sk-text-repr-fallback {display: none;}</style><div id=\"sk-container-id-5\" class=\"sk-top-container\"><div class=\"sk-text-repr-fallback\"><pre>XGBClassifier(base_score=None, booster=None, callbacks=None,\n",
       "              colsample_bylevel=None, colsample_bynode=None,\n",
       "              colsample_bytree=None, early_stopping_rounds=None,\n",
       "              enable_categorical=False, eval_metric=None, feature_types=None,\n",
       "              gamma=None, gpu_id=None, grow_policy=None, importance_type=None,\n",
       "              interaction_constraints=None, learning_rate=0.29, max_bin=None,\n",
       "              max_cat_threshold=None, max_cat_to_onehot=None,\n",
       "              max_delta_step=None, max_depth=4, max_leaves=None,\n",
       "              min_child_weight=None, missing=nan, monotone_constraints=None,\n",
       "              n_estimators=25, n_jobs=None, num_parallel_tree=None,\n",
       "              predictor=None, random_state=None, ...)</pre><b>In a Jupyter environment, please rerun this cell to show the HTML representation or trust the notebook. <br />On GitHub, the HTML representation is unable to render, please try loading this page with nbviewer.org.</b></div><div class=\"sk-container\" hidden><div class=\"sk-item\"><div class=\"sk-estimator sk-toggleable\"><input class=\"sk-toggleable__control sk-hidden--visually\" id=\"sk-estimator-id-5\" type=\"checkbox\" checked><label for=\"sk-estimator-id-5\" class=\"sk-toggleable__label sk-toggleable__label-arrow\">XGBClassifier</label><div class=\"sk-toggleable__content\"><pre>XGBClassifier(base_score=None, booster=None, callbacks=None,\n",
       "              colsample_bylevel=None, colsample_bynode=None,\n",
       "              colsample_bytree=None, early_stopping_rounds=None,\n",
       "              enable_categorical=False, eval_metric=None, feature_types=None,\n",
       "              gamma=None, gpu_id=None, grow_policy=None, importance_type=None,\n",
       "              interaction_constraints=None, learning_rate=0.29, max_bin=None,\n",
       "              max_cat_threshold=None, max_cat_to_onehot=None,\n",
       "              max_delta_step=None, max_depth=4, max_leaves=None,\n",
       "              min_child_weight=None, missing=nan, monotone_constraints=None,\n",
       "              n_estimators=25, n_jobs=None, num_parallel_tree=None,\n",
       "              predictor=None, random_state=None, ...)</pre></div></div></div></div></div>"
      ],
      "text/plain": [
       "XGBClassifier(base_score=None, booster=None, callbacks=None,\n",
       "              colsample_bylevel=None, colsample_bynode=None,\n",
       "              colsample_bytree=None, early_stopping_rounds=None,\n",
       "              enable_categorical=False, eval_metric=None, feature_types=None,\n",
       "              gamma=None, gpu_id=None, grow_policy=None, importance_type=None,\n",
       "              interaction_constraints=None, learning_rate=0.29, max_bin=None,\n",
       "              max_cat_threshold=None, max_cat_to_onehot=None,\n",
       "              max_delta_step=None, max_depth=4, max_leaves=None,\n",
       "              min_child_weight=None, missing=nan, monotone_constraints=None,\n",
       "              n_estimators=25, n_jobs=None, num_parallel_tree=None,\n",
       "              predictor=None, random_state=None, ...)"
      ]
     },
     "execution_count": 25,
     "metadata": {},
     "output_type": "execute_result"
    }
   ],
   "source": [
    "xgb.fit(x_undersampled, y_undersampled)"
   ]
  },
  {
   "cell_type": "code",
   "execution_count": 26,
   "id": "a72874fe",
   "metadata": {
    "execution": {
     "iopub.execute_input": "2023-09-03T20:14:15.918539Z",
     "iopub.status.busy": "2023-09-03T20:14:15.918127Z",
     "iopub.status.idle": "2023-09-03T20:14:15.986144Z",
     "shell.execute_reply": "2023-09-03T20:14:15.985199Z"
    },
    "id": "ev1iIuDvS659",
    "outputId": "e1449c12-0f46-4c8c-bad0-ce2e771afb8b",
    "papermill": {
     "duration": 0.098224,
     "end_time": "2023-09-03T20:14:15.988567",
     "exception": false,
     "start_time": "2023-09-03T20:14:15.890343",
     "status": "completed"
    },
    "tags": []
   },
   "outputs": [
    {
     "name": "stdout",
     "output_type": "stream",
     "text": [
      "1.0\n"
     ]
    },
    {
     "data": {
      "text/plain": [
       "0.961981405016713"
      ]
     },
     "execution_count": 26,
     "metadata": {},
     "output_type": "execute_result"
    }
   ],
   "source": [
    "print(xgb.score(x_undersampled, y_undersampled))\n",
    "xgb.score(x_test, y_test)"
   ]
  },
  {
   "cell_type": "markdown",
   "id": "fe426d39",
   "metadata": {
    "id": "YywIAt2pS65-",
    "papermill": {
     "duration": 0.025411,
     "end_time": "2023-09-03T20:14:16.039272",
     "exception": false,
     "start_time": "2023-09-03T20:14:16.013861",
     "status": "completed"
    },
    "tags": []
   },
   "source": [
    "***\n",
    "<div style=\"color:white;\n",
    "           display:fill;\n",
    "           border-radius:5px;\n",
    "           background-color:#F94488;\n",
    "           font-size:20px;\n",
    "           font-family:Nexa;\n",
    "           letter-spacing:0.5px\">\n",
    "        <p style=\"padding: 10px;\n",
    "              color:black;\">\n",
    "            <b>Auto Machine Learing</b>\n",
    "        </p>\n",
    "</div>\n",
    "I did a small report considering the subject in the following link:\n",
    "\n",
    "https://docs.google.com/document/d/1SFGFT8BZ7WmQFExz-EPsU2F76f9ZnX1SYfo9OMfVsvk/edit?usp=sharing"
   ]
  },
  {
   "cell_type": "code",
   "execution_count": 27,
   "id": "3f04b3c6",
   "metadata": {
    "execution": {
     "iopub.execute_input": "2023-09-03T20:14:16.092461Z",
     "iopub.status.busy": "2023-09-03T20:14:16.091438Z",
     "iopub.status.idle": "2023-09-03T20:14:34.742921Z",
     "shell.execute_reply": "2023-09-03T20:14:34.741867Z"
    },
    "id": "tj-arNbmTa1Q",
    "outputId": "32b4c75c-ab10-4ce1-9abd-7228f9046be5",
    "papermill": {
     "duration": 18.680585,
     "end_time": "2023-09-03T20:14:34.745286",
     "exception": false,
     "start_time": "2023-09-03T20:14:16.064701",
     "status": "completed"
    },
    "tags": []
   },
   "outputs": [
    {
     "name": "stdout",
     "output_type": "stream",
     "text": [
      "Collecting mljar-supervised\r\n",
      "  Downloading mljar-supervised-1.0.2.tar.gz (128 kB)\r\n",
      "\u001b[2K     \u001b[90m━━━━━━━━━━━━━━━━━━━━━━━━━━━━━━━━━━━━━━━\u001b[0m \u001b[32m128.1/128.1 kB\u001b[0m \u001b[31m3.2 MB/s\u001b[0m eta \u001b[36m0:00:00\u001b[0m\r\n",
      "\u001b[?25h  Preparing metadata (setup.py) ... \u001b[?25l-\b \b\\\b \bdone\r\n",
      "\u001b[?25hRequirement already satisfied: numpy>=1.19.5 in /opt/conda/lib/python3.10/site-packages (from mljar-supervised) (1.23.5)\r\n",
      "Requirement already satisfied: pandas>=1.2.0 in /opt/conda/lib/python3.10/site-packages (from mljar-supervised) (1.5.3)\r\n",
      "Requirement already satisfied: scipy>=1.6.1 in /opt/conda/lib/python3.10/site-packages (from mljar-supervised) (1.11.1)\r\n",
      "Requirement already satisfied: scikit-learn>=1.0 in /opt/conda/lib/python3.10/site-packages (from mljar-supervised) (1.2.2)\r\n",
      "Requirement already satisfied: xgboost>=1.3.3 in /opt/conda/lib/python3.10/site-packages (from mljar-supervised) (1.7.6)\r\n",
      "Requirement already satisfied: lightgbm>=3.0.0 in /opt/conda/lib/python3.10/site-packages (from mljar-supervised) (3.3.2)\r\n",
      "Requirement already satisfied: catboost>=0.24.4 in /opt/conda/lib/python3.10/site-packages (from mljar-supervised) (1.2)\r\n",
      "Requirement already satisfied: joblib>=1.0.1 in /opt/conda/lib/python3.10/site-packages (from mljar-supervised) (1.2.0)\r\n",
      "Requirement already satisfied: tabulate>=0.8.7 in /opt/conda/lib/python3.10/site-packages (from mljar-supervised) (0.9.0)\r\n",
      "Requirement already satisfied: matplotlib>=3.2.2 in /opt/conda/lib/python3.10/site-packages (from mljar-supervised) (3.7.1)\r\n",
      "Collecting dtreeviz>=2.0.0 (from mljar-supervised)\r\n",
      "  Downloading dtreeviz-2.2.2-py3-none-any.whl (91 kB)\r\n",
      "\u001b[2K     \u001b[90m━━━━━━━━━━━━━━━━━━━━━━━━━━━━━━━━━━━━━━━━\u001b[0m \u001b[32m91.8/91.8 kB\u001b[0m \u001b[31m8.4 MB/s\u001b[0m eta \u001b[36m0:00:00\u001b[0m\r\n",
      "\u001b[?25hRequirement already satisfied: shap>=0.36.0 in /opt/conda/lib/python3.10/site-packages (from mljar-supervised) (0.42.0)\r\n",
      "Requirement already satisfied: seaborn>=0.11.1 in /opt/conda/lib/python3.10/site-packages (from mljar-supervised) (0.12.2)\r\n",
      "Requirement already satisfied: wordcloud>=1.8.1 in /opt/conda/lib/python3.10/site-packages (from mljar-supervised) (1.9.2)\r\n",
      "Requirement already satisfied: category_encoders>=2.2.2 in /opt/conda/lib/python3.10/site-packages (from mljar-supervised) (2.6.1)\r\n",
      "Requirement already satisfied: optuna>=2.7.0 in /opt/conda/lib/python3.10/site-packages (from mljar-supervised) (3.2.0)\r\n",
      "Requirement already satisfied: scikit-plot==0.3.7 in /opt/conda/lib/python3.10/site-packages (from mljar-supervised) (0.3.7)\r\n",
      "Requirement already satisfied: markdown in /opt/conda/lib/python3.10/site-packages (from mljar-supervised) (3.4.3)\r\n",
      "Requirement already satisfied: typing-extensions in /opt/conda/lib/python3.10/site-packages (from mljar-supervised) (4.6.3)\r\n",
      "Requirement already satisfied: ipython in /opt/conda/lib/python3.10/site-packages (from mljar-supervised) (8.14.0)\r\n",
      "Requirement already satisfied: graphviz in /opt/conda/lib/python3.10/site-packages (from catboost>=0.24.4->mljar-supervised) (0.20.1)\r\n",
      "Requirement already satisfied: plotly in /opt/conda/lib/python3.10/site-packages (from catboost>=0.24.4->mljar-supervised) (5.15.0)\r\n",
      "Requirement already satisfied: six in /opt/conda/lib/python3.10/site-packages (from catboost>=0.24.4->mljar-supervised) (1.16.0)\r\n",
      "Requirement already satisfied: statsmodels>=0.9.0 in /opt/conda/lib/python3.10/site-packages (from category_encoders>=2.2.2->mljar-supervised) (0.14.0)\r\n",
      "Requirement already satisfied: patsy>=0.5.1 in /opt/conda/lib/python3.10/site-packages (from category_encoders>=2.2.2->mljar-supervised) (0.5.3)\r\n",
      "Collecting colour (from dtreeviz>=2.0.0->mljar-supervised)\r\n",
      "  Downloading colour-0.1.5-py2.py3-none-any.whl (23 kB)\r\n",
      "Requirement already satisfied: pytest in /opt/conda/lib/python3.10/site-packages (from dtreeviz>=2.0.0->mljar-supervised) (7.4.0)\r\n",
      "Requirement already satisfied: wheel in /opt/conda/lib/python3.10/site-packages (from lightgbm>=3.0.0->mljar-supervised) (0.40.0)\r\n",
      "Requirement already satisfied: contourpy>=1.0.1 in /opt/conda/lib/python3.10/site-packages (from matplotlib>=3.2.2->mljar-supervised) (1.1.0)\r\n",
      "Requirement already satisfied: cycler>=0.10 in /opt/conda/lib/python3.10/site-packages (from matplotlib>=3.2.2->mljar-supervised) (0.11.0)\r\n",
      "Requirement already satisfied: fonttools>=4.22.0 in /opt/conda/lib/python3.10/site-packages (from matplotlib>=3.2.2->mljar-supervised) (4.40.0)\r\n",
      "Requirement already satisfied: kiwisolver>=1.0.1 in /opt/conda/lib/python3.10/site-packages (from matplotlib>=3.2.2->mljar-supervised) (1.4.4)\r\n",
      "Requirement already satisfied: packaging>=20.0 in /opt/conda/lib/python3.10/site-packages (from matplotlib>=3.2.2->mljar-supervised) (21.3)\r\n",
      "Requirement already satisfied: pillow>=6.2.0 in /opt/conda/lib/python3.10/site-packages (from matplotlib>=3.2.2->mljar-supervised) (9.5.0)\r\n",
      "Requirement already satisfied: pyparsing>=2.3.1 in /opt/conda/lib/python3.10/site-packages (from matplotlib>=3.2.2->mljar-supervised) (3.0.9)\r\n",
      "Requirement already satisfied: python-dateutil>=2.7 in /opt/conda/lib/python3.10/site-packages (from matplotlib>=3.2.2->mljar-supervised) (2.8.2)\r\n",
      "Requirement already satisfied: alembic>=1.5.0 in /opt/conda/lib/python3.10/site-packages (from optuna>=2.7.0->mljar-supervised) (1.11.1)\r\n",
      "Requirement already satisfied: cmaes>=0.9.1 in /opt/conda/lib/python3.10/site-packages (from optuna>=2.7.0->mljar-supervised) (0.9.1)\r\n",
      "Requirement already satisfied: colorlog in /opt/conda/lib/python3.10/site-packages (from optuna>=2.7.0->mljar-supervised) (6.7.0)\r\n",
      "Requirement already satisfied: sqlalchemy>=1.3.0 in /opt/conda/lib/python3.10/site-packages (from optuna>=2.7.0->mljar-supervised) (2.0.17)\r\n",
      "Requirement already satisfied: tqdm in /opt/conda/lib/python3.10/site-packages (from optuna>=2.7.0->mljar-supervised) (4.65.0)\r\n",
      "Requirement already satisfied: PyYAML in /opt/conda/lib/python3.10/site-packages (from optuna>=2.7.0->mljar-supervised) (6.0)\r\n",
      "Requirement already satisfied: pytz>=2020.1 in /opt/conda/lib/python3.10/site-packages (from pandas>=1.2.0->mljar-supervised) (2023.3)\r\n",
      "Requirement already satisfied: threadpoolctl>=2.0.0 in /opt/conda/lib/python3.10/site-packages (from scikit-learn>=1.0->mljar-supervised) (3.1.0)\r\n",
      "Requirement already satisfied: slicer==0.0.7 in /opt/conda/lib/python3.10/site-packages (from shap>=0.36.0->mljar-supervised) (0.0.7)\r\n",
      "Requirement already satisfied: numba in /opt/conda/lib/python3.10/site-packages (from shap>=0.36.0->mljar-supervised) (0.57.1)\r\n",
      "Requirement already satisfied: cloudpickle in /opt/conda/lib/python3.10/site-packages (from shap>=0.36.0->mljar-supervised) (2.2.1)\r\n",
      "Requirement already satisfied: backcall in /opt/conda/lib/python3.10/site-packages (from ipython->mljar-supervised) (0.2.0)\r\n",
      "Requirement already satisfied: decorator in /opt/conda/lib/python3.10/site-packages (from ipython->mljar-supervised) (5.1.1)\r\n",
      "Requirement already satisfied: jedi>=0.16 in /opt/conda/lib/python3.10/site-packages (from ipython->mljar-supervised) (0.18.2)\r\n",
      "Requirement already satisfied: matplotlib-inline in /opt/conda/lib/python3.10/site-packages (from ipython->mljar-supervised) (0.1.6)\r\n",
      "Requirement already satisfied: pickleshare in /opt/conda/lib/python3.10/site-packages (from ipython->mljar-supervised) (0.7.5)\r\n",
      "Requirement already satisfied: prompt-toolkit!=3.0.37,<3.1.0,>=3.0.30 in /opt/conda/lib/python3.10/site-packages (from ipython->mljar-supervised) (3.0.38)\r\n",
      "Requirement already satisfied: pygments>=2.4.0 in /opt/conda/lib/python3.10/site-packages (from ipython->mljar-supervised) (2.15.1)\r\n",
      "Requirement already satisfied: stack-data in /opt/conda/lib/python3.10/site-packages (from ipython->mljar-supervised) (0.6.2)\r\n",
      "Requirement already satisfied: traitlets>=5 in /opt/conda/lib/python3.10/site-packages (from ipython->mljar-supervised) (5.9.0)\r\n",
      "Requirement already satisfied: pexpect>4.3 in /opt/conda/lib/python3.10/site-packages (from ipython->mljar-supervised) (4.8.0)\r\n",
      "Requirement already satisfied: Mako in /opt/conda/lib/python3.10/site-packages (from alembic>=1.5.0->optuna>=2.7.0->mljar-supervised) (1.2.4)\r\n",
      "Requirement already satisfied: parso<0.9.0,>=0.8.0 in /opt/conda/lib/python3.10/site-packages (from jedi>=0.16->ipython->mljar-supervised) (0.8.3)\r\n",
      "Requirement already satisfied: ptyprocess>=0.5 in /opt/conda/lib/python3.10/site-packages (from pexpect>4.3->ipython->mljar-supervised) (0.7.0)\r\n",
      "Requirement already satisfied: wcwidth in /opt/conda/lib/python3.10/site-packages (from prompt-toolkit!=3.0.37,<3.1.0,>=3.0.30->ipython->mljar-supervised) (0.2.6)\r\n",
      "Requirement already satisfied: greenlet!=0.4.17 in /opt/conda/lib/python3.10/site-packages (from sqlalchemy>=1.3.0->optuna>=2.7.0->mljar-supervised) (2.0.2)\r\n",
      "Requirement already satisfied: llvmlite<0.41,>=0.40.0dev0 in /opt/conda/lib/python3.10/site-packages (from numba->shap>=0.36.0->mljar-supervised) (0.40.1)\r\n",
      "Requirement already satisfied: tenacity>=6.2.0 in /opt/conda/lib/python3.10/site-packages (from plotly->catboost>=0.24.4->mljar-supervised) (8.2.2)\r\n",
      "Requirement already satisfied: iniconfig in /opt/conda/lib/python3.10/site-packages (from pytest->dtreeviz>=2.0.0->mljar-supervised) (2.0.0)\r\n",
      "Requirement already satisfied: pluggy<2.0,>=0.12 in /opt/conda/lib/python3.10/site-packages (from pytest->dtreeviz>=2.0.0->mljar-supervised) (1.0.0)\r\n",
      "Requirement already satisfied: exceptiongroup>=1.0.0rc8 in /opt/conda/lib/python3.10/site-packages (from pytest->dtreeviz>=2.0.0->mljar-supervised) (1.1.1)\r\n",
      "Requirement already satisfied: tomli>=1.0.0 in /opt/conda/lib/python3.10/site-packages (from pytest->dtreeviz>=2.0.0->mljar-supervised) (2.0.1)\r\n",
      "Requirement already satisfied: executing>=1.2.0 in /opt/conda/lib/python3.10/site-packages (from stack-data->ipython->mljar-supervised) (1.2.0)\r\n",
      "Requirement already satisfied: asttokens>=2.1.0 in /opt/conda/lib/python3.10/site-packages (from stack-data->ipython->mljar-supervised) (2.2.1)\r\n",
      "Requirement already satisfied: pure-eval in /opt/conda/lib/python3.10/site-packages (from stack-data->ipython->mljar-supervised) (0.2.2)\r\n",
      "Requirement already satisfied: MarkupSafe>=0.9.2 in /opt/conda/lib/python3.10/site-packages (from Mako->alembic>=1.5.0->optuna>=2.7.0->mljar-supervised) (2.1.3)\r\n",
      "Building wheels for collected packages: mljar-supervised\r\n",
      "  Building wheel for mljar-supervised (setup.py) ... \u001b[?25l-\b \b\\\b \b|\b \bdone\r\n",
      "\u001b[?25h  Created wheel for mljar-supervised: filename=mljar_supervised-1.0.2-py3-none-any.whl size=163306 sha256=44c166a16dea05521aa0a58f050b7b77612a002b322b194411268bd2d364aead\r\n",
      "  Stored in directory: /root/.cache/pip/wheels/4b/cb/0a/386e3abf36b877af0a2a4863d1d786a6d6414a343a71a04640\r\n",
      "Successfully built mljar-supervised\r\n",
      "Installing collected packages: colour, dtreeviz, mljar-supervised\r\n",
      "Successfully installed colour-0.1.5 dtreeviz-2.2.2 mljar-supervised-1.0.2\r\n",
      "Note: you may need to restart the kernel to use updated packages.\n"
     ]
    }
   ],
   "source": [
    "pip install mljar-supervised"
   ]
  },
  {
   "cell_type": "code",
   "execution_count": 28,
   "id": "a01f3eb5",
   "metadata": {
    "execution": {
     "iopub.execute_input": "2023-09-03T20:14:34.804252Z",
     "iopub.status.busy": "2023-09-03T20:14:34.803804Z",
     "iopub.status.idle": "2023-09-03T20:14:42.724540Z",
     "shell.execute_reply": "2023-09-03T20:14:42.723477Z"
    },
    "id": "Gquy4k5aisOS",
    "outputId": "79d903b0-a6ab-41f2-c0c5-5eb6a45bc487",
    "papermill": {
     "duration": 7.953843,
     "end_time": "2023-09-03T20:14:42.727602",
     "exception": false,
     "start_time": "2023-09-03T20:14:34.773759",
     "status": "completed"
    },
    "tags": []
   },
   "outputs": [
    {
     "name": "stderr",
     "output_type": "stream",
     "text": [
      "Using `tqdm.autonotebook.tqdm` in notebook mode. Use `tqdm.tqdm` instead to force console mode (e.g. in jupyter console)\n"
     ]
    }
   ],
   "source": [
    "from supervised.automl import AutoML"
   ]
  },
  {
   "cell_type": "code",
   "execution_count": 29,
   "id": "8945a307",
   "metadata": {
    "execution": {
     "iopub.execute_input": "2023-09-03T20:14:42.788130Z",
     "iopub.status.busy": "2023-09-03T20:14:42.787016Z",
     "iopub.status.idle": "2023-09-03T20:17:18.186423Z",
     "shell.execute_reply": "2023-09-03T20:17:18.185196Z"
    },
    "id": "DFQuTKftgUgO",
    "outputId": "21cf22db-4233-4f36-8c2b-e02d9d2ee038",
    "papermill": {
     "duration": 155.459746,
     "end_time": "2023-09-03T20:17:18.216459",
     "exception": false,
     "start_time": "2023-09-03T20:14:42.756713",
     "status": "completed"
    },
    "tags": []
   },
   "outputs": [
    {
     "name": "stdout",
     "output_type": "stream",
     "text": [
      "Linear algorithm was disabled.\n",
      "AutoML directory: AutoML_1\n",
      "The task is binary_classification with evaluation metric logloss\n",
      "AutoML will use algorithms: ['Decision Tree', 'Random Forest']\n",
      "AutoML will ensemble available models\n",
      "AutoML steps: ['simple_algorithms', 'default_algorithms', 'ensemble']\n",
      "* Step simple_algorithms will try to check up to 1 model\n"
     ]
    },
    {
     "name": "stderr",
     "output_type": "stream",
     "text": [
      "/opt/conda/lib/python3.10/site-packages/scipy/__init__.py:146: UserWarning: A NumPy version >=1.16.5 and <1.23.0 is required for this version of SciPy (detected version 1.23.5\n",
      "  warnings.warn(f\"A NumPy version >={np_minversion} and <{np_maxversion}\"\n",
      "/opt/conda/lib/python3.10/site-packages/scipy/__init__.py:146: UserWarning: A NumPy version >=1.16.5 and <1.23.0 is required for this version of SciPy (detected version 1.23.5\n",
      "  warnings.warn(f\"A NumPy version >={np_minversion} and <{np_maxversion}\"\n",
      "/opt/conda/lib/python3.10/site-packages/scipy/__init__.py:146: UserWarning: A NumPy version >=1.16.5 and <1.23.0 is required for this version of SciPy (detected version 1.23.5\n",
      "  warnings.warn(f\"A NumPy version >={np_minversion} and <{np_maxversion}\"\n",
      "/opt/conda/lib/python3.10/site-packages/scipy/__init__.py:146: UserWarning: A NumPy version >=1.16.5 and <1.23.0 is required for this version of SciPy (detected version 1.23.5\n",
      "  warnings.warn(f\"A NumPy version >={np_minversion} and <{np_maxversion}\"\n",
      "/opt/conda/lib/python3.10/site-packages/supervised/utils/shap.py:116: UserWarning: The figure layout has changed to tight\n"
     ]
    },
    {
     "name": "stdout",
     "output_type": "stream",
     "text": [
      "1_DecisionTree logloss 0.004273 trained in 30.17 seconds\n",
      "* Step default_algorithms will try to check up to 1 model\n"
     ]
    },
    {
     "name": "stderr",
     "output_type": "stream",
     "text": [
      "/opt/conda/lib/python3.10/site-packages/shap/plots/_beeswarm.py:925: UserWarning: The figure layout has changed to tight\n",
      "/opt/conda/lib/python3.10/site-packages/supervised/utils/shap.py:116: UserWarning: The figure layout has changed to tight\n"
     ]
    },
    {
     "name": "stdout",
     "output_type": "stream",
     "text": [
      "2_Default_RandomForest logloss 0.003109 trained in 103.86 seconds\n",
      "* Step ensemble will try to check up to 1 model\n",
      "Ensemble logloss 0.003109 trained in 9.45 seconds\n",
      "AutoML fit time: 155.38 seconds\n",
      "AutoML best model: 2_Default_RandomForest\n"
     ]
    },
    {
     "data": {
      "text/html": [
       "<style>#sk-container-id-6 {color: black;background-color: white;}#sk-container-id-6 pre{padding: 0;}#sk-container-id-6 div.sk-toggleable {background-color: white;}#sk-container-id-6 label.sk-toggleable__label {cursor: pointer;display: block;width: 100%;margin-bottom: 0;padding: 0.3em;box-sizing: border-box;text-align: center;}#sk-container-id-6 label.sk-toggleable__label-arrow:before {content: \"▸\";float: left;margin-right: 0.25em;color: #696969;}#sk-container-id-6 label.sk-toggleable__label-arrow:hover:before {color: black;}#sk-container-id-6 div.sk-estimator:hover label.sk-toggleable__label-arrow:before {color: black;}#sk-container-id-6 div.sk-toggleable__content {max-height: 0;max-width: 0;overflow: hidden;text-align: left;background-color: #f0f8ff;}#sk-container-id-6 div.sk-toggleable__content pre {margin: 0.2em;color: black;border-radius: 0.25em;background-color: #f0f8ff;}#sk-container-id-6 input.sk-toggleable__control:checked~div.sk-toggleable__content {max-height: 200px;max-width: 100%;overflow: auto;}#sk-container-id-6 input.sk-toggleable__control:checked~label.sk-toggleable__label-arrow:before {content: \"▾\";}#sk-container-id-6 div.sk-estimator input.sk-toggleable__control:checked~label.sk-toggleable__label {background-color: #d4ebff;}#sk-container-id-6 div.sk-label input.sk-toggleable__control:checked~label.sk-toggleable__label {background-color: #d4ebff;}#sk-container-id-6 input.sk-hidden--visually {border: 0;clip: rect(1px 1px 1px 1px);clip: rect(1px, 1px, 1px, 1px);height: 1px;margin: -1px;overflow: hidden;padding: 0;position: absolute;width: 1px;}#sk-container-id-6 div.sk-estimator {font-family: monospace;background-color: #f0f8ff;border: 1px dotted black;border-radius: 0.25em;box-sizing: border-box;margin-bottom: 0.5em;}#sk-container-id-6 div.sk-estimator:hover {background-color: #d4ebff;}#sk-container-id-6 div.sk-parallel-item::after {content: \"\";width: 100%;border-bottom: 1px solid gray;flex-grow: 1;}#sk-container-id-6 div.sk-label:hover label.sk-toggleable__label {background-color: #d4ebff;}#sk-container-id-6 div.sk-serial::before {content: \"\";position: absolute;border-left: 1px solid gray;box-sizing: border-box;top: 0;bottom: 0;left: 50%;z-index: 0;}#sk-container-id-6 div.sk-serial {display: flex;flex-direction: column;align-items: center;background-color: white;padding-right: 0.2em;padding-left: 0.2em;position: relative;}#sk-container-id-6 div.sk-item {position: relative;z-index: 1;}#sk-container-id-6 div.sk-parallel {display: flex;align-items: stretch;justify-content: center;background-color: white;position: relative;}#sk-container-id-6 div.sk-item::before, #sk-container-id-6 div.sk-parallel-item::before {content: \"\";position: absolute;border-left: 1px solid gray;box-sizing: border-box;top: 0;bottom: 0;left: 50%;z-index: -1;}#sk-container-id-6 div.sk-parallel-item {display: flex;flex-direction: column;z-index: 1;position: relative;background-color: white;}#sk-container-id-6 div.sk-parallel-item:first-child::after {align-self: flex-end;width: 50%;}#sk-container-id-6 div.sk-parallel-item:last-child::after {align-self: flex-start;width: 50%;}#sk-container-id-6 div.sk-parallel-item:only-child::after {width: 0;}#sk-container-id-6 div.sk-dashed-wrapped {border: 1px dashed gray;margin: 0 0.4em 0.5em 0.4em;box-sizing: border-box;padding-bottom: 0.4em;background-color: white;}#sk-container-id-6 div.sk-label label {font-family: monospace;font-weight: bold;display: inline-block;line-height: 1.2em;}#sk-container-id-6 div.sk-label-container {text-align: center;}#sk-container-id-6 div.sk-container {/* jupyter's `normalize.less` sets `[hidden] { display: none; }` but bootstrap.min.css set `[hidden] { display: none !important; }` so we also need the `!important` here to be able to override the default hidden behavior on the sphinx rendered scikit-learn.org. See: https://github.com/scikit-learn/scikit-learn/issues/21755 */display: inline-block !important;position: relative;}#sk-container-id-6 div.sk-text-repr-fallback {display: none;}</style><div id=\"sk-container-id-6\" class=\"sk-top-container\"><div class=\"sk-text-repr-fallback\"><pre>AutoML(algorithms=[&#x27;Decision Tree&#x27;, &#x27;Linear&#x27;, &#x27;Random Forest&#x27;],\n",
       "       total_time_limit=300)</pre><b>In a Jupyter environment, please rerun this cell to show the HTML representation or trust the notebook. <br />On GitHub, the HTML representation is unable to render, please try loading this page with nbviewer.org.</b></div><div class=\"sk-container\" hidden><div class=\"sk-item\"><div class=\"sk-estimator sk-toggleable\"><input class=\"sk-toggleable__control sk-hidden--visually\" id=\"sk-estimator-id-6\" type=\"checkbox\" checked><label for=\"sk-estimator-id-6\" class=\"sk-toggleable__label sk-toggleable__label-arrow\">AutoML</label><div class=\"sk-toggleable__content\"><pre>AutoML(algorithms=[&#x27;Decision Tree&#x27;, &#x27;Linear&#x27;, &#x27;Random Forest&#x27;],\n",
       "       total_time_limit=300)</pre></div></div></div></div></div>"
      ],
      "text/plain": [
       "AutoML(algorithms=['Decision Tree', 'Linear', 'Random Forest'],\n",
       "       total_time_limit=300)"
      ]
     },
     "execution_count": 29,
     "metadata": {},
     "output_type": "execute_result"
    }
   ],
   "source": [
    "automl = AutoML(algorithms=[\"Decision Tree\", \"Linear\", \"Random Forest\"],\n",
    "                total_time_limit=5*60)\n",
    "automl.fit(x_train, y_train)"
   ]
  },
  {
   "cell_type": "code",
   "execution_count": 30,
   "id": "b4b31cd1",
   "metadata": {
    "execution": {
     "iopub.execute_input": "2023-09-03T20:17:18.278261Z",
     "iopub.status.busy": "2023-09-03T20:17:18.277847Z",
     "iopub.status.idle": "2023-09-03T20:17:19.024174Z",
     "shell.execute_reply": "2023-09-03T20:17:19.022910Z"
    },
    "id": "PhqsIS1Gin9r",
    "outputId": "f3c1a8bc-ab08-4e5e-e54c-05392e48a812",
    "papermill": {
     "duration": 0.779652,
     "end_time": "2023-09-03T20:17:19.026326",
     "exception": false,
     "start_time": "2023-09-03T20:17:18.246674",
     "status": "completed"
    },
    "tags": []
   },
   "outputs": [
    {
     "name": "stdout",
     "output_type": "stream",
     "text": [
      "0.9713723929683294\n"
     ]
    },
    {
     "data": {
      "text/plain": [
       "0.9948035167551473"
      ]
     },
     "execution_count": 30,
     "metadata": {},
     "output_type": "execute_result"
    }
   ],
   "source": [
    "print(automl.score(x_train, y_train))\n",
    "automl.score(x_test, y_test)"
   ]
  },
  {
   "cell_type": "markdown",
   "id": "2de42178",
   "metadata": {
    "papermill": {
     "duration": 0.029666,
     "end_time": "2023-09-03T20:17:19.086051",
     "exception": false,
     "start_time": "2023-09-03T20:17:19.056385",
     "status": "completed"
    },
    "tags": []
   },
   "source": [
    "## Using pyCaret"
   ]
  },
  {
   "cell_type": "code",
   "execution_count": 31,
   "id": "7c535f94",
   "metadata": {
    "execution": {
     "iopub.execute_input": "2023-09-03T20:17:19.150411Z",
     "iopub.status.busy": "2023-09-03T20:17:19.149977Z",
     "iopub.status.idle": "2023-09-03T20:17:49.296109Z",
     "shell.execute_reply": "2023-09-03T20:17:49.294692Z"
    },
    "papermill": {
     "duration": 30.180943,
     "end_time": "2023-09-03T20:17:49.299027",
     "exception": false,
     "start_time": "2023-09-03T20:17:19.118084",
     "status": "completed"
    },
    "scrolled": true,
    "tags": []
   },
   "outputs": [
    {
     "name": "stdout",
     "output_type": "stream",
     "text": [
      "Collecting pycaret\r\n",
      "  Downloading pycaret-3.0.4-py3-none-any.whl (484 kB)\r\n",
      "\u001b[2K     \u001b[90m━━━━━━━━━━━━━━━━━━━━━━━━━━━━━━━━━━━━━━━\u001b[0m \u001b[32m484.4/484.4 kB\u001b[0m \u001b[31m7.5 MB/s\u001b[0m eta \u001b[36m0:00:00\u001b[0m\r\n",
      "\u001b[?25hRequirement already satisfied: ipython>=5.5.0 in /opt/conda/lib/python3.10/site-packages (from pycaret) (8.14.0)\r\n",
      "Requirement already satisfied: ipywidgets>=7.6.5 in /opt/conda/lib/python3.10/site-packages (from pycaret) (7.7.1)\r\n",
      "Requirement already satisfied: tqdm>=4.62.0 in /opt/conda/lib/python3.10/site-packages (from pycaret) (4.65.0)\r\n",
      "Requirement already satisfied: numpy<1.24,>=1.21 in /opt/conda/lib/python3.10/site-packages (from pycaret) (1.23.5)\r\n",
      "Requirement already satisfied: pandas<2.0.0,>=1.3.0 in /opt/conda/lib/python3.10/site-packages (from pycaret) (1.5.3)\r\n",
      "Requirement already satisfied: jinja2>=1.2 in /opt/conda/lib/python3.10/site-packages (from pycaret) (3.1.2)\r\n",
      "Requirement already satisfied: scipy<2.0.0 in /opt/conda/lib/python3.10/site-packages (from pycaret) (1.11.1)\r\n",
      "Requirement already satisfied: joblib>=1.2.0 in /opt/conda/lib/python3.10/site-packages (from pycaret) (1.2.0)\r\n",
      "Requirement already satisfied: scikit-learn<1.3.0,>=1.0 in /opt/conda/lib/python3.10/site-packages (from pycaret) (1.2.2)\r\n",
      "Collecting pyod>=1.0.8 (from pycaret)\r\n",
      "  Downloading pyod-1.1.0.tar.gz (153 kB)\r\n",
      "\u001b[2K     \u001b[90m━━━━━━━━━━━━━━━━━━━━━━━━━━━━━━━━━━━━━━\u001b[0m \u001b[32m153.4/153.4 kB\u001b[0m \u001b[31m13.4 MB/s\u001b[0m eta \u001b[36m0:00:00\u001b[0m\r\n",
      "\u001b[?25h  Preparing metadata (setup.py) ... \u001b[?25l-\b \b\\\b \bdone\r\n",
      "\u001b[?25hRequirement already satisfied: imbalanced-learn>=0.8.1 in /opt/conda/lib/python3.10/site-packages (from pycaret) (0.10.1)\r\n",
      "Requirement already satisfied: category-encoders>=2.4.0 in /opt/conda/lib/python3.10/site-packages (from pycaret) (2.6.1)\r\n",
      "Requirement already satisfied: lightgbm>=3.0.0 in /opt/conda/lib/python3.10/site-packages (from pycaret) (3.3.2)\r\n",
      "Requirement already satisfied: numba>=0.55.0 in /opt/conda/lib/python3.10/site-packages (from pycaret) (0.57.1)\r\n",
      "Requirement already satisfied: requests>=2.27.1 in /opt/conda/lib/python3.10/site-packages (from pycaret) (2.31.0)\r\n",
      "Requirement already satisfied: psutil>=5.9.0 in /opt/conda/lib/python3.10/site-packages (from pycaret) (5.9.3)\r\n",
      "Requirement already satisfied: markupsafe>=2.0.1 in /opt/conda/lib/python3.10/site-packages (from pycaret) (2.1.3)\r\n",
      "Requirement already satisfied: importlib-metadata>=4.12.0 in /opt/conda/lib/python3.10/site-packages (from pycaret) (6.7.0)\r\n",
      "Requirement already satisfied: nbformat>=4.2.0 in /opt/conda/lib/python3.10/site-packages (from pycaret) (5.9.0)\r\n",
      "Requirement already satisfied: cloudpickle in /opt/conda/lib/python3.10/site-packages (from pycaret) (2.2.1)\r\n",
      "Requirement already satisfied: deprecation>=2.1.0 in /opt/conda/lib/python3.10/site-packages (from pycaret) (2.1.0)\r\n",
      "Requirement already satisfied: xxhash in /opt/conda/lib/python3.10/site-packages (from pycaret) (3.2.0)\r\n",
      "Requirement already satisfied: matplotlib>=3.3.0 in /opt/conda/lib/python3.10/site-packages (from pycaret) (3.7.1)\r\n",
      "Requirement already satisfied: scikit-plot>=0.3.7 in /opt/conda/lib/python3.10/site-packages (from pycaret) (0.3.7)\r\n",
      "Requirement already satisfied: yellowbrick>=1.4 in /opt/conda/lib/python3.10/site-packages (from pycaret) (1.5)\r\n",
      "Requirement already satisfied: plotly>=5.0.0 in /opt/conda/lib/python3.10/site-packages (from pycaret) (5.15.0)\r\n",
      "Collecting kaleido>=0.2.1 (from pycaret)\r\n",
      "  Downloading kaleido-0.2.1-py2.py3-none-manylinux1_x86_64.whl (79.9 MB)\r\n",
      "\u001b[2K     \u001b[90m━━━━━━━━━━━━━━━━━━━━━━━━━━━━━━━━━━━━━━━━\u001b[0m \u001b[32m79.9/79.9 MB\u001b[0m \u001b[31m15.2 MB/s\u001b[0m eta \u001b[36m0:00:00\u001b[0m\r\n",
      "\u001b[?25hCollecting schemdraw==0.15 (from pycaret)\r\n",
      "  Downloading schemdraw-0.15-py3-none-any.whl (106 kB)\r\n",
      "\u001b[2K     \u001b[90m━━━━━━━━━━━━━━━━━━━━━━━━━━━━━━━━━━━━━━━\u001b[0m \u001b[32m106.8/106.8 kB\u001b[0m \u001b[31m9.7 MB/s\u001b[0m eta \u001b[36m0:00:00\u001b[0m\r\n",
      "\u001b[?25hCollecting plotly-resampler>=0.8.3.1 (from pycaret)\r\n",
      "  Downloading plotly_resampler-0.9.1-py3-none-any.whl (73 kB)\r\n",
      "\u001b[2K     \u001b[90m━━━━━━━━━━━━━━━━━━━━━━━━━━━━━━━━━━━━━━━━\u001b[0m \u001b[32m73.4/73.4 kB\u001b[0m \u001b[31m6.2 MB/s\u001b[0m eta \u001b[36m0:00:00\u001b[0m\r\n",
      "\u001b[?25hRequirement already satisfied: statsmodels>=0.12.1 in /opt/conda/lib/python3.10/site-packages (from pycaret) (0.14.0)\r\n",
      "Collecting sktime!=0.17.1,!=0.17.2,!=0.18.0,>=0.16.1 (from pycaret)\r\n",
      "  Downloading sktime-0.22.0-py3-none-any.whl (17.5 MB)\r\n",
      "\u001b[2K     \u001b[90m━━━━━━━━━━━━━━━━━━━━━━━━━━━━━━━━━━━━━━━━\u001b[0m \u001b[32m17.5/17.5 MB\u001b[0m \u001b[31m52.0 MB/s\u001b[0m eta \u001b[36m0:00:00\u001b[0m\r\n",
      "\u001b[?25hCollecting tbats>=1.1.3 (from pycaret)\r\n",
      "  Downloading tbats-1.1.3-py3-none-any.whl (44 kB)\r\n",
      "\u001b[2K     \u001b[90m━━━━━━━━━━━━━━━━━━━━━━━━━━━━━━━━━━━━━━━━\u001b[0m \u001b[32m44.0/44.0 kB\u001b[0m \u001b[31m4.0 MB/s\u001b[0m eta \u001b[36m0:00:00\u001b[0m\r\n",
      "\u001b[?25hCollecting pmdarima!=1.8.1,<3.0.0,>=1.8.0 (from pycaret)\r\n",
      "  Downloading pmdarima-2.0.3-cp310-cp310-manylinux_2_17_x86_64.manylinux2014_x86_64.manylinux_2_28_x86_64.whl (1.8 MB)\r\n",
      "\u001b[2K     \u001b[90m━━━━━━━━━━━━━━━━━━━━━━━━━━━━━━━━━━━━━━━━\u001b[0m \u001b[32m1.8/1.8 MB\u001b[0m \u001b[31m62.9 MB/s\u001b[0m eta \u001b[36m0:00:00\u001b[0m\r\n",
      "\u001b[?25hRequirement already satisfied: wurlitzer in /opt/conda/lib/python3.10/site-packages (from pycaret) (3.0.3)\r\n",
      "Requirement already satisfied: patsy>=0.5.1 in /opt/conda/lib/python3.10/site-packages (from category-encoders>=2.4.0->pycaret) (0.5.3)\r\n",
      "Requirement already satisfied: packaging in /opt/conda/lib/python3.10/site-packages (from deprecation>=2.1.0->pycaret) (21.3)\r\n",
      "Requirement already satisfied: threadpoolctl>=2.0.0 in /opt/conda/lib/python3.10/site-packages (from imbalanced-learn>=0.8.1->pycaret) (3.1.0)\r\n",
      "Requirement already satisfied: zipp>=0.5 in /opt/conda/lib/python3.10/site-packages (from importlib-metadata>=4.12.0->pycaret) (3.15.0)\r\n",
      "Requirement already satisfied: backcall in /opt/conda/lib/python3.10/site-packages (from ipython>=5.5.0->pycaret) (0.2.0)\r\n",
      "Requirement already satisfied: decorator in /opt/conda/lib/python3.10/site-packages (from ipython>=5.5.0->pycaret) (5.1.1)\r\n",
      "Requirement already satisfied: jedi>=0.16 in /opt/conda/lib/python3.10/site-packages (from ipython>=5.5.0->pycaret) (0.18.2)\r\n",
      "Requirement already satisfied: matplotlib-inline in /opt/conda/lib/python3.10/site-packages (from ipython>=5.5.0->pycaret) (0.1.6)\r\n",
      "Requirement already satisfied: pickleshare in /opt/conda/lib/python3.10/site-packages (from ipython>=5.5.0->pycaret) (0.7.5)\r\n",
      "Requirement already satisfied: prompt-toolkit!=3.0.37,<3.1.0,>=3.0.30 in /opt/conda/lib/python3.10/site-packages (from ipython>=5.5.0->pycaret) (3.0.38)\r\n",
      "Requirement already satisfied: pygments>=2.4.0 in /opt/conda/lib/python3.10/site-packages (from ipython>=5.5.0->pycaret) (2.15.1)\r\n",
      "Requirement already satisfied: stack-data in /opt/conda/lib/python3.10/site-packages (from ipython>=5.5.0->pycaret) (0.6.2)\r\n",
      "Requirement already satisfied: traitlets>=5 in /opt/conda/lib/python3.10/site-packages (from ipython>=5.5.0->pycaret) (5.9.0)\r\n",
      "Requirement already satisfied: pexpect>4.3 in /opt/conda/lib/python3.10/site-packages (from ipython>=5.5.0->pycaret) (4.8.0)\r\n",
      "Requirement already satisfied: ipykernel>=4.5.1 in /opt/conda/lib/python3.10/site-packages (from ipywidgets>=7.6.5->pycaret) (6.23.3)\r\n",
      "Requirement already satisfied: ipython-genutils~=0.2.0 in /opt/conda/lib/python3.10/site-packages (from ipywidgets>=7.6.5->pycaret) (0.2.0)\r\n",
      "Requirement already satisfied: widgetsnbextension~=3.6.0 in /opt/conda/lib/python3.10/site-packages (from ipywidgets>=7.6.5->pycaret) (3.6.4)\r\n",
      "Requirement already satisfied: jupyterlab-widgets>=1.0.0 in /opt/conda/lib/python3.10/site-packages (from ipywidgets>=7.6.5->pycaret) (3.0.7)\r\n",
      "Requirement already satisfied: wheel in /opt/conda/lib/python3.10/site-packages (from lightgbm>=3.0.0->pycaret) (0.40.0)\r\n",
      "Requirement already satisfied: contourpy>=1.0.1 in /opt/conda/lib/python3.10/site-packages (from matplotlib>=3.3.0->pycaret) (1.1.0)\r\n",
      "Requirement already satisfied: cycler>=0.10 in /opt/conda/lib/python3.10/site-packages (from matplotlib>=3.3.0->pycaret) (0.11.0)\r\n",
      "Requirement already satisfied: fonttools>=4.22.0 in /opt/conda/lib/python3.10/site-packages (from matplotlib>=3.3.0->pycaret) (4.40.0)\r\n",
      "Requirement already satisfied: kiwisolver>=1.0.1 in /opt/conda/lib/python3.10/site-packages (from matplotlib>=3.3.0->pycaret) (1.4.4)\r\n",
      "Requirement already satisfied: pillow>=6.2.0 in /opt/conda/lib/python3.10/site-packages (from matplotlib>=3.3.0->pycaret) (9.5.0)\r\n",
      "Requirement already satisfied: pyparsing>=2.3.1 in /opt/conda/lib/python3.10/site-packages (from matplotlib>=3.3.0->pycaret) (3.0.9)\r\n",
      "Requirement already satisfied: python-dateutil>=2.7 in /opt/conda/lib/python3.10/site-packages (from matplotlib>=3.3.0->pycaret) (2.8.2)\r\n",
      "Requirement already satisfied: fastjsonschema in /opt/conda/lib/python3.10/site-packages (from nbformat>=4.2.0->pycaret) (2.17.1)\r\n",
      "Requirement already satisfied: jsonschema>=2.6 in /opt/conda/lib/python3.10/site-packages (from nbformat>=4.2.0->pycaret) (4.17.3)\r\n",
      "Requirement already satisfied: jupyter-core in /opt/conda/lib/python3.10/site-packages (from nbformat>=4.2.0->pycaret) (5.3.1)\r\n",
      "Requirement already satisfied: llvmlite<0.41,>=0.40.0dev0 in /opt/conda/lib/python3.10/site-packages (from numba>=0.55.0->pycaret) (0.40.1)\r\n",
      "Requirement already satisfied: pytz>=2020.1 in /opt/conda/lib/python3.10/site-packages (from pandas<2.0.0,>=1.3.0->pycaret) (2023.3)\r\n",
      "Requirement already satisfied: tenacity>=6.2.0 in /opt/conda/lib/python3.10/site-packages (from plotly>=5.0.0->pycaret) (8.2.2)\r\n",
      "Collecting dash<3.0.0,>=2.11.0 (from plotly-resampler>=0.8.3.1->pycaret)\r\n",
      "  Downloading dash-2.13.0-py3-none-any.whl (10.4 MB)\r\n",
      "\u001b[2K     \u001b[90m━━━━━━━━━━━━━━━━━━━━━━━━━━━━━━━━━━━━━━━━\u001b[0m \u001b[32m10.4/10.4 MB\u001b[0m \u001b[31m77.8 MB/s\u001b[0m eta \u001b[36m0:00:00\u001b[0m\r\n",
      "\u001b[?25hRequirement already satisfied: orjson<4.0.0,>=3.8.0 in /opt/conda/lib/python3.10/site-packages (from plotly-resampler>=0.8.3.1->pycaret) (3.9.1)\r\n",
      "Collecting trace-updater>=0.0.8 (from plotly-resampler>=0.8.3.1->pycaret)\r\n",
      "  Downloading trace_updater-0.0.9.1-py3-none-any.whl (185 kB)\r\n",
      "\u001b[2K     \u001b[90m━━━━━━━━━━━━━━━━━━━━━━━━━━━━━━━━━━━━━━\u001b[0m \u001b[32m185.2/185.2 kB\u001b[0m \u001b[31m18.0 MB/s\u001b[0m eta \u001b[36m0:00:00\u001b[0m\r\n",
      "\u001b[?25hCollecting tsdownsample==0.1.2 (from plotly-resampler>=0.8.3.1->pycaret)\r\n",
      "  Downloading tsdownsample-0.1.2-cp310-cp310-manylinux_2_17_x86_64.manylinux2014_x86_64.whl (2.3 MB)\r\n",
      "\u001b[2K     \u001b[90m━━━━━━━━━━━━━━━━━━━━━━━━━━━━━━━━━━━━━━━━\u001b[0m \u001b[32m2.3/2.3 MB\u001b[0m \u001b[31m62.1 MB/s\u001b[0m eta \u001b[36m0:00:00\u001b[0m\r\n",
      "\u001b[?25hRequirement already satisfied: Cython!=0.29.18,!=0.29.31,>=0.29 in /opt/conda/lib/python3.10/site-packages (from pmdarima!=1.8.1,<3.0.0,>=1.8.0->pycaret) (0.29.35)\r\n",
      "Requirement already satisfied: urllib3 in /opt/conda/lib/python3.10/site-packages (from pmdarima!=1.8.1,<3.0.0,>=1.8.0->pycaret) (1.26.15)\r\n",
      "Requirement already satisfied: setuptools!=50.0.0,>=38.6.0 in /opt/conda/lib/python3.10/site-packages (from pmdarima!=1.8.1,<3.0.0,>=1.8.0->pycaret) (59.8.0)\r\n",
      "Requirement already satisfied: six in /opt/conda/lib/python3.10/site-packages (from pyod>=1.0.8->pycaret) (1.16.0)\r\n",
      "Requirement already satisfied: charset-normalizer<4,>=2 in /opt/conda/lib/python3.10/site-packages (from requests>=2.27.1->pycaret) (3.1.0)\r\n",
      "Requirement already satisfied: idna<4,>=2.5 in /opt/conda/lib/python3.10/site-packages (from requests>=2.27.1->pycaret) (3.4)\r\n",
      "Requirement already satisfied: certifi>=2017.4.17 in /opt/conda/lib/python3.10/site-packages (from requests>=2.27.1->pycaret) (2023.5.7)\r\n",
      "Collecting scikit-base<0.6.0 (from sktime!=0.17.1,!=0.17.2,!=0.18.0,>=0.16.1->pycaret)\r\n",
      "  Downloading scikit_base-0.5.1-py3-none-any.whl (118 kB)\r\n",
      "\u001b[2K     \u001b[90m━━━━━━━━━━━━━━━━━━━━━━━━━━━━━━━━━━━━━━\u001b[0m \u001b[32m118.7/118.7 kB\u001b[0m \u001b[31m10.8 MB/s\u001b[0m eta \u001b[36m0:00:00\u001b[0m\r\n",
      "\u001b[?25hCollecting Flask<2.3.0,>=1.0.4 (from dash<3.0.0,>=2.11.0->plotly-resampler>=0.8.3.1->pycaret)\r\n",
      "  Downloading Flask-2.2.5-py3-none-any.whl (101 kB)\r\n",
      "\u001b[2K     \u001b[90m━━━━━━━━━━━━━━━━━━━━━━━━━━━━━━━━━━━━━━\u001b[0m \u001b[32m101.8/101.8 kB\u001b[0m \u001b[31m10.3 MB/s\u001b[0m eta \u001b[36m0:00:00\u001b[0m\r\n",
      "\u001b[?25hCollecting Werkzeug<2.3.0 (from dash<3.0.0,>=2.11.0->plotly-resampler>=0.8.3.1->pycaret)\r\n",
      "  Downloading Werkzeug-2.2.3-py3-none-any.whl (233 kB)\r\n",
      "\u001b[2K     \u001b[90m━━━━━━━━━━━━━━━━━━━━━━━━━━━━━━━━━━━━━━\u001b[0m \u001b[32m233.6/233.6 kB\u001b[0m \u001b[31m20.7 MB/s\u001b[0m eta \u001b[36m0:00:00\u001b[0m\r\n",
      "\u001b[?25hCollecting dash-html-components==2.0.0 (from dash<3.0.0,>=2.11.0->plotly-resampler>=0.8.3.1->pycaret)\r\n",
      "  Downloading dash_html_components-2.0.0-py3-none-any.whl (4.1 kB)\r\n",
      "Collecting dash-core-components==2.0.0 (from dash<3.0.0,>=2.11.0->plotly-resampler>=0.8.3.1->pycaret)\r\n",
      "  Downloading dash_core_components-2.0.0-py3-none-any.whl (3.8 kB)\r\n",
      "Collecting dash-table==5.0.0 (from dash<3.0.0,>=2.11.0->plotly-resampler>=0.8.3.1->pycaret)\r\n",
      "  Downloading dash_table-5.0.0-py3-none-any.whl (3.9 kB)\r\n",
      "Requirement already satisfied: typing-extensions>=4.1.1 in /opt/conda/lib/python3.10/site-packages (from dash<3.0.0,>=2.11.0->plotly-resampler>=0.8.3.1->pycaret) (4.6.3)\r\n",
      "Requirement already satisfied: retrying in /opt/conda/lib/python3.10/site-packages (from dash<3.0.0,>=2.11.0->plotly-resampler>=0.8.3.1->pycaret) (1.3.3)\r\n",
      "Collecting ansi2html (from dash<3.0.0,>=2.11.0->plotly-resampler>=0.8.3.1->pycaret)\r\n",
      "  Downloading ansi2html-1.8.0-py3-none-any.whl (16 kB)\r\n",
      "Requirement already satisfied: nest-asyncio in /opt/conda/lib/python3.10/site-packages (from dash<3.0.0,>=2.11.0->plotly-resampler>=0.8.3.1->pycaret) (1.5.6)\r\n",
      "Requirement already satisfied: comm>=0.1.1 in /opt/conda/lib/python3.10/site-packages (from ipykernel>=4.5.1->ipywidgets>=7.6.5->pycaret) (0.1.3)\r\n",
      "Requirement already satisfied: debugpy>=1.6.5 in /opt/conda/lib/python3.10/site-packages (from ipykernel>=4.5.1->ipywidgets>=7.6.5->pycaret) (1.6.7)\r\n",
      "Requirement already satisfied: jupyter-client>=6.1.12 in /opt/conda/lib/python3.10/site-packages (from ipykernel>=4.5.1->ipywidgets>=7.6.5->pycaret) (7.4.9)\r\n",
      "Requirement already satisfied: pyzmq>=20 in /opt/conda/lib/python3.10/site-packages (from ipykernel>=4.5.1->ipywidgets>=7.6.5->pycaret) (25.1.0)\r\n",
      "Requirement already satisfied: tornado>=6.1 in /opt/conda/lib/python3.10/site-packages (from ipykernel>=4.5.1->ipywidgets>=7.6.5->pycaret) (6.3.2)\r\n",
      "Requirement already satisfied: parso<0.9.0,>=0.8.0 in /opt/conda/lib/python3.10/site-packages (from jedi>=0.16->ipython>=5.5.0->pycaret) (0.8.3)\r\n",
      "Requirement already satisfied: attrs>=17.4.0 in /opt/conda/lib/python3.10/site-packages (from jsonschema>=2.6->nbformat>=4.2.0->pycaret) (23.1.0)\r\n",
      "Requirement already satisfied: pyrsistent!=0.17.0,!=0.17.1,!=0.17.2,>=0.14.0 in /opt/conda/lib/python3.10/site-packages (from jsonschema>=2.6->nbformat>=4.2.0->pycaret) (0.19.3)\r\n",
      "Requirement already satisfied: platformdirs>=2.5 in /opt/conda/lib/python3.10/site-packages (from jupyter-core->nbformat>=4.2.0->pycaret) (3.8.1)\r\n",
      "Requirement already satisfied: ptyprocess>=0.5 in /opt/conda/lib/python3.10/site-packages (from pexpect>4.3->ipython>=5.5.0->pycaret) (0.7.0)\r\n",
      "Requirement already satisfied: wcwidth in /opt/conda/lib/python3.10/site-packages (from prompt-toolkit!=3.0.37,<3.1.0,>=3.0.30->ipython>=5.5.0->pycaret) (0.2.6)\r\n",
      "Requirement already satisfied: notebook>=4.4.1 in /opt/conda/lib/python3.10/site-packages (from widgetsnbextension~=3.6.0->ipywidgets>=7.6.5->pycaret) (6.5.4)\r\n",
      "Requirement already satisfied: executing>=1.2.0 in /opt/conda/lib/python3.10/site-packages (from stack-data->ipython>=5.5.0->pycaret) (1.2.0)\r\n",
      "Requirement already satisfied: asttokens>=2.1.0 in /opt/conda/lib/python3.10/site-packages (from stack-data->ipython>=5.5.0->pycaret) (2.2.1)\r\n",
      "Requirement already satisfied: pure-eval in /opt/conda/lib/python3.10/site-packages (from stack-data->ipython>=5.5.0->pycaret) (0.2.2)\r\n",
      "Requirement already satisfied: itsdangerous>=2.0 in /opt/conda/lib/python3.10/site-packages (from Flask<2.3.0,>=1.0.4->dash<3.0.0,>=2.11.0->plotly-resampler>=0.8.3.1->pycaret) (2.1.2)\r\n",
      "Requirement already satisfied: click>=8.0 in /opt/conda/lib/python3.10/site-packages (from Flask<2.3.0,>=1.0.4->dash<3.0.0,>=2.11.0->plotly-resampler>=0.8.3.1->pycaret) (8.1.3)\r\n",
      "Requirement already satisfied: entrypoints in /opt/conda/lib/python3.10/site-packages (from jupyter-client>=6.1.12->ipykernel>=4.5.1->ipywidgets>=7.6.5->pycaret) (0.4)\r\n",
      "Requirement already satisfied: argon2-cffi in /opt/conda/lib/python3.10/site-packages (from notebook>=4.4.1->widgetsnbextension~=3.6.0->ipywidgets>=7.6.5->pycaret) (21.3.0)\r\n",
      "Requirement already satisfied: nbconvert>=5 in /opt/conda/lib/python3.10/site-packages (from notebook>=4.4.1->widgetsnbextension~=3.6.0->ipywidgets>=7.6.5->pycaret) (6.4.5)\r\n",
      "Requirement already satisfied: Send2Trash>=1.8.0 in /opt/conda/lib/python3.10/site-packages (from notebook>=4.4.1->widgetsnbextension~=3.6.0->ipywidgets>=7.6.5->pycaret) (1.8.2)\r\n",
      "Requirement already satisfied: terminado>=0.8.3 in /opt/conda/lib/python3.10/site-packages (from notebook>=4.4.1->widgetsnbextension~=3.6.0->ipywidgets>=7.6.5->pycaret) (0.17.1)\r\n",
      "Requirement already satisfied: prometheus-client in /opt/conda/lib/python3.10/site-packages (from notebook>=4.4.1->widgetsnbextension~=3.6.0->ipywidgets>=7.6.5->pycaret) (0.17.0)\r\n",
      "Requirement already satisfied: nbclassic>=0.4.7 in /opt/conda/lib/python3.10/site-packages (from notebook>=4.4.1->widgetsnbextension~=3.6.0->ipywidgets>=7.6.5->pycaret) (1.0.0)\r\n",
      "Requirement already satisfied: jupyter-server>=1.8 in /opt/conda/lib/python3.10/site-packages (from nbclassic>=0.4.7->notebook>=4.4.1->widgetsnbextension~=3.6.0->ipywidgets>=7.6.5->pycaret) (2.6.0)\r\n",
      "Requirement already satisfied: notebook-shim>=0.2.3 in /opt/conda/lib/python3.10/site-packages (from nbclassic>=0.4.7->notebook>=4.4.1->widgetsnbextension~=3.6.0->ipywidgets>=7.6.5->pycaret) (0.2.3)\r\n",
      "Requirement already satisfied: mistune<2,>=0.8.1 in /opt/conda/lib/python3.10/site-packages (from nbconvert>=5->notebook>=4.4.1->widgetsnbextension~=3.6.0->ipywidgets>=7.6.5->pycaret) (0.8.4)\r\n",
      "Requirement already satisfied: jupyterlab-pygments in /opt/conda/lib/python3.10/site-packages (from nbconvert>=5->notebook>=4.4.1->widgetsnbextension~=3.6.0->ipywidgets>=7.6.5->pycaret) (0.2.2)\r\n",
      "Requirement already satisfied: bleach in /opt/conda/lib/python3.10/site-packages (from nbconvert>=5->notebook>=4.4.1->widgetsnbextension~=3.6.0->ipywidgets>=7.6.5->pycaret) (6.0.0)\r\n",
      "Requirement already satisfied: pandocfilters>=1.4.1 in /opt/conda/lib/python3.10/site-packages (from nbconvert>=5->notebook>=4.4.1->widgetsnbextension~=3.6.0->ipywidgets>=7.6.5->pycaret) (1.5.0)\r\n",
      "Requirement already satisfied: testpath in /opt/conda/lib/python3.10/site-packages (from nbconvert>=5->notebook>=4.4.1->widgetsnbextension~=3.6.0->ipywidgets>=7.6.5->pycaret) (0.6.0)\r\n",
      "Requirement already satisfied: defusedxml in /opt/conda/lib/python3.10/site-packages (from nbconvert>=5->notebook>=4.4.1->widgetsnbextension~=3.6.0->ipywidgets>=7.6.5->pycaret) (0.7.1)\r\n",
      "Requirement already satisfied: beautifulsoup4 in /opt/conda/lib/python3.10/site-packages (from nbconvert>=5->notebook>=4.4.1->widgetsnbextension~=3.6.0->ipywidgets>=7.6.5->pycaret) (4.12.2)\r\n",
      "Requirement already satisfied: nbclient<0.6.0,>=0.5.0 in /opt/conda/lib/python3.10/site-packages (from nbconvert>=5->notebook>=4.4.1->widgetsnbextension~=3.6.0->ipywidgets>=7.6.5->pycaret) (0.5.13)\r\n",
      "Requirement already satisfied: argon2-cffi-bindings in /opt/conda/lib/python3.10/site-packages (from argon2-cffi->notebook>=4.4.1->widgetsnbextension~=3.6.0->ipywidgets>=7.6.5->pycaret) (21.2.0)\r\n",
      "Requirement already satisfied: anyio>=3.1.0 in /opt/conda/lib/python3.10/site-packages (from jupyter-server>=1.8->nbclassic>=0.4.7->notebook>=4.4.1->widgetsnbextension~=3.6.0->ipywidgets>=7.6.5->pycaret) (3.7.0)\r\n",
      "Requirement already satisfied: jupyter-events>=0.6.0 in /opt/conda/lib/python3.10/site-packages (from jupyter-server>=1.8->nbclassic>=0.4.7->notebook>=4.4.1->widgetsnbextension~=3.6.0->ipywidgets>=7.6.5->pycaret) (0.6.3)\r\n",
      "Requirement already satisfied: jupyter-server-terminals in /opt/conda/lib/python3.10/site-packages (from jupyter-server>=1.8->nbclassic>=0.4.7->notebook>=4.4.1->widgetsnbextension~=3.6.0->ipywidgets>=7.6.5->pycaret) (0.4.4)\r\n",
      "Requirement already satisfied: overrides in /opt/conda/lib/python3.10/site-packages (from jupyter-server>=1.8->nbclassic>=0.4.7->notebook>=4.4.1->widgetsnbextension~=3.6.0->ipywidgets>=7.6.5->pycaret) (6.5.0)\r\n",
      "Requirement already satisfied: websocket-client in /opt/conda/lib/python3.10/site-packages (from jupyter-server>=1.8->nbclassic>=0.4.7->notebook>=4.4.1->widgetsnbextension~=3.6.0->ipywidgets>=7.6.5->pycaret) (1.6.0)\r\n",
      "Requirement already satisfied: cffi>=1.0.1 in /opt/conda/lib/python3.10/site-packages (from argon2-cffi-bindings->argon2-cffi->notebook>=4.4.1->widgetsnbextension~=3.6.0->ipywidgets>=7.6.5->pycaret) (1.15.1)\r\n",
      "Requirement already satisfied: soupsieve>1.2 in /opt/conda/lib/python3.10/site-packages (from beautifulsoup4->nbconvert>=5->notebook>=4.4.1->widgetsnbextension~=3.6.0->ipywidgets>=7.6.5->pycaret) (2.3.2.post1)\r\n",
      "Requirement already satisfied: webencodings in /opt/conda/lib/python3.10/site-packages (from bleach->nbconvert>=5->notebook>=4.4.1->widgetsnbextension~=3.6.0->ipywidgets>=7.6.5->pycaret) (0.5.1)\r\n",
      "Requirement already satisfied: sniffio>=1.1 in /opt/conda/lib/python3.10/site-packages (from anyio>=3.1.0->jupyter-server>=1.8->nbclassic>=0.4.7->notebook>=4.4.1->widgetsnbextension~=3.6.0->ipywidgets>=7.6.5->pycaret) (1.3.0)\r\n",
      "Requirement already satisfied: exceptiongroup in /opt/conda/lib/python3.10/site-packages (from anyio>=3.1.0->jupyter-server>=1.8->nbclassic>=0.4.7->notebook>=4.4.1->widgetsnbextension~=3.6.0->ipywidgets>=7.6.5->pycaret) (1.1.1)\r\n",
      "Requirement already satisfied: pycparser in /opt/conda/lib/python3.10/site-packages (from cffi>=1.0.1->argon2-cffi-bindings->argon2-cffi->notebook>=4.4.1->widgetsnbextension~=3.6.0->ipywidgets>=7.6.5->pycaret) (2.21)\r\n",
      "Requirement already satisfied: python-json-logger>=2.0.4 in /opt/conda/lib/python3.10/site-packages (from jupyter-events>=0.6.0->jupyter-server>=1.8->nbclassic>=0.4.7->notebook>=4.4.1->widgetsnbextension~=3.6.0->ipywidgets>=7.6.5->pycaret) (2.0.7)\r\n",
      "Requirement already satisfied: pyyaml>=5.3 in /opt/conda/lib/python3.10/site-packages (from jupyter-events>=0.6.0->jupyter-server>=1.8->nbclassic>=0.4.7->notebook>=4.4.1->widgetsnbextension~=3.6.0->ipywidgets>=7.6.5->pycaret) (6.0)\r\n",
      "Requirement already satisfied: rfc3339-validator in /opt/conda/lib/python3.10/site-packages (from jupyter-events>=0.6.0->jupyter-server>=1.8->nbclassic>=0.4.7->notebook>=4.4.1->widgetsnbextension~=3.6.0->ipywidgets>=7.6.5->pycaret) (0.1.4)\r\n",
      "Requirement already satisfied: rfc3986-validator>=0.1.1 in /opt/conda/lib/python3.10/site-packages (from jupyter-events>=0.6.0->jupyter-server>=1.8->nbclassic>=0.4.7->notebook>=4.4.1->widgetsnbextension~=3.6.0->ipywidgets>=7.6.5->pycaret) (0.1.1)\r\n",
      "Requirement already satisfied: fqdn in /opt/conda/lib/python3.10/site-packages (from jsonschema>=2.6->nbformat>=4.2.0->pycaret) (1.5.1)\r\n",
      "Requirement already satisfied: isoduration in /opt/conda/lib/python3.10/site-packages (from jsonschema>=2.6->nbformat>=4.2.0->pycaret) (20.11.0)\r\n",
      "Requirement already satisfied: jsonpointer>1.13 in /opt/conda/lib/python3.10/site-packages (from jsonschema>=2.6->nbformat>=4.2.0->pycaret) (2.0)\r\n",
      "Requirement already satisfied: uri-template in /opt/conda/lib/python3.10/site-packages (from jsonschema>=2.6->nbformat>=4.2.0->pycaret) (1.3.0)\r\n",
      "Requirement already satisfied: webcolors>=1.11 in /opt/conda/lib/python3.10/site-packages (from jsonschema>=2.6->nbformat>=4.2.0->pycaret) (1.13)\r\n",
      "Requirement already satisfied: arrow>=0.15.0 in /opt/conda/lib/python3.10/site-packages (from isoduration->jsonschema>=2.6->nbformat>=4.2.0->pycaret) (1.2.3)\r\n",
      "Building wheels for collected packages: pyod\r\n",
      "  Building wheel for pyod (setup.py) ... \u001b[?25l-\b \b\\\b \b|\b \bdone\r\n",
      "\u001b[?25h  Created wheel for pyod: filename=pyod-1.1.0-py3-none-any.whl size=185348 sha256=182c3d225d791ece2b89a7a2ec65cfb191d1476fc09e9f7e6ecd15ba036d80ab\r\n",
      "  Stored in directory: /root/.cache/pip/wheels/36/8e/e2/e932956b10b843eb6be9eefa70b5c1bee7b561be14c423b136\r\n",
      "Successfully built pyod\r\n",
      "Installing collected packages: trace-updater, kaleido, dash-table, dash-html-components, dash-core-components, Werkzeug, tsdownsample, scikit-base, schemdraw, ansi2html, Flask, sktime, pyod, dash, pmdarima, plotly-resampler, tbats, pycaret\r\n",
      "  Attempting uninstall: Werkzeug\r\n",
      "    Found existing installation: Werkzeug 2.3.6\r\n",
      "    Uninstalling Werkzeug-2.3.6:\r\n",
      "      Successfully uninstalled Werkzeug-2.3.6\r\n",
      "  Attempting uninstall: Flask\r\n",
      "    Found existing installation: Flask 2.3.2\r\n",
      "    Uninstalling Flask-2.3.2:\r\n",
      "      Successfully uninstalled Flask-2.3.2\r\n",
      "Successfully installed Flask-2.2.5 Werkzeug-2.2.3 ansi2html-1.8.0 dash-2.13.0 dash-core-components-2.0.0 dash-html-components-2.0.0 dash-table-5.0.0 kaleido-0.2.1 plotly-resampler-0.9.1 pmdarima-2.0.3 pycaret-3.0.4 pyod-1.1.0 schemdraw-0.15 scikit-base-0.5.1 sktime-0.22.0 tbats-1.1.3 trace-updater-0.0.9.1 tsdownsample-0.1.2\r\n"
     ]
    }
   ],
   "source": [
    "!pip install pycaret"
   ]
  },
  {
   "cell_type": "code",
   "execution_count": 32,
   "id": "3277a789",
   "metadata": {
    "execution": {
     "iopub.execute_input": "2023-09-03T20:17:49.383764Z",
     "iopub.status.busy": "2023-09-03T20:17:49.383329Z",
     "iopub.status.idle": "2023-09-03T20:17:51.986644Z",
     "shell.execute_reply": "2023-09-03T20:17:51.985712Z"
    },
    "papermill": {
     "duration": 2.648719,
     "end_time": "2023-09-03T20:17:51.989456",
     "exception": false,
     "start_time": "2023-09-03T20:17:49.340737",
     "status": "completed"
    },
    "tags": []
   },
   "outputs": [],
   "source": [
    "from pycaret.classification import *"
   ]
  },
  {
   "cell_type": "code",
   "execution_count": 33,
   "id": "3c7271e1",
   "metadata": {
    "execution": {
     "iopub.execute_input": "2023-09-03T20:17:52.075226Z",
     "iopub.status.busy": "2023-09-03T20:17:52.074796Z",
     "iopub.status.idle": "2023-09-03T20:17:55.636704Z",
     "shell.execute_reply": "2023-09-03T20:17:55.635749Z"
    },
    "papermill": {
     "duration": 3.607964,
     "end_time": "2023-09-03T20:17:55.639310",
     "exception": false,
     "start_time": "2023-09-03T20:17:52.031346",
     "status": "completed"
    },
    "tags": []
   },
   "outputs": [
    {
     "data": {
      "text/html": [
       "<style type=\"text/css\">\n",
       "#T_44940_row8_col1 {\n",
       "  background-color: lightgreen;\n",
       "}\n",
       "</style>\n",
       "<table id=\"T_44940\">\n",
       "  <thead>\n",
       "    <tr>\n",
       "      <th class=\"blank level0\" >&nbsp;</th>\n",
       "      <th id=\"T_44940_level0_col0\" class=\"col_heading level0 col0\" >Description</th>\n",
       "      <th id=\"T_44940_level0_col1\" class=\"col_heading level0 col1\" >Value</th>\n",
       "    </tr>\n",
       "  </thead>\n",
       "  <tbody>\n",
       "    <tr>\n",
       "      <th id=\"T_44940_level0_row0\" class=\"row_heading level0 row0\" >0</th>\n",
       "      <td id=\"T_44940_row0_col0\" class=\"data row0 col0\" >Session id</td>\n",
       "      <td id=\"T_44940_row0_col1\" class=\"data row0 col1\" >5770</td>\n",
       "    </tr>\n",
       "    <tr>\n",
       "      <th id=\"T_44940_level0_row1\" class=\"row_heading level0 row1\" >1</th>\n",
       "      <td id=\"T_44940_row1_col0\" class=\"data row1 col0\" >Target</td>\n",
       "      <td id=\"T_44940_row1_col1\" class=\"data row1 col1\" >Class</td>\n",
       "    </tr>\n",
       "    <tr>\n",
       "      <th id=\"T_44940_level0_row2\" class=\"row_heading level0 row2\" >2</th>\n",
       "      <td id=\"T_44940_row2_col0\" class=\"data row2 col0\" >Target type</td>\n",
       "      <td id=\"T_44940_row2_col1\" class=\"data row2 col1\" >Binary</td>\n",
       "    </tr>\n",
       "    <tr>\n",
       "      <th id=\"T_44940_level0_row3\" class=\"row_heading level0 row3\" >3</th>\n",
       "      <td id=\"T_44940_row3_col0\" class=\"data row3 col0\" >Original data shape</td>\n",
       "      <td id=\"T_44940_row3_col1\" class=\"data row3 col1\" >(284807, 31)</td>\n",
       "    </tr>\n",
       "    <tr>\n",
       "      <th id=\"T_44940_level0_row4\" class=\"row_heading level0 row4\" >4</th>\n",
       "      <td id=\"T_44940_row4_col0\" class=\"data row4 col0\" >Transformed data shape</td>\n",
       "      <td id=\"T_44940_row4_col1\" class=\"data row4 col1\" >(284807, 31)</td>\n",
       "    </tr>\n",
       "    <tr>\n",
       "      <th id=\"T_44940_level0_row5\" class=\"row_heading level0 row5\" >5</th>\n",
       "      <td id=\"T_44940_row5_col0\" class=\"data row5 col0\" >Transformed train set shape</td>\n",
       "      <td id=\"T_44940_row5_col1\" class=\"data row5 col1\" >(213605, 31)</td>\n",
       "    </tr>\n",
       "    <tr>\n",
       "      <th id=\"T_44940_level0_row6\" class=\"row_heading level0 row6\" >6</th>\n",
       "      <td id=\"T_44940_row6_col0\" class=\"data row6 col0\" >Transformed test set shape</td>\n",
       "      <td id=\"T_44940_row6_col1\" class=\"data row6 col1\" >(71202, 31)</td>\n",
       "    </tr>\n",
       "    <tr>\n",
       "      <th id=\"T_44940_level0_row7\" class=\"row_heading level0 row7\" >7</th>\n",
       "      <td id=\"T_44940_row7_col0\" class=\"data row7 col0\" >Numeric features</td>\n",
       "      <td id=\"T_44940_row7_col1\" class=\"data row7 col1\" >30</td>\n",
       "    </tr>\n",
       "    <tr>\n",
       "      <th id=\"T_44940_level0_row8\" class=\"row_heading level0 row8\" >8</th>\n",
       "      <td id=\"T_44940_row8_col0\" class=\"data row8 col0\" >Preprocess</td>\n",
       "      <td id=\"T_44940_row8_col1\" class=\"data row8 col1\" >True</td>\n",
       "    </tr>\n",
       "    <tr>\n",
       "      <th id=\"T_44940_level0_row9\" class=\"row_heading level0 row9\" >9</th>\n",
       "      <td id=\"T_44940_row9_col0\" class=\"data row9 col0\" >Imputation type</td>\n",
       "      <td id=\"T_44940_row9_col1\" class=\"data row9 col1\" >simple</td>\n",
       "    </tr>\n",
       "    <tr>\n",
       "      <th id=\"T_44940_level0_row10\" class=\"row_heading level0 row10\" >10</th>\n",
       "      <td id=\"T_44940_row10_col0\" class=\"data row10 col0\" >Numeric imputation</td>\n",
       "      <td id=\"T_44940_row10_col1\" class=\"data row10 col1\" >mean</td>\n",
       "    </tr>\n",
       "    <tr>\n",
       "      <th id=\"T_44940_level0_row11\" class=\"row_heading level0 row11\" >11</th>\n",
       "      <td id=\"T_44940_row11_col0\" class=\"data row11 col0\" >Categorical imputation</td>\n",
       "      <td id=\"T_44940_row11_col1\" class=\"data row11 col1\" >mode</td>\n",
       "    </tr>\n",
       "    <tr>\n",
       "      <th id=\"T_44940_level0_row12\" class=\"row_heading level0 row12\" >12</th>\n",
       "      <td id=\"T_44940_row12_col0\" class=\"data row12 col0\" >Fold Generator</td>\n",
       "      <td id=\"T_44940_row12_col1\" class=\"data row12 col1\" >StratifiedKFold</td>\n",
       "    </tr>\n",
       "    <tr>\n",
       "      <th id=\"T_44940_level0_row13\" class=\"row_heading level0 row13\" >13</th>\n",
       "      <td id=\"T_44940_row13_col0\" class=\"data row13 col0\" >Fold Number</td>\n",
       "      <td id=\"T_44940_row13_col1\" class=\"data row13 col1\" >10</td>\n",
       "    </tr>\n",
       "    <tr>\n",
       "      <th id=\"T_44940_level0_row14\" class=\"row_heading level0 row14\" >14</th>\n",
       "      <td id=\"T_44940_row14_col0\" class=\"data row14 col0\" >CPU Jobs</td>\n",
       "      <td id=\"T_44940_row14_col1\" class=\"data row14 col1\" >-1</td>\n",
       "    </tr>\n",
       "    <tr>\n",
       "      <th id=\"T_44940_level0_row15\" class=\"row_heading level0 row15\" >15</th>\n",
       "      <td id=\"T_44940_row15_col0\" class=\"data row15 col0\" >Use GPU</td>\n",
       "      <td id=\"T_44940_row15_col1\" class=\"data row15 col1\" >False</td>\n",
       "    </tr>\n",
       "    <tr>\n",
       "      <th id=\"T_44940_level0_row16\" class=\"row_heading level0 row16\" >16</th>\n",
       "      <td id=\"T_44940_row16_col0\" class=\"data row16 col0\" >Log Experiment</td>\n",
       "      <td id=\"T_44940_row16_col1\" class=\"data row16 col1\" >False</td>\n",
       "    </tr>\n",
       "    <tr>\n",
       "      <th id=\"T_44940_level0_row17\" class=\"row_heading level0 row17\" >17</th>\n",
       "      <td id=\"T_44940_row17_col0\" class=\"data row17 col0\" >Experiment Name</td>\n",
       "      <td id=\"T_44940_row17_col1\" class=\"data row17 col1\" >clf-default-name</td>\n",
       "    </tr>\n",
       "    <tr>\n",
       "      <th id=\"T_44940_level0_row18\" class=\"row_heading level0 row18\" >18</th>\n",
       "      <td id=\"T_44940_row18_col0\" class=\"data row18 col0\" >USI</td>\n",
       "      <td id=\"T_44940_row18_col1\" class=\"data row18 col1\" >755b</td>\n",
       "    </tr>\n",
       "  </tbody>\n",
       "</table>\n"
      ],
      "text/plain": [
       "<pandas.io.formats.style.Styler at 0x7bf5077e1d80>"
      ]
     },
     "metadata": {},
     "output_type": "display_data"
    }
   ],
   "source": [
    "clf = setup(df, target=\"Class\", train_size=0.75)"
   ]
  },
  {
   "cell_type": "code",
   "execution_count": 34,
   "id": "f3af7178",
   "metadata": {
    "execution": {
     "iopub.execute_input": "2023-09-03T20:17:55.724516Z",
     "iopub.status.busy": "2023-09-03T20:17:55.724133Z",
     "iopub.status.idle": "2023-09-03T21:23:58.232646Z",
     "shell.execute_reply": "2023-09-03T21:23:58.231222Z"
    },
    "papermill": {
     "duration": 3962.553778,
     "end_time": "2023-09-03T21:23:58.235137",
     "exception": false,
     "start_time": "2023-09-03T20:17:55.681359",
     "status": "completed"
    },
    "tags": []
   },
   "outputs": [
    {
     "data": {
      "text/html": [],
      "text/plain": [
       "<IPython.core.display.HTML object>"
      ]
     },
     "metadata": {},
     "output_type": "display_data"
    },
    {
     "data": {
      "text/html": [
       "<style type=\"text/css\">\n",
       "#T_af8a6 th {\n",
       "  text-align: left;\n",
       "}\n",
       "#T_af8a6_row0_col0, #T_af8a6_row0_col3, #T_af8a6_row0_col4, #T_af8a6_row0_col5, #T_af8a6_row0_col6, #T_af8a6_row0_col7, #T_af8a6_row1_col0, #T_af8a6_row1_col2, #T_af8a6_row1_col3, #T_af8a6_row2_col0, #T_af8a6_row2_col1, #T_af8a6_row2_col2, #T_af8a6_row2_col3, #T_af8a6_row2_col4, #T_af8a6_row2_col5, #T_af8a6_row2_col6, #T_af8a6_row2_col7, #T_af8a6_row3_col0, #T_af8a6_row3_col1, #T_af8a6_row3_col2, #T_af8a6_row3_col3, #T_af8a6_row3_col4, #T_af8a6_row3_col5, #T_af8a6_row3_col6, #T_af8a6_row3_col7, #T_af8a6_row4_col0, #T_af8a6_row4_col1, #T_af8a6_row4_col2, #T_af8a6_row4_col3, #T_af8a6_row4_col4, #T_af8a6_row4_col5, #T_af8a6_row4_col6, #T_af8a6_row4_col7, #T_af8a6_row5_col0, #T_af8a6_row5_col1, #T_af8a6_row5_col2, #T_af8a6_row5_col3, #T_af8a6_row5_col4, #T_af8a6_row5_col5, #T_af8a6_row5_col6, #T_af8a6_row5_col7, #T_af8a6_row6_col0, #T_af8a6_row6_col1, #T_af8a6_row6_col2, #T_af8a6_row6_col3, #T_af8a6_row6_col4, #T_af8a6_row6_col5, #T_af8a6_row6_col6, #T_af8a6_row6_col7, #T_af8a6_row7_col0, #T_af8a6_row7_col1, #T_af8a6_row7_col2, #T_af8a6_row7_col3, #T_af8a6_row7_col4, #T_af8a6_row7_col5, #T_af8a6_row7_col6, #T_af8a6_row7_col7, #T_af8a6_row8_col0, #T_af8a6_row8_col1, #T_af8a6_row8_col2, #T_af8a6_row8_col3, #T_af8a6_row8_col4, #T_af8a6_row8_col5, #T_af8a6_row8_col6, #T_af8a6_row8_col7, #T_af8a6_row9_col0, #T_af8a6_row9_col1, #T_af8a6_row9_col2, #T_af8a6_row9_col3, #T_af8a6_row9_col4, #T_af8a6_row9_col5, #T_af8a6_row9_col6, #T_af8a6_row9_col7, #T_af8a6_row10_col0, #T_af8a6_row10_col1, #T_af8a6_row10_col2, #T_af8a6_row10_col3, #T_af8a6_row10_col4, #T_af8a6_row10_col5, #T_af8a6_row10_col6, #T_af8a6_row10_col7, #T_af8a6_row11_col0, #T_af8a6_row11_col1, #T_af8a6_row11_col2, #T_af8a6_row11_col3, #T_af8a6_row11_col4, #T_af8a6_row11_col5, #T_af8a6_row11_col6, #T_af8a6_row11_col7, #T_af8a6_row12_col0, #T_af8a6_row12_col1, #T_af8a6_row12_col2, #T_af8a6_row12_col3, #T_af8a6_row12_col4, #T_af8a6_row12_col5, #T_af8a6_row12_col6, #T_af8a6_row12_col7, #T_af8a6_row13_col0, #T_af8a6_row13_col1, #T_af8a6_row13_col2, #T_af8a6_row13_col3, #T_af8a6_row13_col4, #T_af8a6_row13_col5, #T_af8a6_row13_col6, #T_af8a6_row13_col7, #T_af8a6_row14_col0, #T_af8a6_row14_col1, #T_af8a6_row14_col2, #T_af8a6_row14_col3, #T_af8a6_row14_col4, #T_af8a6_row14_col5, #T_af8a6_row14_col6, #T_af8a6_row14_col7, #T_af8a6_row15_col0, #T_af8a6_row15_col1, #T_af8a6_row15_col2, #T_af8a6_row15_col4, #T_af8a6_row15_col5, #T_af8a6_row15_col6, #T_af8a6_row15_col7 {\n",
       "  text-align: left;\n",
       "}\n",
       "#T_af8a6_row0_col1, #T_af8a6_row0_col2, #T_af8a6_row1_col1, #T_af8a6_row1_col4, #T_af8a6_row1_col5, #T_af8a6_row1_col6, #T_af8a6_row1_col7, #T_af8a6_row15_col3 {\n",
       "  text-align: left;\n",
       "  background-color: yellow;\n",
       "}\n",
       "#T_af8a6_row0_col8, #T_af8a6_row1_col8, #T_af8a6_row2_col8, #T_af8a6_row3_col8, #T_af8a6_row4_col8, #T_af8a6_row5_col8, #T_af8a6_row6_col8, #T_af8a6_row7_col8, #T_af8a6_row8_col8, #T_af8a6_row9_col8, #T_af8a6_row10_col8, #T_af8a6_row12_col8, #T_af8a6_row13_col8, #T_af8a6_row14_col8, #T_af8a6_row15_col8 {\n",
       "  text-align: left;\n",
       "  background-color: lightgrey;\n",
       "}\n",
       "#T_af8a6_row11_col8 {\n",
       "  text-align: left;\n",
       "  background-color: yellow;\n",
       "  background-color: lightgrey;\n",
       "}\n",
       "</style>\n",
       "<table id=\"T_af8a6\">\n",
       "  <thead>\n",
       "    <tr>\n",
       "      <th class=\"blank level0\" >&nbsp;</th>\n",
       "      <th id=\"T_af8a6_level0_col0\" class=\"col_heading level0 col0\" >Model</th>\n",
       "      <th id=\"T_af8a6_level0_col1\" class=\"col_heading level0 col1\" >Accuracy</th>\n",
       "      <th id=\"T_af8a6_level0_col2\" class=\"col_heading level0 col2\" >AUC</th>\n",
       "      <th id=\"T_af8a6_level0_col3\" class=\"col_heading level0 col3\" >Recall</th>\n",
       "      <th id=\"T_af8a6_level0_col4\" class=\"col_heading level0 col4\" >Prec.</th>\n",
       "      <th id=\"T_af8a6_level0_col5\" class=\"col_heading level0 col5\" >F1</th>\n",
       "      <th id=\"T_af8a6_level0_col6\" class=\"col_heading level0 col6\" >Kappa</th>\n",
       "      <th id=\"T_af8a6_level0_col7\" class=\"col_heading level0 col7\" >MCC</th>\n",
       "      <th id=\"T_af8a6_level0_col8\" class=\"col_heading level0 col8\" >TT (Sec)</th>\n",
       "    </tr>\n",
       "  </thead>\n",
       "  <tbody>\n",
       "    <tr>\n",
       "      <th id=\"T_af8a6_level0_row0\" class=\"row_heading level0 row0\" >xgboost</th>\n",
       "      <td id=\"T_af8a6_row0_col0\" class=\"data row0 col0\" >Extreme Gradient Boosting</td>\n",
       "      <td id=\"T_af8a6_row0_col1\" class=\"data row0 col1\" >0.9996</td>\n",
       "      <td id=\"T_af8a6_row0_col2\" class=\"data row0 col2\" >0.9802</td>\n",
       "      <td id=\"T_af8a6_row0_col3\" class=\"data row0 col3\" >0.7832</td>\n",
       "      <td id=\"T_af8a6_row0_col4\" class=\"data row0 col4\" >0.9522</td>\n",
       "      <td id=\"T_af8a6_row0_col5\" class=\"data row0 col5\" >0.8577</td>\n",
       "      <td id=\"T_af8a6_row0_col6\" class=\"data row0 col6\" >0.8575</td>\n",
       "      <td id=\"T_af8a6_row0_col7\" class=\"data row0 col7\" >0.8625</td>\n",
       "      <td id=\"T_af8a6_row0_col8\" class=\"data row0 col8\" >49.0300</td>\n",
       "    </tr>\n",
       "    <tr>\n",
       "      <th id=\"T_af8a6_level0_row1\" class=\"row_heading level0 row1\" >catboost</th>\n",
       "      <td id=\"T_af8a6_row1_col0\" class=\"data row1 col0\" >CatBoost Classifier</td>\n",
       "      <td id=\"T_af8a6_row1_col1\" class=\"data row1 col1\" >0.9996</td>\n",
       "      <td id=\"T_af8a6_row1_col2\" class=\"data row1 col2\" >0.9782</td>\n",
       "      <td id=\"T_af8a6_row1_col3\" class=\"data row1 col3\" >0.7885</td>\n",
       "      <td id=\"T_af8a6_row1_col4\" class=\"data row1 col4\" >0.9536</td>\n",
       "      <td id=\"T_af8a6_row1_col5\" class=\"data row1 col5\" >0.8617</td>\n",
       "      <td id=\"T_af8a6_row1_col6\" class=\"data row1 col6\" >0.8615</td>\n",
       "      <td id=\"T_af8a6_row1_col7\" class=\"data row1 col7\" >0.8662</td>\n",
       "      <td id=\"T_af8a6_row1_col8\" class=\"data row1 col8\" >47.5860</td>\n",
       "    </tr>\n",
       "    <tr>\n",
       "      <th id=\"T_af8a6_level0_row2\" class=\"row_heading level0 row2\" >rf</th>\n",
       "      <td id=\"T_af8a6_row2_col0\" class=\"data row2 col0\" >Random Forest Classifier</td>\n",
       "      <td id=\"T_af8a6_row2_col1\" class=\"data row2 col1\" >0.9995</td>\n",
       "      <td id=\"T_af8a6_row2_col2\" class=\"data row2 col2\" >0.9456</td>\n",
       "      <td id=\"T_af8a6_row2_col3\" class=\"data row2 col3\" >0.7749</td>\n",
       "      <td id=\"T_af8a6_row2_col4\" class=\"data row2 col4\" >0.9390</td>\n",
       "      <td id=\"T_af8a6_row2_col5\" class=\"data row2 col5\" >0.8473</td>\n",
       "      <td id=\"T_af8a6_row2_col6\" class=\"data row2 col6\" >0.8470</td>\n",
       "      <td id=\"T_af8a6_row2_col7\" class=\"data row2 col7\" >0.8519</td>\n",
       "      <td id=\"T_af8a6_row2_col8\" class=\"data row2 col8\" >83.1080</td>\n",
       "    </tr>\n",
       "    <tr>\n",
       "      <th id=\"T_af8a6_level0_row3\" class=\"row_heading level0 row3\" >et</th>\n",
       "      <td id=\"T_af8a6_row3_col0\" class=\"data row3 col0\" >Extra Trees Classifier</td>\n",
       "      <td id=\"T_af8a6_row3_col1\" class=\"data row3 col1\" >0.9995</td>\n",
       "      <td id=\"T_af8a6_row3_col2\" class=\"data row3 col2\" >0.9442</td>\n",
       "      <td id=\"T_af8a6_row3_col3\" class=\"data row3 col3\" >0.7804</td>\n",
       "      <td id=\"T_af8a6_row3_col4\" class=\"data row3 col4\" >0.9455</td>\n",
       "      <td id=\"T_af8a6_row3_col5\" class=\"data row3 col5\" >0.8537</td>\n",
       "      <td id=\"T_af8a6_row3_col6\" class=\"data row3 col6\" >0.8535</td>\n",
       "      <td id=\"T_af8a6_row3_col7\" class=\"data row3 col7\" >0.8581</td>\n",
       "      <td id=\"T_af8a6_row3_col8\" class=\"data row3 col8\" >14.4020</td>\n",
       "    </tr>\n",
       "    <tr>\n",
       "      <th id=\"T_af8a6_level0_row4\" class=\"row_heading level0 row4\" >lda</th>\n",
       "      <td id=\"T_af8a6_row4_col0\" class=\"data row4 col0\" >Linear Discriminant Analysis</td>\n",
       "      <td id=\"T_af8a6_row4_col1\" class=\"data row4 col1\" >0.9994</td>\n",
       "      <td id=\"T_af8a6_row4_col2\" class=\"data row4 col2\" >0.8982</td>\n",
       "      <td id=\"T_af8a6_row4_col3\" class=\"data row4 col3\" >0.7696</td>\n",
       "      <td id=\"T_af8a6_row4_col4\" class=\"data row4 col4\" >0.8762</td>\n",
       "      <td id=\"T_af8a6_row4_col5\" class=\"data row4 col5\" >0.8183</td>\n",
       "      <td id=\"T_af8a6_row4_col6\" class=\"data row4 col6\" >0.8181</td>\n",
       "      <td id=\"T_af8a6_row4_col7\" class=\"data row4 col7\" >0.8203</td>\n",
       "      <td id=\"T_af8a6_row4_col8\" class=\"data row4 col8\" >0.8990</td>\n",
       "    </tr>\n",
       "    <tr>\n",
       "      <th id=\"T_af8a6_level0_row5\" class=\"row_heading level0 row5\" >lr</th>\n",
       "      <td id=\"T_af8a6_row5_col0\" class=\"data row5 col0\" >Logistic Regression</td>\n",
       "      <td id=\"T_af8a6_row5_col1\" class=\"data row5 col1\" >0.9992</td>\n",
       "      <td id=\"T_af8a6_row5_col2\" class=\"data row5 col2\" >0.9435</td>\n",
       "      <td id=\"T_af8a6_row5_col3\" class=\"data row5 col3\" >0.6393</td>\n",
       "      <td id=\"T_af8a6_row5_col4\" class=\"data row5 col4\" >0.8601</td>\n",
       "      <td id=\"T_af8a6_row5_col5\" class=\"data row5 col5\" >0.7281</td>\n",
       "      <td id=\"T_af8a6_row5_col6\" class=\"data row5 col6\" >0.7277</td>\n",
       "      <td id=\"T_af8a6_row5_col7\" class=\"data row5 col7\" >0.7384</td>\n",
       "      <td id=\"T_af8a6_row5_col8\" class=\"data row5 col8\" >3.0160</td>\n",
       "    </tr>\n",
       "    <tr>\n",
       "      <th id=\"T_af8a6_level0_row6\" class=\"row_heading level0 row6\" >ada</th>\n",
       "      <td id=\"T_af8a6_row6_col0\" class=\"data row6 col0\" >Ada Boost Classifier</td>\n",
       "      <td id=\"T_af8a6_row6_col1\" class=\"data row6 col1\" >0.9992</td>\n",
       "      <td id=\"T_af8a6_row6_col2\" class=\"data row6 col2\" >0.9686</td>\n",
       "      <td id=\"T_af8a6_row6_col3\" class=\"data row6 col3\" >0.6881</td>\n",
       "      <td id=\"T_af8a6_row6_col4\" class=\"data row6 col4\" >0.8046</td>\n",
       "      <td id=\"T_af8a6_row6_col5\" class=\"data row6 col5\" >0.7393</td>\n",
       "      <td id=\"T_af8a6_row6_col6\" class=\"data row6 col6\" >0.7389</td>\n",
       "      <td id=\"T_af8a6_row6_col7\" class=\"data row6 col7\" >0.7424</td>\n",
       "      <td id=\"T_af8a6_row6_col8\" class=\"data row6 col8\" >24.4770</td>\n",
       "    </tr>\n",
       "    <tr>\n",
       "      <th id=\"T_af8a6_level0_row7\" class=\"row_heading level0 row7\" >dt</th>\n",
       "      <td id=\"T_af8a6_row7_col0\" class=\"data row7 col0\" >Decision Tree Classifier</td>\n",
       "      <td id=\"T_af8a6_row7_col1\" class=\"data row7 col1\" >0.9991</td>\n",
       "      <td id=\"T_af8a6_row7_col2\" class=\"data row7 col2\" >0.8656</td>\n",
       "      <td id=\"T_af8a6_row7_col3\" class=\"data row7 col3\" >0.7317</td>\n",
       "      <td id=\"T_af8a6_row7_col4\" class=\"data row7 col4\" >0.7465</td>\n",
       "      <td id=\"T_af8a6_row7_col5\" class=\"data row7 col5\" >0.7369</td>\n",
       "      <td id=\"T_af8a6_row7_col6\" class=\"data row7 col6\" >0.7364</td>\n",
       "      <td id=\"T_af8a6_row7_col7\" class=\"data row7 col7\" >0.7375</td>\n",
       "      <td id=\"T_af8a6_row7_col8\" class=\"data row7 col8\" >7.1270</td>\n",
       "    </tr>\n",
       "    <tr>\n",
       "      <th id=\"T_af8a6_level0_row8\" class=\"row_heading level0 row8\" >gbc</th>\n",
       "      <td id=\"T_af8a6_row8_col0\" class=\"data row8 col0\" >Gradient Boosting Classifier</td>\n",
       "      <td id=\"T_af8a6_row8_col1\" class=\"data row8 col1\" >0.9990</td>\n",
       "      <td id=\"T_af8a6_row8_col2\" class=\"data row8 col2\" >0.6895</td>\n",
       "      <td id=\"T_af8a6_row8_col3\" class=\"data row8 col3\" >0.5333</td>\n",
       "      <td id=\"T_af8a6_row8_col4\" class=\"data row8 col4\" >0.7874</td>\n",
       "      <td id=\"T_af8a6_row8_col5\" class=\"data row8 col5\" >0.6131</td>\n",
       "      <td id=\"T_af8a6_row8_col6\" class=\"data row8 col6\" >0.6127</td>\n",
       "      <td id=\"T_af8a6_row8_col7\" class=\"data row8 col7\" >0.6341</td>\n",
       "      <td id=\"T_af8a6_row8_col8\" class=\"data row8 col8\" >129.2160</td>\n",
       "    </tr>\n",
       "    <tr>\n",
       "      <th id=\"T_af8a6_level0_row9\" class=\"row_heading level0 row9\" >ridge</th>\n",
       "      <td id=\"T_af8a6_row9_col0\" class=\"data row9 col0\" >Ridge Classifier</td>\n",
       "      <td id=\"T_af8a6_row9_col1\" class=\"data row9 col1\" >0.9989</td>\n",
       "      <td id=\"T_af8a6_row9_col2\" class=\"data row9 col2\" >0.0000</td>\n",
       "      <td id=\"T_af8a6_row9_col3\" class=\"data row9 col3\" >0.4198</td>\n",
       "      <td id=\"T_af8a6_row9_col4\" class=\"data row9 col4\" >0.8522</td>\n",
       "      <td id=\"T_af8a6_row9_col5\" class=\"data row9 col5\" >0.5566</td>\n",
       "      <td id=\"T_af8a6_row9_col6\" class=\"data row9 col6\" >0.5562</td>\n",
       "      <td id=\"T_af8a6_row9_col7\" class=\"data row9 col7\" >0.5942</td>\n",
       "      <td id=\"T_af8a6_row9_col8\" class=\"data row9 col8\" >0.1680</td>\n",
       "    </tr>\n",
       "    <tr>\n",
       "      <th id=\"T_af8a6_level0_row10\" class=\"row_heading level0 row10\" >knn</th>\n",
       "      <td id=\"T_af8a6_row10_col0\" class=\"data row10 col0\" >K Neighbors Classifier</td>\n",
       "      <td id=\"T_af8a6_row10_col1\" class=\"data row10 col1\" >0.9983</td>\n",
       "      <td id=\"T_af8a6_row10_col2\" class=\"data row10 col2\" >0.6110</td>\n",
       "      <td id=\"T_af8a6_row10_col3\" class=\"data row10 col3\" >0.0379</td>\n",
       "      <td id=\"T_af8a6_row10_col4\" class=\"data row10 col4\" >0.6500</td>\n",
       "      <td id=\"T_af8a6_row10_col5\" class=\"data row10 col5\" >0.0713</td>\n",
       "      <td id=\"T_af8a6_row10_col6\" class=\"data row10 col6\" >0.0712</td>\n",
       "      <td id=\"T_af8a6_row10_col7\" class=\"data row10 col7\" >0.1548</td>\n",
       "      <td id=\"T_af8a6_row10_col8\" class=\"data row10 col8\" >23.4020</td>\n",
       "    </tr>\n",
       "    <tr>\n",
       "      <th id=\"T_af8a6_level0_row11\" class=\"row_heading level0 row11\" >dummy</th>\n",
       "      <td id=\"T_af8a6_row11_col0\" class=\"data row11 col0\" >Dummy Classifier</td>\n",
       "      <td id=\"T_af8a6_row11_col1\" class=\"data row11 col1\" >0.9983</td>\n",
       "      <td id=\"T_af8a6_row11_col2\" class=\"data row11 col2\" >0.5000</td>\n",
       "      <td id=\"T_af8a6_row11_col3\" class=\"data row11 col3\" >0.0000</td>\n",
       "      <td id=\"T_af8a6_row11_col4\" class=\"data row11 col4\" >0.0000</td>\n",
       "      <td id=\"T_af8a6_row11_col5\" class=\"data row11 col5\" >0.0000</td>\n",
       "      <td id=\"T_af8a6_row11_col6\" class=\"data row11 col6\" >0.0000</td>\n",
       "      <td id=\"T_af8a6_row11_col7\" class=\"data row11 col7\" >0.0000</td>\n",
       "      <td id=\"T_af8a6_row11_col8\" class=\"data row11 col8\" >0.1080</td>\n",
       "    </tr>\n",
       "    <tr>\n",
       "      <th id=\"T_af8a6_level0_row12\" class=\"row_heading level0 row12\" >svm</th>\n",
       "      <td id=\"T_af8a6_row12_col0\" class=\"data row12 col0\" >SVM - Linear Kernel</td>\n",
       "      <td id=\"T_af8a6_row12_col1\" class=\"data row12 col1\" >0.9982</td>\n",
       "      <td id=\"T_af8a6_row12_col2\" class=\"data row12 col2\" >0.0000</td>\n",
       "      <td id=\"T_af8a6_row12_col3\" class=\"data row12 col3\" >0.0000</td>\n",
       "      <td id=\"T_af8a6_row12_col4\" class=\"data row12 col4\" >0.0000</td>\n",
       "      <td id=\"T_af8a6_row12_col5\" class=\"data row12 col5\" >0.0000</td>\n",
       "      <td id=\"T_af8a6_row12_col6\" class=\"data row12 col6\" >-0.0001</td>\n",
       "      <td id=\"T_af8a6_row12_col7\" class=\"data row12 col7\" >-0.0001</td>\n",
       "      <td id=\"T_af8a6_row12_col8\" class=\"data row12 col8\" >3.7810</td>\n",
       "    </tr>\n",
       "    <tr>\n",
       "      <th id=\"T_af8a6_level0_row13\" class=\"row_heading level0 row13\" >lightgbm</th>\n",
       "      <td id=\"T_af8a6_row13_col0\" class=\"data row13 col0\" >Light Gradient Boosting Machine</td>\n",
       "      <td id=\"T_af8a6_row13_col1\" class=\"data row13 col1\" >0.9953</td>\n",
       "      <td id=\"T_af8a6_row13_col2\" class=\"data row13 col2\" >0.7066</td>\n",
       "      <td id=\"T_af8a6_row13_col3\" class=\"data row13 col3\" >0.5610</td>\n",
       "      <td id=\"T_af8a6_row13_col4\" class=\"data row13 col4\" >0.2184</td>\n",
       "      <td id=\"T_af8a6_row13_col5\" class=\"data row13 col5\" >0.3077</td>\n",
       "      <td id=\"T_af8a6_row13_col6\" class=\"data row13 col6\" >0.3059</td>\n",
       "      <td id=\"T_af8a6_row13_col7\" class=\"data row13 col7\" >0.3433</td>\n",
       "      <td id=\"T_af8a6_row13_col8\" class=\"data row13 col8\" >3.0050</td>\n",
       "    </tr>\n",
       "    <tr>\n",
       "      <th id=\"T_af8a6_level0_row14\" class=\"row_heading level0 row14\" >nb</th>\n",
       "      <td id=\"T_af8a6_row14_col0\" class=\"data row14 col0\" >Naive Bayes</td>\n",
       "      <td id=\"T_af8a6_row14_col1\" class=\"data row14 col1\" >0.9931</td>\n",
       "      <td id=\"T_af8a6_row14_col2\" class=\"data row14 col2\" >0.9669</td>\n",
       "      <td id=\"T_af8a6_row14_col3\" class=\"data row14 col3\" >0.6583</td>\n",
       "      <td id=\"T_af8a6_row14_col4\" class=\"data row14 col4\" >0.1535</td>\n",
       "      <td id=\"T_af8a6_row14_col5\" class=\"data row14 col5\" >0.2485</td>\n",
       "      <td id=\"T_af8a6_row14_col6\" class=\"data row14 col6\" >0.2464</td>\n",
       "      <td id=\"T_af8a6_row14_col7\" class=\"data row14 col7\" >0.3153</td>\n",
       "      <td id=\"T_af8a6_row14_col8\" class=\"data row14 col8\" >0.1640</td>\n",
       "    </tr>\n",
       "    <tr>\n",
       "      <th id=\"T_af8a6_level0_row15\" class=\"row_heading level0 row15\" >qda</th>\n",
       "      <td id=\"T_af8a6_row15_col0\" class=\"data row15 col0\" >Quadratic Discriminant Analysis</td>\n",
       "      <td id=\"T_af8a6_row15_col1\" class=\"data row15 col1\" >0.9758</td>\n",
       "      <td id=\"T_af8a6_row15_col2\" class=\"data row15 col2\" >0.9708</td>\n",
       "      <td id=\"T_af8a6_row15_col3\" class=\"data row15 col3\" >0.8698</td>\n",
       "      <td id=\"T_af8a6_row15_col4\" class=\"data row15 col4\" >0.0591</td>\n",
       "      <td id=\"T_af8a6_row15_col5\" class=\"data row15 col5\" >0.1106</td>\n",
       "      <td id=\"T_af8a6_row15_col6\" class=\"data row15 col6\" >0.1078</td>\n",
       "      <td id=\"T_af8a6_row15_col7\" class=\"data row15 col7\" >0.2231</td>\n",
       "      <td id=\"T_af8a6_row15_col8\" class=\"data row15 col8\" >0.4160</td>\n",
       "    </tr>\n",
       "  </tbody>\n",
       "</table>\n"
      ],
      "text/plain": [
       "<pandas.io.formats.style.Styler at 0x7bf597ab5210>"
      ]
     },
     "metadata": {},
     "output_type": "display_data"
    },
    {
     "data": {
      "application/vnd.jupyter.widget-view+json": {
       "model_id": "0740a10cde3e483fb68f89cf678e2b1d",
       "version_major": 2,
       "version_minor": 0
      },
      "text/plain": [
       "Processing:   0%|          | 0/69 [00:00<?, ?it/s]"
      ]
     },
     "metadata": {},
     "output_type": "display_data"
    }
   ],
   "source": [
    "diff_model = compare_models()"
   ]
  },
  {
   "cell_type": "code",
   "execution_count": 35,
   "id": "01e8d84e",
   "metadata": {
    "execution": {
     "iopub.execute_input": "2023-09-03T21:23:58.321174Z",
     "iopub.status.busy": "2023-09-03T21:23:58.320726Z",
     "iopub.status.idle": "2023-09-03T21:44:56.086703Z",
     "shell.execute_reply": "2023-09-03T21:44:56.085570Z"
    },
    "papermill": {
     "duration": 1257.81273,
     "end_time": "2023-09-03T21:44:56.089542",
     "exception": false,
     "start_time": "2023-09-03T21:23:58.276812",
     "status": "completed"
    },
    "tags": []
   },
   "outputs": [
    {
     "data": {
      "text/html": [],
      "text/plain": [
       "<IPython.core.display.HTML object>"
      ]
     },
     "metadata": {},
     "output_type": "display_data"
    },
    {
     "data": {
      "text/html": [
       "<style type=\"text/css\">\n",
       "#T_da628_row10_col0, #T_da628_row10_col1, #T_da628_row10_col2, #T_da628_row10_col3, #T_da628_row10_col4, #T_da628_row10_col5, #T_da628_row10_col6 {\n",
       "  background: yellow;\n",
       "}\n",
       "</style>\n",
       "<table id=\"T_da628\">\n",
       "  <thead>\n",
       "    <tr>\n",
       "      <th class=\"blank level0\" >&nbsp;</th>\n",
       "      <th id=\"T_da628_level0_col0\" class=\"col_heading level0 col0\" >Accuracy</th>\n",
       "      <th id=\"T_da628_level0_col1\" class=\"col_heading level0 col1\" >AUC</th>\n",
       "      <th id=\"T_da628_level0_col2\" class=\"col_heading level0 col2\" >Recall</th>\n",
       "      <th id=\"T_da628_level0_col3\" class=\"col_heading level0 col3\" >Prec.</th>\n",
       "      <th id=\"T_da628_level0_col4\" class=\"col_heading level0 col4\" >F1</th>\n",
       "      <th id=\"T_da628_level0_col5\" class=\"col_heading level0 col5\" >Kappa</th>\n",
       "      <th id=\"T_da628_level0_col6\" class=\"col_heading level0 col6\" >MCC</th>\n",
       "    </tr>\n",
       "    <tr>\n",
       "      <th class=\"index_name level0\" >Fold</th>\n",
       "      <th class=\"blank col0\" >&nbsp;</th>\n",
       "      <th class=\"blank col1\" >&nbsp;</th>\n",
       "      <th class=\"blank col2\" >&nbsp;</th>\n",
       "      <th class=\"blank col3\" >&nbsp;</th>\n",
       "      <th class=\"blank col4\" >&nbsp;</th>\n",
       "      <th class=\"blank col5\" >&nbsp;</th>\n",
       "      <th class=\"blank col6\" >&nbsp;</th>\n",
       "    </tr>\n",
       "  </thead>\n",
       "  <tbody>\n",
       "    <tr>\n",
       "      <th id=\"T_da628_level0_row0\" class=\"row_heading level0 row0\" >0</th>\n",
       "      <td id=\"T_da628_row0_col0\" class=\"data row0 col0\" >0.9993</td>\n",
       "      <td id=\"T_da628_row0_col1\" class=\"data row0 col1\" >0.8889</td>\n",
       "      <td id=\"T_da628_row0_col2\" class=\"data row0 col2\" >0.7027</td>\n",
       "      <td id=\"T_da628_row0_col3\" class=\"data row0 col3\" >0.8387</td>\n",
       "      <td id=\"T_da628_row0_col4\" class=\"data row0 col4\" >0.7647</td>\n",
       "      <td id=\"T_da628_row0_col5\" class=\"data row0 col5\" >0.7643</td>\n",
       "      <td id=\"T_da628_row0_col6\" class=\"data row0 col6\" >0.7673</td>\n",
       "    </tr>\n",
       "    <tr>\n",
       "      <th id=\"T_da628_level0_row1\" class=\"row_heading level0 row1\" >1</th>\n",
       "      <td id=\"T_da628_row1_col0\" class=\"data row1 col0\" >0.9996</td>\n",
       "      <td id=\"T_da628_row1_col1\" class=\"data row1 col1\" >0.9445</td>\n",
       "      <td id=\"T_da628_row1_col2\" class=\"data row1 col2\" >0.8108</td>\n",
       "      <td id=\"T_da628_row1_col3\" class=\"data row1 col3\" >0.9677</td>\n",
       "      <td id=\"T_da628_row1_col4\" class=\"data row1 col4\" >0.8824</td>\n",
       "      <td id=\"T_da628_row1_col5\" class=\"data row1 col5\" >0.8822</td>\n",
       "      <td id=\"T_da628_row1_col6\" class=\"data row1 col6\" >0.8856</td>\n",
       "    </tr>\n",
       "    <tr>\n",
       "      <th id=\"T_da628_level0_row2\" class=\"row_heading level0 row2\" >2</th>\n",
       "      <td id=\"T_da628_row2_col0\" class=\"data row2 col0\" >0.9996</td>\n",
       "      <td id=\"T_da628_row2_col1\" class=\"data row2 col1\" >0.9861</td>\n",
       "      <td id=\"T_da628_row2_col2\" class=\"data row2 col2\" >0.8649</td>\n",
       "      <td id=\"T_da628_row2_col3\" class=\"data row2 col3\" >0.9143</td>\n",
       "      <td id=\"T_da628_row2_col4\" class=\"data row2 col4\" >0.8889</td>\n",
       "      <td id=\"T_da628_row2_col5\" class=\"data row2 col5\" >0.8887</td>\n",
       "      <td id=\"T_da628_row2_col6\" class=\"data row2 col6\" >0.8890</td>\n",
       "    </tr>\n",
       "    <tr>\n",
       "      <th id=\"T_da628_level0_row3\" class=\"row_heading level0 row3\" >3</th>\n",
       "      <td id=\"T_da628_row3_col0\" class=\"data row3 col0\" >0.9997</td>\n",
       "      <td id=\"T_da628_row3_col1\" class=\"data row3 col1\" >0.9584</td>\n",
       "      <td id=\"T_da628_row3_col2\" class=\"data row3 col2\" >0.8649</td>\n",
       "      <td id=\"T_da628_row3_col3\" class=\"data row3 col3\" >0.9697</td>\n",
       "      <td id=\"T_da628_row3_col4\" class=\"data row3 col4\" >0.9143</td>\n",
       "      <td id=\"T_da628_row3_col5\" class=\"data row3 col5\" >0.9141</td>\n",
       "      <td id=\"T_da628_row3_col6\" class=\"data row3 col6\" >0.9156</td>\n",
       "    </tr>\n",
       "    <tr>\n",
       "      <th id=\"T_da628_level0_row4\" class=\"row_heading level0 row4\" >4</th>\n",
       "      <td id=\"T_da628_row4_col0\" class=\"data row4 col0\" >0.9996</td>\n",
       "      <td id=\"T_da628_row4_col1\" class=\"data row4 col1\" >0.9447</td>\n",
       "      <td id=\"T_da628_row4_col2\" class=\"data row4 col2\" >0.7838</td>\n",
       "      <td id=\"T_da628_row4_col3\" class=\"data row4 col3\" >1.0000</td>\n",
       "      <td id=\"T_da628_row4_col4\" class=\"data row4 col4\" >0.8788</td>\n",
       "      <td id=\"T_da628_row4_col5\" class=\"data row4 col5\" >0.8786</td>\n",
       "      <td id=\"T_da628_row4_col6\" class=\"data row4 col6\" >0.8851</td>\n",
       "    </tr>\n",
       "    <tr>\n",
       "      <th id=\"T_da628_level0_row5\" class=\"row_heading level0 row5\" >5</th>\n",
       "      <td id=\"T_da628_row5_col0\" class=\"data row5 col0\" >0.9996</td>\n",
       "      <td id=\"T_da628_row5_col1\" class=\"data row5 col1\" >0.9569</td>\n",
       "      <td id=\"T_da628_row5_col2\" class=\"data row5 col2\" >0.7500</td>\n",
       "      <td id=\"T_da628_row5_col3\" class=\"data row5 col3\" >1.0000</td>\n",
       "      <td id=\"T_da628_row5_col4\" class=\"data row5 col4\" >0.8571</td>\n",
       "      <td id=\"T_da628_row5_col5\" class=\"data row5 col5\" >0.8569</td>\n",
       "      <td id=\"T_da628_row5_col6\" class=\"data row5 col6\" >0.8658</td>\n",
       "    </tr>\n",
       "    <tr>\n",
       "      <th id=\"T_da628_level0_row6\" class=\"row_heading level0 row6\" >6</th>\n",
       "      <td id=\"T_da628_row6_col0\" class=\"data row6 col0\" >0.9996</td>\n",
       "      <td id=\"T_da628_row6_col1\" class=\"data row6 col1\" >0.9584</td>\n",
       "      <td id=\"T_da628_row6_col2\" class=\"data row6 col2\" >0.8378</td>\n",
       "      <td id=\"T_da628_row6_col3\" class=\"data row6 col3\" >0.9394</td>\n",
       "      <td id=\"T_da628_row6_col4\" class=\"data row6 col4\" >0.8857</td>\n",
       "      <td id=\"T_da628_row6_col5\" class=\"data row6 col5\" >0.8855</td>\n",
       "      <td id=\"T_da628_row6_col6\" class=\"data row6 col6\" >0.8870</td>\n",
       "    </tr>\n",
       "    <tr>\n",
       "      <th id=\"T_da628_level0_row7\" class=\"row_heading level0 row7\" >7</th>\n",
       "      <td id=\"T_da628_row7_col0\" class=\"data row7 col0\" >0.9995</td>\n",
       "      <td id=\"T_da628_row7_col1\" class=\"data row7 col1\" >0.9578</td>\n",
       "      <td id=\"T_da628_row7_col2\" class=\"data row7 col2\" >0.7568</td>\n",
       "      <td id=\"T_da628_row7_col3\" class=\"data row7 col3\" >0.9333</td>\n",
       "      <td id=\"T_da628_row7_col4\" class=\"data row7 col4\" >0.8358</td>\n",
       "      <td id=\"T_da628_row7_col5\" class=\"data row7 col5\" >0.8356</td>\n",
       "      <td id=\"T_da628_row7_col6\" class=\"data row7 col6\" >0.8402</td>\n",
       "    </tr>\n",
       "    <tr>\n",
       "      <th id=\"T_da628_level0_row8\" class=\"row_heading level0 row8\" >8</th>\n",
       "      <td id=\"T_da628_row8_col0\" class=\"data row8 col0\" >0.9993</td>\n",
       "      <td id=\"T_da628_row8_col1\" class=\"data row8 col1\" >0.9159</td>\n",
       "      <td id=\"T_da628_row8_col2\" class=\"data row8 col2\" >0.6757</td>\n",
       "      <td id=\"T_da628_row8_col3\" class=\"data row8 col3\" >0.9259</td>\n",
       "      <td id=\"T_da628_row8_col4\" class=\"data row8 col4\" >0.7813</td>\n",
       "      <td id=\"T_da628_row8_col5\" class=\"data row8 col5\" >0.7809</td>\n",
       "      <td id=\"T_da628_row8_col6\" class=\"data row8 col6\" >0.7907</td>\n",
       "    </tr>\n",
       "    <tr>\n",
       "      <th id=\"T_da628_level0_row9\" class=\"row_heading level0 row9\" >9</th>\n",
       "      <td id=\"T_da628_row9_col0\" class=\"data row9 col0\" >0.9995</td>\n",
       "      <td id=\"T_da628_row9_col1\" class=\"data row9 col1\" >0.9305</td>\n",
       "      <td id=\"T_da628_row9_col2\" class=\"data row9 col2\" >0.7568</td>\n",
       "      <td id=\"T_da628_row9_col3\" class=\"data row9 col3\" >0.9655</td>\n",
       "      <td id=\"T_da628_row9_col4\" class=\"data row9 col4\" >0.8485</td>\n",
       "      <td id=\"T_da628_row9_col5\" class=\"data row9 col5\" >0.8483</td>\n",
       "      <td id=\"T_da628_row9_col6\" class=\"data row9 col6\" >0.8546</td>\n",
       "    </tr>\n",
       "    <tr>\n",
       "      <th id=\"T_da628_level0_row10\" class=\"row_heading level0 row10\" >Mean</th>\n",
       "      <td id=\"T_da628_row10_col0\" class=\"data row10 col0\" >0.9995</td>\n",
       "      <td id=\"T_da628_row10_col1\" class=\"data row10 col1\" >0.9442</td>\n",
       "      <td id=\"T_da628_row10_col2\" class=\"data row10 col2\" >0.7804</td>\n",
       "      <td id=\"T_da628_row10_col3\" class=\"data row10 col3\" >0.9455</td>\n",
       "      <td id=\"T_da628_row10_col4\" class=\"data row10 col4\" >0.8537</td>\n",
       "      <td id=\"T_da628_row10_col5\" class=\"data row10 col5\" >0.8535</td>\n",
       "      <td id=\"T_da628_row10_col6\" class=\"data row10 col6\" >0.8581</td>\n",
       "    </tr>\n",
       "    <tr>\n",
       "      <th id=\"T_da628_level0_row11\" class=\"row_heading level0 row11\" >Std</th>\n",
       "      <td id=\"T_da628_row11_col0\" class=\"data row11 col0\" >0.0001</td>\n",
       "      <td id=\"T_da628_row11_col1\" class=\"data row11 col1\" >0.0256</td>\n",
       "      <td id=\"T_da628_row11_col2\" class=\"data row11 col2\" >0.0613</td>\n",
       "      <td id=\"T_da628_row11_col3\" class=\"data row11 col3\" >0.0451</td>\n",
       "      <td id=\"T_da628_row11_col4\" class=\"data row11 col4\" >0.0457</td>\n",
       "      <td id=\"T_da628_row11_col5\" class=\"data row11 col5\" >0.0458</td>\n",
       "      <td id=\"T_da628_row11_col6\" class=\"data row11 col6\" >0.0445</td>\n",
       "    </tr>\n",
       "  </tbody>\n",
       "</table>\n"
      ],
      "text/plain": [
       "<pandas.io.formats.style.Styler at 0x7bf5077d2170>"
      ]
     },
     "metadata": {},
     "output_type": "display_data"
    },
    {
     "data": {
      "application/vnd.jupyter.widget-view+json": {
       "model_id": "24c37ca2a0804e56b6e0ff6fdaa3eb6f",
       "version_major": 2,
       "version_minor": 0
      },
      "text/plain": [
       "Processing:   0%|          | 0/4 [00:00<?, ?it/s]"
      ]
     },
     "metadata": {},
     "output_type": "display_data"
    },
    {
     "data": {
      "text/html": [],
      "text/plain": [
       "<IPython.core.display.HTML object>"
      ]
     },
     "metadata": {},
     "output_type": "display_data"
    },
    {
     "data": {
      "text/html": [
       "<style type=\"text/css\">\n",
       "#T_9311e_row10_col0, #T_9311e_row10_col1, #T_9311e_row10_col2, #T_9311e_row10_col3, #T_9311e_row10_col4, #T_9311e_row10_col5, #T_9311e_row10_col6 {\n",
       "  background: yellow;\n",
       "}\n",
       "</style>\n",
       "<table id=\"T_9311e\">\n",
       "  <thead>\n",
       "    <tr>\n",
       "      <th class=\"blank level0\" >&nbsp;</th>\n",
       "      <th id=\"T_9311e_level0_col0\" class=\"col_heading level0 col0\" >Accuracy</th>\n",
       "      <th id=\"T_9311e_level0_col1\" class=\"col_heading level0 col1\" >AUC</th>\n",
       "      <th id=\"T_9311e_level0_col2\" class=\"col_heading level0 col2\" >Recall</th>\n",
       "      <th id=\"T_9311e_level0_col3\" class=\"col_heading level0 col3\" >Prec.</th>\n",
       "      <th id=\"T_9311e_level0_col4\" class=\"col_heading level0 col4\" >F1</th>\n",
       "      <th id=\"T_9311e_level0_col5\" class=\"col_heading level0 col5\" >Kappa</th>\n",
       "      <th id=\"T_9311e_level0_col6\" class=\"col_heading level0 col6\" >MCC</th>\n",
       "    </tr>\n",
       "    <tr>\n",
       "      <th class=\"index_name level0\" >Fold</th>\n",
       "      <th class=\"blank col0\" >&nbsp;</th>\n",
       "      <th class=\"blank col1\" >&nbsp;</th>\n",
       "      <th class=\"blank col2\" >&nbsp;</th>\n",
       "      <th class=\"blank col3\" >&nbsp;</th>\n",
       "      <th class=\"blank col4\" >&nbsp;</th>\n",
       "      <th class=\"blank col5\" >&nbsp;</th>\n",
       "      <th class=\"blank col6\" >&nbsp;</th>\n",
       "    </tr>\n",
       "  </thead>\n",
       "  <tbody>\n",
       "    <tr>\n",
       "      <th id=\"T_9311e_level0_row0\" class=\"row_heading level0 row0\" >0</th>\n",
       "      <td id=\"T_9311e_row0_col0\" class=\"data row0 col0\" >0.9991</td>\n",
       "      <td id=\"T_9311e_row0_col1\" class=\"data row0 col1\" >0.9434</td>\n",
       "      <td id=\"T_9311e_row0_col2\" class=\"data row0 col2\" >0.7568</td>\n",
       "      <td id=\"T_9311e_row0_col3\" class=\"data row0 col3\" >0.7179</td>\n",
       "      <td id=\"T_9311e_row0_col4\" class=\"data row0 col4\" >0.7368</td>\n",
       "      <td id=\"T_9311e_row0_col5\" class=\"data row0 col5\" >0.7364</td>\n",
       "      <td id=\"T_9311e_row0_col6\" class=\"data row0 col6\" >0.7366</td>\n",
       "    </tr>\n",
       "    <tr>\n",
       "      <th id=\"T_9311e_level0_row1\" class=\"row_heading level0 row1\" >1</th>\n",
       "      <td id=\"T_9311e_row1_col0\" class=\"data row1 col0\" >0.9992</td>\n",
       "      <td id=\"T_9311e_row1_col1\" class=\"data row1 col1\" >0.9878</td>\n",
       "      <td id=\"T_9311e_row1_col2\" class=\"data row1 col2\" >0.8378</td>\n",
       "      <td id=\"T_9311e_row1_col3\" class=\"data row1 col3\" >0.7381</td>\n",
       "      <td id=\"T_9311e_row1_col4\" class=\"data row1 col4\" >0.7848</td>\n",
       "      <td id=\"T_9311e_row1_col5\" class=\"data row1 col5\" >0.7844</td>\n",
       "      <td id=\"T_9311e_row1_col6\" class=\"data row1 col6\" >0.7860</td>\n",
       "    </tr>\n",
       "    <tr>\n",
       "      <th id=\"T_9311e_level0_row2\" class=\"row_heading level0 row2\" >2</th>\n",
       "      <td id=\"T_9311e_row2_col0\" class=\"data row2 col0\" >0.9993</td>\n",
       "      <td id=\"T_9311e_row2_col1\" class=\"data row2 col1\" >0.9818</td>\n",
       "      <td id=\"T_9311e_row2_col2\" class=\"data row2 col2\" >0.9459</td>\n",
       "      <td id=\"T_9311e_row2_col3\" class=\"data row2 col3\" >0.7143</td>\n",
       "      <td id=\"T_9311e_row2_col4\" class=\"data row2 col4\" >0.8140</td>\n",
       "      <td id=\"T_9311e_row2_col5\" class=\"data row2 col5\" >0.8136</td>\n",
       "      <td id=\"T_9311e_row2_col6\" class=\"data row2 col6\" >0.8217</td>\n",
       "    </tr>\n",
       "    <tr>\n",
       "      <th id=\"T_9311e_level0_row3\" class=\"row_heading level0 row3\" >3</th>\n",
       "      <td id=\"T_9311e_row3_col0\" class=\"data row3 col0\" >0.9993</td>\n",
       "      <td id=\"T_9311e_row3_col1\" class=\"data row3 col1\" >0.9890</td>\n",
       "      <td id=\"T_9311e_row3_col2\" class=\"data row3 col2\" >0.9189</td>\n",
       "      <td id=\"T_9311e_row3_col3\" class=\"data row3 col3\" >0.7556</td>\n",
       "      <td id=\"T_9311e_row3_col4\" class=\"data row3 col4\" >0.8293</td>\n",
       "      <td id=\"T_9311e_row3_col5\" class=\"data row3 col5\" >0.8289</td>\n",
       "      <td id=\"T_9311e_row3_col6\" class=\"data row3 col6\" >0.8329</td>\n",
       "    </tr>\n",
       "    <tr>\n",
       "      <th id=\"T_9311e_level0_row4\" class=\"row_heading level0 row4\" >4</th>\n",
       "      <td id=\"T_9311e_row4_col0\" class=\"data row4 col0\" >0.9993</td>\n",
       "      <td id=\"T_9311e_row4_col1\" class=\"data row4 col1\" >0.9703</td>\n",
       "      <td id=\"T_9311e_row4_col2\" class=\"data row4 col2\" >0.8919</td>\n",
       "      <td id=\"T_9311e_row4_col3\" class=\"data row4 col3\" >0.7333</td>\n",
       "      <td id=\"T_9311e_row4_col4\" class=\"data row4 col4\" >0.8049</td>\n",
       "      <td id=\"T_9311e_row4_col5\" class=\"data row4 col5\" >0.8045</td>\n",
       "      <td id=\"T_9311e_row4_col6\" class=\"data row4 col6\" >0.8084</td>\n",
       "    </tr>\n",
       "    <tr>\n",
       "      <th id=\"T_9311e_level0_row5\" class=\"row_heading level0 row5\" >5</th>\n",
       "      <td id=\"T_9311e_row5_col0\" class=\"data row5 col0\" >0.9992</td>\n",
       "      <td id=\"T_9311e_row5_col1\" class=\"data row5 col1\" >0.9814</td>\n",
       "      <td id=\"T_9311e_row5_col2\" class=\"data row5 col2\" >0.7778</td>\n",
       "      <td id=\"T_9311e_row5_col3\" class=\"data row5 col3\" >0.7568</td>\n",
       "      <td id=\"T_9311e_row5_col4\" class=\"data row5 col4\" >0.7671</td>\n",
       "      <td id=\"T_9311e_row5_col5\" class=\"data row5 col5\" >0.7667</td>\n",
       "      <td id=\"T_9311e_row5_col6\" class=\"data row5 col6\" >0.7668</td>\n",
       "    </tr>\n",
       "    <tr>\n",
       "      <th id=\"T_9311e_level0_row6\" class=\"row_heading level0 row6\" >6</th>\n",
       "      <td id=\"T_9311e_row6_col0\" class=\"data row6 col0\" >0.9992</td>\n",
       "      <td id=\"T_9311e_row6_col1\" class=\"data row6 col1\" >0.9938</td>\n",
       "      <td id=\"T_9311e_row6_col2\" class=\"data row6 col2\" >0.8919</td>\n",
       "      <td id=\"T_9311e_row6_col3\" class=\"data row6 col3\" >0.7174</td>\n",
       "      <td id=\"T_9311e_row6_col4\" class=\"data row6 col4\" >0.7952</td>\n",
       "      <td id=\"T_9311e_row6_col5\" class=\"data row6 col5\" >0.7948</td>\n",
       "      <td id=\"T_9311e_row6_col6\" class=\"data row6 col6\" >0.7995</td>\n",
       "    </tr>\n",
       "    <tr>\n",
       "      <th id=\"T_9311e_level0_row7\" class=\"row_heading level0 row7\" >7</th>\n",
       "      <td id=\"T_9311e_row7_col0\" class=\"data row7 col0\" >0.9990</td>\n",
       "      <td id=\"T_9311e_row7_col1\" class=\"data row7 col1\" >0.9821</td>\n",
       "      <td id=\"T_9311e_row7_col2\" class=\"data row7 col2\" >0.8378</td>\n",
       "      <td id=\"T_9311e_row7_col3\" class=\"data row7 col3\" >0.6739</td>\n",
       "      <td id=\"T_9311e_row7_col4\" class=\"data row7 col4\" >0.7470</td>\n",
       "      <td id=\"T_9311e_row7_col5\" class=\"data row7 col5\" >0.7465</td>\n",
       "      <td id=\"T_9311e_row7_col6\" class=\"data row7 col6\" >0.7509</td>\n",
       "    </tr>\n",
       "    <tr>\n",
       "      <th id=\"T_9311e_level0_row8\" class=\"row_heading level0 row8\" >8</th>\n",
       "      <td id=\"T_9311e_row8_col0\" class=\"data row8 col0\" >0.9989</td>\n",
       "      <td id=\"T_9311e_row8_col1\" class=\"data row8 col1\" >0.9796</td>\n",
       "      <td id=\"T_9311e_row8_col2\" class=\"data row8 col2\" >0.7297</td>\n",
       "      <td id=\"T_9311e_row8_col3\" class=\"data row8 col3\" >0.6750</td>\n",
       "      <td id=\"T_9311e_row8_col4\" class=\"data row8 col4\" >0.7013</td>\n",
       "      <td id=\"T_9311e_row8_col5\" class=\"data row8 col5\" >0.7008</td>\n",
       "      <td id=\"T_9311e_row8_col6\" class=\"data row8 col6\" >0.7013</td>\n",
       "    </tr>\n",
       "    <tr>\n",
       "      <th id=\"T_9311e_level0_row9\" class=\"row_heading level0 row9\" >9</th>\n",
       "      <td id=\"T_9311e_row9_col0\" class=\"data row9 col0\" >0.9990</td>\n",
       "      <td id=\"T_9311e_row9_col1\" class=\"data row9 col1\" >0.9756</td>\n",
       "      <td id=\"T_9311e_row9_col2\" class=\"data row9 col2\" >0.8378</td>\n",
       "      <td id=\"T_9311e_row9_col3\" class=\"data row9 col3\" >0.6596</td>\n",
       "      <td id=\"T_9311e_row9_col4\" class=\"data row9 col4\" >0.7381</td>\n",
       "      <td id=\"T_9311e_row9_col5\" class=\"data row9 col5\" >0.7376</td>\n",
       "      <td id=\"T_9311e_row9_col6\" class=\"data row9 col6\" >0.7429</td>\n",
       "    </tr>\n",
       "    <tr>\n",
       "      <th id=\"T_9311e_level0_row10\" class=\"row_heading level0 row10\" >Mean</th>\n",
       "      <td id=\"T_9311e_row10_col0\" class=\"data row10 col0\" >0.9991</td>\n",
       "      <td id=\"T_9311e_row10_col1\" class=\"data row10 col1\" >0.9785</td>\n",
       "      <td id=\"T_9311e_row10_col2\" class=\"data row10 col2\" >0.8426</td>\n",
       "      <td id=\"T_9311e_row10_col3\" class=\"data row10 col3\" >0.7142</td>\n",
       "      <td id=\"T_9311e_row10_col4\" class=\"data row10 col4\" >0.7718</td>\n",
       "      <td id=\"T_9311e_row10_col5\" class=\"data row10 col5\" >0.7714</td>\n",
       "      <td id=\"T_9311e_row10_col6\" class=\"data row10 col6\" >0.7747</td>\n",
       "    </tr>\n",
       "    <tr>\n",
       "      <th id=\"T_9311e_level0_row11\" class=\"row_heading level0 row11\" >Std</th>\n",
       "      <td id=\"T_9311e_row11_col0\" class=\"data row11 col0\" >0.0001</td>\n",
       "      <td id=\"T_9311e_row11_col1\" class=\"data row11 col1\" >0.0133</td>\n",
       "      <td id=\"T_9311e_row11_col2\" class=\"data row11 col2\" >0.0676</td>\n",
       "      <td id=\"T_9311e_row11_col3\" class=\"data row11 col3\" >0.0326</td>\n",
       "      <td id=\"T_9311e_row11_col4\" class=\"data row11 col4\" >0.0385</td>\n",
       "      <td id=\"T_9311e_row11_col5\" class=\"data row11 col5\" >0.0386</td>\n",
       "      <td id=\"T_9311e_row11_col6\" class=\"data row11 col6\" >0.0399</td>\n",
       "    </tr>\n",
       "  </tbody>\n",
       "</table>\n"
      ],
      "text/plain": [
       "<pandas.io.formats.style.Styler at 0x7bf509692a70>"
      ]
     },
     "metadata": {},
     "output_type": "display_data"
    },
    {
     "data": {
      "application/vnd.jupyter.widget-view+json": {
       "model_id": "e134ddcc3cf04b84be913bd8130486bb",
       "version_major": 2,
       "version_minor": 0
      },
      "text/plain": [
       "Processing:   0%|          | 0/7 [00:00<?, ?it/s]"
      ]
     },
     "metadata": {},
     "output_type": "display_data"
    },
    {
     "name": "stdout",
     "output_type": "stream",
     "text": [
      "Fitting 10 folds for each of 10 candidates, totalling 100 fits\n"
     ]
    },
    {
     "name": "stderr",
     "output_type": "stream",
     "text": [
      "/opt/conda/lib/python3.10/site-packages/scipy/__init__.py:146: UserWarning: A NumPy version >=1.16.5 and <1.23.0 is required for this version of SciPy (detected version 1.23.5\n",
      "  warnings.warn(f\"A NumPy version >={np_minversion} and <{np_maxversion}\"\n",
      "/opt/conda/lib/python3.10/site-packages/scipy/__init__.py:146: UserWarning: A NumPy version >=1.16.5 and <1.23.0 is required for this version of SciPy (detected version 1.23.5\n",
      "  warnings.warn(f\"A NumPy version >={np_minversion} and <{np_maxversion}\"\n",
      "/opt/conda/lib/python3.10/site-packages/scipy/__init__.py:146: UserWarning: A NumPy version >=1.16.5 and <1.23.0 is required for this version of SciPy (detected version 1.23.5\n",
      "  warnings.warn(f\"A NumPy version >={np_minversion} and <{np_maxversion}\"\n"
     ]
    },
    {
     "name": "stdout",
     "output_type": "stream",
     "text": [
      "Original model was better than the tuned model, hence it will be returned. NOTE: The display metrics are for the tuned model (not the original one).\n"
     ]
    }
   ],
   "source": [
    "best_model = create_model(\"et\")\n",
    "tuned_model = tune_model(best_model)"
   ]
  },
  {
   "cell_type": "code",
   "execution_count": 36,
   "id": "fe790d42",
   "metadata": {
    "execution": {
     "iopub.execute_input": "2023-09-03T21:44:56.179236Z",
     "iopub.status.busy": "2023-09-03T21:44:56.178813Z",
     "iopub.status.idle": "2023-09-03T21:44:56.858042Z",
     "shell.execute_reply": "2023-09-03T21:44:56.856894Z"
    },
    "papermill": {
     "duration": 0.72676,
     "end_time": "2023-09-03T21:44:56.860389",
     "exception": false,
     "start_time": "2023-09-03T21:44:56.133629",
     "status": "completed"
    },
    "tags": []
   },
   "outputs": [
    {
     "data": {
      "application/vnd.jupyter.widget-view+json": {
       "model_id": "b91173c9177447f4b9bbc9a49d0dfdfb",
       "version_major": 2,
       "version_minor": 0
      },
      "text/plain": [
       "interactive(children=(ToggleButtons(description='Plot Type:', icons=('',), options=(('Pipeline Plot', 'pipelin…"
      ]
     },
     "metadata": {},
     "output_type": "display_data"
    }
   ],
   "source": [
    "evaluate_model(tuned_model)"
   ]
  },
  {
   "cell_type": "markdown",
   "id": "91630477",
   "metadata": {
    "papermill": {
     "duration": 0.044764,
     "end_time": "2023-09-03T21:44:56.950034",
     "exception": false,
     "start_time": "2023-09-03T21:44:56.905270",
     "status": "completed"
    },
    "tags": []
   },
   "source": [
    "***\n",
    "## Model Evaluation"
   ]
  },
  {
   "cell_type": "code",
   "execution_count": 37,
   "id": "5a64a8df",
   "metadata": {
    "execution": {
     "iopub.execute_input": "2023-09-03T21:44:57.038722Z",
     "iopub.status.busy": "2023-09-03T21:44:57.038306Z",
     "iopub.status.idle": "2023-09-03T21:44:57.043012Z",
     "shell.execute_reply": "2023-09-03T21:44:57.042023Z"
    },
    "papermill": {
     "duration": 0.051751,
     "end_time": "2023-09-03T21:44:57.045299",
     "exception": false,
     "start_time": "2023-09-03T21:44:56.993548",
     "status": "completed"
    },
    "tags": []
   },
   "outputs": [],
   "source": [
    "from sklearn.metrics import classification_report, confusion_matrix"
   ]
  },
  {
   "cell_type": "code",
   "execution_count": 38,
   "id": "7f92d261",
   "metadata": {
    "execution": {
     "iopub.execute_input": "2023-09-03T21:44:57.135885Z",
     "iopub.status.busy": "2023-09-03T21:44:57.135217Z",
     "iopub.status.idle": "2023-09-03T21:45:10.798545Z",
     "shell.execute_reply": "2023-09-03T21:45:10.797082Z"
    },
    "papermill": {
     "duration": 13.711358,
     "end_time": "2023-09-03T21:45:10.801479",
     "exception": false,
     "start_time": "2023-09-03T21:44:57.090121",
     "status": "completed"
    },
    "tags": []
   },
   "outputs": [
    {
     "name": "stdout",
     "output_type": "stream",
     "text": [
      "Requirement already satisfied: mlxtend in /opt/conda/lib/python3.10/site-packages (0.22.0)\r\n",
      "Requirement already satisfied: scipy>=1.2.1 in /opt/conda/lib/python3.10/site-packages (from mlxtend) (1.11.1)\r\n",
      "Requirement already satisfied: numpy>=1.16.2 in /opt/conda/lib/python3.10/site-packages (from mlxtend) (1.23.5)\r\n",
      "Requirement already satisfied: pandas>=0.24.2 in /opt/conda/lib/python3.10/site-packages (from mlxtend) (1.5.3)\r\n",
      "Requirement already satisfied: scikit-learn>=1.0.2 in /opt/conda/lib/python3.10/site-packages (from mlxtend) (1.2.2)\r\n",
      "Requirement already satisfied: matplotlib>=3.0.0 in /opt/conda/lib/python3.10/site-packages (from mlxtend) (3.7.1)\r\n",
      "Requirement already satisfied: joblib>=0.13.2 in /opt/conda/lib/python3.10/site-packages (from mlxtend) (1.2.0)\r\n",
      "Requirement already satisfied: setuptools in /opt/conda/lib/python3.10/site-packages (from mlxtend) (59.8.0)\r\n",
      "Requirement already satisfied: contourpy>=1.0.1 in /opt/conda/lib/python3.10/site-packages (from matplotlib>=3.0.0->mlxtend) (1.1.0)\r\n",
      "Requirement already satisfied: cycler>=0.10 in /opt/conda/lib/python3.10/site-packages (from matplotlib>=3.0.0->mlxtend) (0.11.0)\r\n",
      "Requirement already satisfied: fonttools>=4.22.0 in /opt/conda/lib/python3.10/site-packages (from matplotlib>=3.0.0->mlxtend) (4.40.0)\r\n",
      "Requirement already satisfied: kiwisolver>=1.0.1 in /opt/conda/lib/python3.10/site-packages (from matplotlib>=3.0.0->mlxtend) (1.4.4)\r\n",
      "Requirement already satisfied: packaging>=20.0 in /opt/conda/lib/python3.10/site-packages (from matplotlib>=3.0.0->mlxtend) (21.3)\r\n",
      "Requirement already satisfied: pillow>=6.2.0 in /opt/conda/lib/python3.10/site-packages (from matplotlib>=3.0.0->mlxtend) (9.5.0)\r\n",
      "Requirement already satisfied: pyparsing>=2.3.1 in /opt/conda/lib/python3.10/site-packages (from matplotlib>=3.0.0->mlxtend) (3.0.9)\r\n",
      "Requirement already satisfied: python-dateutil>=2.7 in /opt/conda/lib/python3.10/site-packages (from matplotlib>=3.0.0->mlxtend) (2.8.2)\r\n",
      "Requirement already satisfied: pytz>=2020.1 in /opt/conda/lib/python3.10/site-packages (from pandas>=0.24.2->mlxtend) (2023.3)\r\n",
      "Requirement already satisfied: threadpoolctl>=2.0.0 in /opt/conda/lib/python3.10/site-packages (from scikit-learn>=1.0.2->mlxtend) (3.1.0)\r\n",
      "Requirement already satisfied: six>=1.5 in /opt/conda/lib/python3.10/site-packages (from python-dateutil>=2.7->matplotlib>=3.0.0->mlxtend) (1.16.0)\r\n"
     ]
    }
   ],
   "source": [
    "!pip install mlxtend"
   ]
  },
  {
   "cell_type": "code",
   "execution_count": 39,
   "id": "85d9dd97",
   "metadata": {
    "execution": {
     "iopub.execute_input": "2023-09-03T21:45:10.892199Z",
     "iopub.status.busy": "2023-09-03T21:45:10.891732Z",
     "iopub.status.idle": "2023-09-03T21:45:10.939447Z",
     "shell.execute_reply": "2023-09-03T21:45:10.937938Z"
    },
    "papermill": {
     "duration": 0.098235,
     "end_time": "2023-09-03T21:45:10.943878",
     "exception": false,
     "start_time": "2023-09-03T21:45:10.845643",
     "status": "completed"
    },
    "tags": []
   },
   "outputs": [
    {
     "data": {
      "text/plain": [
       "array([[67240,  3849],\n",
       "       [    9,   104]])"
      ]
     },
     "execution_count": 39,
     "metadata": {},
     "output_type": "execute_result"
    }
   ],
   "source": [
    "con = confusion_matrix(y_test, lg.predict(x_test))\n",
    "con"
   ]
  },
  {
   "cell_type": "code",
   "execution_count": 40,
   "id": "fd92affc",
   "metadata": {
    "execution": {
     "iopub.execute_input": "2023-09-03T21:45:11.078354Z",
     "iopub.status.busy": "2023-09-03T21:45:11.077194Z",
     "iopub.status.idle": "2023-09-03T21:45:11.371208Z",
     "shell.execute_reply": "2023-09-03T21:45:11.369689Z"
    },
    "papermill": {
     "duration": 0.344797,
     "end_time": "2023-09-03T21:45:11.375200",
     "exception": false,
     "start_time": "2023-09-03T21:45:11.030403",
     "status": "completed"
    },
    "tags": []
   },
   "outputs": [
    {
     "data": {
      "text/plain": [
       "(<Figure size 800x550 with 1 Axes>,\n",
       " <Axes: xlabel='predicted label', ylabel='true label'>)"
      ]
     },
     "execution_count": 40,
     "metadata": {},
     "output_type": "execute_result"
    },
    {
     "data": {
      "image/png": "[encoded data removed]",
      "text/plain": [
       "<Figure size 800x550 with 1 Axes>"
      ]
     },
     "metadata": {},
     "output_type": "display_data"
    }
   ],
   "source": [
    "from mlxtend.plotting import plot_confusion_matrix\n",
    "plot_confusion_matrix(con)"
   ]
  },
  {
   "cell_type": "code",
   "execution_count": 41,
   "id": "0cd60aff",
   "metadata": {
    "execution": {
     "iopub.execute_input": "2023-09-03T21:45:11.472951Z",
     "iopub.status.busy": "2023-09-03T21:45:11.472247Z",
     "iopub.status.idle": "2023-09-03T21:45:11.646157Z",
     "shell.execute_reply": "2023-09-03T21:45:11.644969Z"
    },
    "papermill": {
     "duration": 0.222682,
     "end_time": "2023-09-03T21:45:11.649286",
     "exception": false,
     "start_time": "2023-09-03T21:45:11.426604",
     "status": "completed"
    },
    "tags": []
   },
   "outputs": [
    {
     "name": "stdout",
     "output_type": "stream",
     "text": [
      "              precision    recall  f1-score   support\n",
      "\n",
      "           0       1.00      0.95      0.97     71089\n",
      "           1       0.03      0.92      0.05       113\n",
      "\n",
      "    accuracy                           0.95     71202\n",
      "   macro avg       0.51      0.93      0.51     71202\n",
      "weighted avg       1.00      0.95      0.97     71202\n",
      "\n"
     ]
    }
   ],
   "source": [
    "y_pred = lg.predict(x_test)\n",
    "print(classification_report(y_test, y_pred))"
   ]
  },
  {
   "cell_type": "code",
   "execution_count": 42,
   "id": "a895db1d",
   "metadata": {
    "execution": {
     "iopub.execute_input": "2023-09-03T21:45:11.743099Z",
     "iopub.status.busy": "2023-09-03T21:45:11.742487Z",
     "iopub.status.idle": "2023-09-03T21:45:11.869483Z",
     "shell.execute_reply": "2023-09-03T21:45:11.868342Z"
    },
    "papermill": {
     "duration": 0.175329,
     "end_time": "2023-09-03T21:45:11.871848",
     "exception": false,
     "start_time": "2023-09-03T21:45:11.696519",
     "status": "completed"
    },
    "tags": []
   },
   "outputs": [
    {
     "name": "stdout",
     "output_type": "stream",
     "text": [
      "              precision    recall  f1-score   support\n",
      "\n",
      "           0       1.00      0.96      0.98     71089\n",
      "           1       0.04      0.94      0.07       113\n",
      "\n",
      "    accuracy                           0.96     71202\n",
      "   macro avg       0.52      0.95      0.53     71202\n",
      "weighted avg       1.00      0.96      0.98     71202\n",
      "\n"
     ]
    }
   ],
   "source": [
    "y_pred = xgb.predict(x_test)\n",
    "print(classification_report(y_test, y_pred))"
   ]
  },
  {
   "cell_type": "code",
   "execution_count": 43,
   "id": "28fd1781",
   "metadata": {
    "execution": {
     "iopub.execute_input": "2023-09-03T21:45:11.966167Z",
     "iopub.status.busy": "2023-09-03T21:45:11.965504Z",
     "iopub.status.idle": "2023-09-03T21:45:12.440865Z",
     "shell.execute_reply": "2023-09-03T21:45:12.439647Z"
    },
    "papermill": {
     "duration": 0.525798,
     "end_time": "2023-09-03T21:45:12.443334",
     "exception": false,
     "start_time": "2023-09-03T21:45:11.917536",
     "status": "completed"
    },
    "tags": []
   },
   "outputs": [
    {
     "name": "stdout",
     "output_type": "stream",
     "text": [
      "              precision    recall  f1-score   support\n",
      "\n",
      "           0       1.00      1.00      1.00     71089\n",
      "           1       0.99      0.92      0.95       113\n",
      "\n",
      "    accuracy                           1.00     71202\n",
      "   macro avg       1.00      0.96      0.98     71202\n",
      "weighted avg       1.00      1.00      1.00     71202\n",
      "\n"
     ]
    }
   ],
   "source": [
    "y_pred = tuned_model.predict(x_test)\n",
    "print(classification_report(y_test, y_pred))"
   ]
  },
  {
   "cell_type": "markdown",
   "id": "c612861b",
   "metadata": {
    "papermill": {
     "duration": 0.043948,
     "end_time": "2023-09-03T21:45:12.532754",
     "exception": false,
     "start_time": "2023-09-03T21:45:12.488806",
     "status": "completed"
    },
    "tags": []
   },
   "source": [
    "## Cross validations"
   ]
  },
  {
   "cell_type": "code",
   "execution_count": 44,
   "id": "332a4592",
   "metadata": {
    "execution": {
     "iopub.execute_input": "2023-09-03T21:45:12.624510Z",
     "iopub.status.busy": "2023-09-03T21:45:12.624123Z",
     "iopub.status.idle": "2023-09-03T21:45:12.629299Z",
     "shell.execute_reply": "2023-09-03T21:45:12.628062Z"
    },
    "papermill": {
     "duration": 0.05439,
     "end_time": "2023-09-03T21:45:12.631605",
     "exception": false,
     "start_time": "2023-09-03T21:45:12.577215",
     "status": "completed"
    },
    "tags": []
   },
   "outputs": [],
   "source": [
    "from sklearn.model_selection import KFold , cross_val_score"
   ]
  },
  {
   "cell_type": "code",
   "execution_count": 45,
   "id": "85e667ea",
   "metadata": {
    "execution": {
     "iopub.execute_input": "2023-09-03T21:45:12.721824Z",
     "iopub.status.busy": "2023-09-03T21:45:12.720736Z",
     "iopub.status.idle": "2023-09-03T21:45:43.680743Z",
     "shell.execute_reply": "2023-09-03T21:45:43.679907Z"
    },
    "papermill": {
     "duration": 31.051792,
     "end_time": "2023-09-03T21:45:43.726936",
     "exception": false,
     "start_time": "2023-09-03T21:45:12.675144",
     "status": "completed"
    },
    "tags": []
   },
   "outputs": [
    {
     "name": "stdout",
     "output_type": "stream",
     "text": [
      "[0.99956813 0.99942066 0.99948386]\n"
     ]
    }
   ],
   "source": [
    "K_fold = KFold(n_splits= 3 , shuffle  = True ,random_state= 42)\n",
    "scoring = \"accuracy\"\n",
    "score = cross_val_score(xgb , x,y , cv = K_fold , scoring= scoring)\n",
    "print (score)"
   ]
  },
  {
   "cell_type": "code",
   "execution_count": 46,
   "id": "ba2ed4d3",
   "metadata": {
    "execution": {
     "iopub.execute_input": "2023-09-03T21:45:43.818912Z",
     "iopub.status.busy": "2023-09-03T21:45:43.818182Z",
     "iopub.status.idle": "2023-09-03T21:45:43.825570Z",
     "shell.execute_reply": "2023-09-03T21:45:43.824215Z"
    },
    "papermill": {
     "duration": 0.055646,
     "end_time": "2023-09-03T21:45:43.827893",
     "exception": false,
     "start_time": "2023-09-03T21:45:43.772247",
     "status": "completed"
    },
    "tags": []
   },
   "outputs": [
    {
     "data": {
      "text/plain": [
       "99.95"
      ]
     },
     "execution_count": 46,
     "metadata": {},
     "output_type": "execute_result"
    }
   ],
   "source": [
    "round(np.mean(score)*100 , 2)"
   ]
  },
  {
   "cell_type": "markdown",
   "id": "64e8c4cb",
   "metadata": {
    "papermill": {
     "duration": 0.046858,
     "end_time": "2023-09-03T21:45:43.921227",
     "exception": false,
     "start_time": "2023-09-03T21:45:43.874369",
     "status": "completed"
    },
    "tags": []
   },
   "source": [
    "## Grid search"
   ]
  },
  {
   "cell_type": "code",
   "execution_count": 47,
   "id": "5f64e6d0",
   "metadata": {
    "execution": {
     "iopub.execute_input": "2023-09-03T21:45:44.016864Z",
     "iopub.status.busy": "2023-09-03T21:45:44.016118Z",
     "iopub.status.idle": "2023-09-03T21:45:44.021293Z",
     "shell.execute_reply": "2023-09-03T21:45:44.020420Z"
    },
    "papermill": {
     "duration": 0.055239,
     "end_time": "2023-09-03T21:45:44.023577",
     "exception": false,
     "start_time": "2023-09-03T21:45:43.968338",
     "status": "completed"
    },
    "tags": []
   },
   "outputs": [],
   "source": [
    "from sklearn.tree import DecisionTreeClassifier"
   ]
  },
  {
   "cell_type": "code",
   "execution_count": 48,
   "id": "60be762a",
   "metadata": {
    "execution": {
     "iopub.execute_input": "2023-09-03T21:45:44.117964Z",
     "iopub.status.busy": "2023-09-03T21:45:44.117279Z",
     "iopub.status.idle": "2023-09-03T21:45:44.121801Z",
     "shell.execute_reply": "2023-09-03T21:45:44.121053Z"
    },
    "papermill": {
     "duration": 0.053822,
     "end_time": "2023-09-03T21:45:44.123969",
     "exception": false,
     "start_time": "2023-09-03T21:45:44.070147",
     "status": "completed"
    },
    "tags": []
   },
   "outputs": [],
   "source": [
    "from sklearn.model_selection import GridSearchCV"
   ]
  },
  {
   "cell_type": "code",
   "execution_count": 49,
   "id": "0478f5ce",
   "metadata": {
    "execution": {
     "iopub.execute_input": "2023-09-03T21:45:44.215436Z",
     "iopub.status.busy": "2023-09-03T21:45:44.214786Z",
     "iopub.status.idle": "2023-09-03T21:45:44.221906Z",
     "shell.execute_reply": "2023-09-03T21:45:44.221025Z"
    },
    "papermill": {
     "duration": 0.055576,
     "end_time": "2023-09-03T21:45:44.223914",
     "exception": false,
     "start_time": "2023-09-03T21:45:44.168338",
     "status": "completed"
    },
    "tags": []
   },
   "outputs": [
    {
     "data": {
      "text/plain": [
       "{'max_depth': [2, 3, 4], 'max_features': [3, 4, 5]}"
      ]
     },
     "execution_count": 49,
     "metadata": {},
     "output_type": "execute_result"
    }
   ],
   "source": [
    "pram_grid = {\"max_depth\": [2,3,4] , 'max_features': [3,4,5] }\n",
    "pram_grid"
   ]
  },
  {
   "cell_type": "code",
   "execution_count": 50,
   "id": "4fdf5088",
   "metadata": {
    "execution": {
     "iopub.execute_input": "2023-09-03T21:45:44.317194Z",
     "iopub.status.busy": "2023-09-03T21:45:44.316509Z",
     "iopub.status.idle": "2023-09-03T21:46:04.869328Z",
     "shell.execute_reply": "2023-09-03T21:46:04.867896Z"
    },
    "papermill": {
     "duration": 20.603615,
     "end_time": "2023-09-03T21:46:04.871877",
     "exception": false,
     "start_time": "2023-09-03T21:45:44.268262",
     "status": "completed"
    },
    "tags": []
   },
   "outputs": [
    {
     "data": {
      "text/html": [
       "<style>#sk-container-id-7 {color: black;background-color: white;}#sk-container-id-7 pre{padding: 0;}#sk-container-id-7 div.sk-toggleable {background-color: white;}#sk-container-id-7 label.sk-toggleable__label {cursor: pointer;display: block;width: 100%;margin-bottom: 0;padding: 0.3em;box-sizing: border-box;text-align: center;}#sk-container-id-7 label.sk-toggleable__label-arrow:before {content: \"▸\";float: left;margin-right: 0.25em;color: #696969;}#sk-container-id-7 label.sk-toggleable__label-arrow:hover:before {color: black;}#sk-container-id-7 div.sk-estimator:hover label.sk-toggleable__label-arrow:before {color: black;}#sk-container-id-7 div.sk-toggleable__content {max-height: 0;max-width: 0;overflow: hidden;text-align: left;background-color: #f0f8ff;}#sk-container-id-7 div.sk-toggleable__content pre {margin: 0.2em;color: black;border-radius: 0.25em;background-color: #f0f8ff;}#sk-container-id-7 input.sk-toggleable__control:checked~div.sk-toggleable__content {max-height: 200px;max-width: 100%;overflow: auto;}#sk-container-id-7 input.sk-toggleable__control:checked~label.sk-toggleable__label-arrow:before {content: \"▾\";}#sk-container-id-7 div.sk-estimator input.sk-toggleable__control:checked~label.sk-toggleable__label {background-color: #d4ebff;}#sk-container-id-7 div.sk-label input.sk-toggleable__control:checked~label.sk-toggleable__label {background-color: #d4ebff;}#sk-container-id-7 input.sk-hidden--visually {border: 0;clip: rect(1px 1px 1px 1px);clip: rect(1px, 1px, 1px, 1px);height: 1px;margin: -1px;overflow: hidden;padding: 0;position: absolute;width: 1px;}#sk-container-id-7 div.sk-estimator {font-family: monospace;background-color: #f0f8ff;border: 1px dotted black;border-radius: 0.25em;box-sizing: border-box;margin-bottom: 0.5em;}#sk-container-id-7 div.sk-estimator:hover {background-color: #d4ebff;}#sk-container-id-7 div.sk-parallel-item::after {content: \"\";width: 100%;border-bottom: 1px solid gray;flex-grow: 1;}#sk-container-id-7 div.sk-label:hover label.sk-toggleable__label {background-color: #d4ebff;}#sk-container-id-7 div.sk-serial::before {content: \"\";position: absolute;border-left: 1px solid gray;box-sizing: border-box;top: 0;bottom: 0;left: 50%;z-index: 0;}#sk-container-id-7 div.sk-serial {display: flex;flex-direction: column;align-items: center;background-color: white;padding-right: 0.2em;padding-left: 0.2em;position: relative;}#sk-container-id-7 div.sk-item {position: relative;z-index: 1;}#sk-container-id-7 div.sk-parallel {display: flex;align-items: stretch;justify-content: center;background-color: white;position: relative;}#sk-container-id-7 div.sk-item::before, #sk-container-id-7 div.sk-parallel-item::before {content: \"\";position: absolute;border-left: 1px solid gray;box-sizing: border-box;top: 0;bottom: 0;left: 50%;z-index: -1;}#sk-container-id-7 div.sk-parallel-item {display: flex;flex-direction: column;z-index: 1;position: relative;background-color: white;}#sk-container-id-7 div.sk-parallel-item:first-child::after {align-self: flex-end;width: 50%;}#sk-container-id-7 div.sk-parallel-item:last-child::after {align-self: flex-start;width: 50%;}#sk-container-id-7 div.sk-parallel-item:only-child::after {width: 0;}#sk-container-id-7 div.sk-dashed-wrapped {border: 1px dashed gray;margin: 0 0.4em 0.5em 0.4em;box-sizing: border-box;padding-bottom: 0.4em;background-color: white;}#sk-container-id-7 div.sk-label label {font-family: monospace;font-weight: bold;display: inline-block;line-height: 1.2em;}#sk-container-id-7 div.sk-label-container {text-align: center;}#sk-container-id-7 div.sk-container {/* jupyter's `normalize.less` sets `[hidden] { display: none; }` but bootstrap.min.css set `[hidden] { display: none !important; }` so we also need the `!important` here to be able to override the default hidden behavior on the sphinx rendered scikit-learn.org. See: https://github.com/scikit-learn/scikit-learn/issues/21755 */display: inline-block !important;position: relative;}#sk-container-id-7 div.sk-text-repr-fallback {display: none;}</style><div id=\"sk-container-id-7\" class=\"sk-top-container\"><div class=\"sk-text-repr-fallback\"><pre>GridSearchCV(cv=5, error_score=nan,\n",
       "             estimator=DecisionTreeClassifier(ccp_alpha=0.0, class_weight=None,\n",
       "                                              criterion=&#x27;gini&#x27;, max_depth=None,\n",
       "                                              max_features=None,\n",
       "                                              max_leaf_nodes=None,\n",
       "                                              min_impurity_decrease=0.0,\n",
       "                                              min_samples_leaf=1,\n",
       "                                              min_samples_split=2,\n",
       "                                              min_weight_fraction_leaf=0.0,\n",
       "                                              random_state=None,\n",
       "                                              splitter=&#x27;best&#x27;),\n",
       "             n_jobs=None,\n",
       "             param_grid={&#x27;max_depth&#x27;: [2, 3, 4], &#x27;max_features&#x27;: [3, 4, 5]},\n",
       "             pre_dispatch=&#x27;2*n_jobs&#x27;, refit=True, return_train_score=False,\n",
       "             scoring=None, verbose=0)</pre><b>In a Jupyter environment, please rerun this cell to show the HTML representation or trust the notebook. <br />On GitHub, the HTML representation is unable to render, please try loading this page with nbviewer.org.</b></div><div class=\"sk-container\" hidden><div class=\"sk-item sk-dashed-wrapped\"><div class=\"sk-label-container\"><div class=\"sk-label sk-toggleable\"><input class=\"sk-toggleable__control sk-hidden--visually\" id=\"sk-estimator-id-7\" type=\"checkbox\" ><label for=\"sk-estimator-id-7\" class=\"sk-toggleable__label sk-toggleable__label-arrow\">GridSearchCV</label><div class=\"sk-toggleable__content\"><pre>GridSearchCV(cv=5, error_score=nan,\n",
       "             estimator=DecisionTreeClassifier(ccp_alpha=0.0, class_weight=None,\n",
       "                                              criterion=&#x27;gini&#x27;, max_depth=None,\n",
       "                                              max_features=None,\n",
       "                                              max_leaf_nodes=None,\n",
       "                                              min_impurity_decrease=0.0,\n",
       "                                              min_samples_leaf=1,\n",
       "                                              min_samples_split=2,\n",
       "                                              min_weight_fraction_leaf=0.0,\n",
       "                                              random_state=None,\n",
       "                                              splitter=&#x27;best&#x27;),\n",
       "             n_jobs=None,\n",
       "             param_grid={&#x27;max_depth&#x27;: [2, 3, 4], &#x27;max_features&#x27;: [3, 4, 5]},\n",
       "             pre_dispatch=&#x27;2*n_jobs&#x27;, refit=True, return_train_score=False,\n",
       "             scoring=None, verbose=0)</pre></div></div></div><div class=\"sk-parallel\"><div class=\"sk-parallel-item\"><div class=\"sk-item\"><div class=\"sk-label-container\"><div class=\"sk-label sk-toggleable\"><input class=\"sk-toggleable__control sk-hidden--visually\" id=\"sk-estimator-id-8\" type=\"checkbox\" ><label for=\"sk-estimator-id-8\" class=\"sk-toggleable__label sk-toggleable__label-arrow\">estimator: DecisionTreeClassifier</label><div class=\"sk-toggleable__content\"><pre>DecisionTreeClassifier(ccp_alpha=0.0, class_weight=None, criterion=&#x27;gini&#x27;,\n",
       "                       max_depth=None, max_features=None, max_leaf_nodes=None,\n",
       "                       min_impurity_decrease=0.0, min_samples_leaf=1,\n",
       "                       min_samples_split=2, min_weight_fraction_leaf=0.0,\n",
       "                       random_state=None, splitter=&#x27;best&#x27;)</pre></div></div></div><div class=\"sk-serial\"><div class=\"sk-item\"><div class=\"sk-estimator sk-toggleable\"><input class=\"sk-toggleable__control sk-hidden--visually\" id=\"sk-estimator-id-9\" type=\"checkbox\" ><label for=\"sk-estimator-id-9\" class=\"sk-toggleable__label sk-toggleable__label-arrow\">DecisionTreeClassifier</label><div class=\"sk-toggleable__content\"><pre>DecisionTreeClassifier()</pre></div></div></div></div></div></div></div></div></div></div>"
      ],
      "text/plain": [
       "GridSearchCV(cv=5, error_score=nan,\n",
       "             estimator=DecisionTreeClassifier(ccp_alpha=0.0, class_weight=None,\n",
       "                                              criterion='gini', max_depth=None,\n",
       "                                              max_features=None,\n",
       "                                              max_leaf_nodes=None,\n",
       "                                              min_impurity_decrease=0.0,\n",
       "                                              min_samples_leaf=1,\n",
       "                                              min_samples_split=2,\n",
       "                                              min_weight_fraction_leaf=0.0,\n",
       "                                              random_state=None,\n",
       "                                              splitter='best'),\n",
       "             n_jobs=None,\n",
       "             param_grid={'max_depth': [2, 3, 4], 'max_features': [3, 4, 5]},\n",
       "             pre_dispatch='2*n_jobs', refit=True, return_train_score=False,\n",
       "             scoring=None, verbose=0)"
      ]
     },
     "execution_count": 50,
     "metadata": {},
     "output_type": "execute_result"
    }
   ],
   "source": [
    "clf = DecisionTreeClassifier()\n",
    "grid = GridSearchCV(estimator= clf , param_grid= pram_grid , cv = 5 )\n",
    "grid_result = grid.fit(x_train , y_train)\n",
    "\n",
    "grid_result"
   ]
  },
  {
   "cell_type": "code",
   "execution_count": 51,
   "id": "bbd8df00",
   "metadata": {
    "execution": {
     "iopub.execute_input": "2023-09-03T21:46:04.969340Z",
     "iopub.status.busy": "2023-09-03T21:46:04.968926Z",
     "iopub.status.idle": "2023-09-03T21:46:04.975441Z",
     "shell.execute_reply": "2023-09-03T21:46:04.973967Z"
    },
    "papermill": {
     "duration": 0.057537,
     "end_time": "2023-09-03T21:46:04.979314",
     "exception": false,
     "start_time": "2023-09-03T21:46:04.921777",
     "status": "completed"
    },
    "tags": []
   },
   "outputs": [
    {
     "name": "stdout",
     "output_type": "stream",
     "text": [
      "Best: 0.999302 using {'max_depth': 4, 'max_features': 5}\n"
     ]
    }
   ],
   "source": [
    "print (\"Best: %f using %s\" %(grid_result.best_score_ , grid_result.best_params_))"
   ]
  },
  {
   "cell_type": "code",
   "execution_count": 52,
   "id": "97598d87",
   "metadata": {
    "execution": {
     "iopub.execute_input": "2023-09-03T21:46:05.093645Z",
     "iopub.status.busy": "2023-09-03T21:46:05.093027Z",
     "iopub.status.idle": "2023-09-03T21:46:05.100611Z",
     "shell.execute_reply": "2023-09-03T21:46:05.099415Z"
    },
    "papermill": {
     "duration": 0.064456,
     "end_time": "2023-09-03T21:46:05.103105",
     "exception": false,
     "start_time": "2023-09-03T21:46:05.038649",
     "status": "completed"
    },
    "tags": []
   },
   "outputs": [
    {
     "data": {
      "text/html": [
       "<style>#sk-container-id-8 {color: black;background-color: white;}#sk-container-id-8 pre{padding: 0;}#sk-container-id-8 div.sk-toggleable {background-color: white;}#sk-container-id-8 label.sk-toggleable__label {cursor: pointer;display: block;width: 100%;margin-bottom: 0;padding: 0.3em;box-sizing: border-box;text-align: center;}#sk-container-id-8 label.sk-toggleable__label-arrow:before {content: \"▸\";float: left;margin-right: 0.25em;color: #696969;}#sk-container-id-8 label.sk-toggleable__label-arrow:hover:before {color: black;}#sk-container-id-8 div.sk-estimator:hover label.sk-toggleable__label-arrow:before {color: black;}#sk-container-id-8 div.sk-toggleable__content {max-height: 0;max-width: 0;overflow: hidden;text-align: left;background-color: #f0f8ff;}#sk-container-id-8 div.sk-toggleable__content pre {margin: 0.2em;color: black;border-radius: 0.25em;background-color: #f0f8ff;}#sk-container-id-8 input.sk-toggleable__control:checked~div.sk-toggleable__content {max-height: 200px;max-width: 100%;overflow: auto;}#sk-container-id-8 input.sk-toggleable__control:checked~label.sk-toggleable__label-arrow:before {content: \"▾\";}#sk-container-id-8 div.sk-estimator input.sk-toggleable__control:checked~label.sk-toggleable__label {background-color: #d4ebff;}#sk-container-id-8 div.sk-label input.sk-toggleable__control:checked~label.sk-toggleable__label {background-color: #d4ebff;}#sk-container-id-8 input.sk-hidden--visually {border: 0;clip: rect(1px 1px 1px 1px);clip: rect(1px, 1px, 1px, 1px);height: 1px;margin: -1px;overflow: hidden;padding: 0;position: absolute;width: 1px;}#sk-container-id-8 div.sk-estimator {font-family: monospace;background-color: #f0f8ff;border: 1px dotted black;border-radius: 0.25em;box-sizing: border-box;margin-bottom: 0.5em;}#sk-container-id-8 div.sk-estimator:hover {background-color: #d4ebff;}#sk-container-id-8 div.sk-parallel-item::after {content: \"\";width: 100%;border-bottom: 1px solid gray;flex-grow: 1;}#sk-container-id-8 div.sk-label:hover label.sk-toggleable__label {background-color: #d4ebff;}#sk-container-id-8 div.sk-serial::before {content: \"\";position: absolute;border-left: 1px solid gray;box-sizing: border-box;top: 0;bottom: 0;left: 50%;z-index: 0;}#sk-container-id-8 div.sk-serial {display: flex;flex-direction: column;align-items: center;background-color: white;padding-right: 0.2em;padding-left: 0.2em;position: relative;}#sk-container-id-8 div.sk-item {position: relative;z-index: 1;}#sk-container-id-8 div.sk-parallel {display: flex;align-items: stretch;justify-content: center;background-color: white;position: relative;}#sk-container-id-8 div.sk-item::before, #sk-container-id-8 div.sk-parallel-item::before {content: \"\";position: absolute;border-left: 1px solid gray;box-sizing: border-box;top: 0;bottom: 0;left: 50%;z-index: -1;}#sk-container-id-8 div.sk-parallel-item {display: flex;flex-direction: column;z-index: 1;position: relative;background-color: white;}#sk-container-id-8 div.sk-parallel-item:first-child::after {align-self: flex-end;width: 50%;}#sk-container-id-8 div.sk-parallel-item:last-child::after {align-self: flex-start;width: 50%;}#sk-container-id-8 div.sk-parallel-item:only-child::after {width: 0;}#sk-container-id-8 div.sk-dashed-wrapped {border: 1px dashed gray;margin: 0 0.4em 0.5em 0.4em;box-sizing: border-box;padding-bottom: 0.4em;background-color: white;}#sk-container-id-8 div.sk-label label {font-family: monospace;font-weight: bold;display: inline-block;line-height: 1.2em;}#sk-container-id-8 div.sk-label-container {text-align: center;}#sk-container-id-8 div.sk-container {/* jupyter's `normalize.less` sets `[hidden] { display: none; }` but bootstrap.min.css set `[hidden] { display: none !important; }` so we also need the `!important` here to be able to override the default hidden behavior on the sphinx rendered scikit-learn.org. See: https://github.com/scikit-learn/scikit-learn/issues/21755 */display: inline-block !important;position: relative;}#sk-container-id-8 div.sk-text-repr-fallback {display: none;}</style><div id=\"sk-container-id-8\" class=\"sk-top-container\"><div class=\"sk-text-repr-fallback\"><pre>DecisionTreeClassifier(ccp_alpha=0.0, class_weight=None, criterion=&#x27;gini&#x27;,\n",
       "                       max_depth=4, max_features=5, max_leaf_nodes=None,\n",
       "                       min_impurity_decrease=0.0, min_samples_leaf=1,\n",
       "                       min_samples_split=2, min_weight_fraction_leaf=0.0,\n",
       "                       random_state=None, splitter=&#x27;best&#x27;)</pre><b>In a Jupyter environment, please rerun this cell to show the HTML representation or trust the notebook. <br />On GitHub, the HTML representation is unable to render, please try loading this page with nbviewer.org.</b></div><div class=\"sk-container\" hidden><div class=\"sk-item\"><div class=\"sk-estimator sk-toggleable\"><input class=\"sk-toggleable__control sk-hidden--visually\" id=\"sk-estimator-id-10\" type=\"checkbox\" checked><label for=\"sk-estimator-id-10\" class=\"sk-toggleable__label sk-toggleable__label-arrow\">DecisionTreeClassifier</label><div class=\"sk-toggleable__content\"><pre>DecisionTreeClassifier(ccp_alpha=0.0, class_weight=None, criterion=&#x27;gini&#x27;,\n",
       "                       max_depth=4, max_features=5, max_leaf_nodes=None,\n",
       "                       min_impurity_decrease=0.0, min_samples_leaf=1,\n",
       "                       min_samples_split=2, min_weight_fraction_leaf=0.0,\n",
       "                       random_state=None, splitter=&#x27;best&#x27;)</pre></div></div></div></div></div>"
      ],
      "text/plain": [
       "DecisionTreeClassifier(ccp_alpha=0.0, class_weight=None, criterion='gini',\n",
       "                       max_depth=4, max_features=5, max_leaf_nodes=None,\n",
       "                       min_impurity_decrease=0.0, min_samples_leaf=1,\n",
       "                       min_samples_split=2, min_weight_fraction_leaf=0.0,\n",
       "                       random_state=None, splitter='best')"
      ]
     },
     "execution_count": 52,
     "metadata": {},
     "output_type": "execute_result"
    }
   ],
   "source": [
    "model = grid_result.best_estimator_\n",
    "model"
   ]
  },
  {
   "cell_type": "code",
   "execution_count": 53,
   "id": "7f87a260",
   "metadata": {
    "execution": {
     "iopub.execute_input": "2023-09-03T21:46:05.198214Z",
     "iopub.status.busy": "2023-09-03T21:46:05.197357Z",
     "iopub.status.idle": "2023-09-03T21:46:05.211801Z",
     "shell.execute_reply": "2023-09-03T21:46:05.210757Z"
    },
    "papermill": {
     "duration": 0.064789,
     "end_time": "2023-09-03T21:46:05.214236",
     "exception": false,
     "start_time": "2023-09-03T21:46:05.149447",
     "status": "completed"
    },
    "tags": []
   },
   "outputs": [
    {
     "data": {
      "text/plain": [
       "array([1, 0, 0, ..., 0, 0, 0])"
      ]
     },
     "execution_count": 53,
     "metadata": {},
     "output_type": "execute_result"
    }
   ],
   "source": [
    "model.predict(x_test)"
   ]
  },
  {
   "cell_type": "code",
   "execution_count": 54,
   "id": "65a639ed",
   "metadata": {
    "execution": {
     "iopub.execute_input": "2023-09-03T21:46:05.310966Z",
     "iopub.status.busy": "2023-09-03T21:46:05.310578Z",
     "iopub.status.idle": "2023-09-03T21:46:05.648928Z",
     "shell.execute_reply": "2023-09-03T21:46:05.647202Z"
    },
    "papermill": {
     "duration": 0.394968,
     "end_time": "2023-09-03T21:46:05.656519",
     "exception": false,
     "start_time": "2023-09-03T21:46:05.261551",
     "status": "completed"
    },
    "tags": []
   },
   "outputs": [
    {
     "name": "stdout",
     "output_type": "stream",
     "text": [
      "              precision    recall  f1-score   support\n",
      "\n",
      "           0       1.00      1.00      1.00     71089\n",
      "           1       0.80      0.73      0.76       113\n",
      "\n",
      "    accuracy                           1.00     71202\n",
      "   macro avg       0.90      0.86      0.88     71202\n",
      "weighted avg       1.00      1.00      1.00     71202\n",
      "\n"
     ]
    },
    {
     "data": {
      "image/png": "[encoded data removed]",
      "text/plain": [
       "<Figure size 800x550 with 1 Axes>"
      ]
     },
     "metadata": {},
     "output_type": "display_data"
    }
   ],
   "source": [
    "con = confusion_matrix(y_test , model.predict(x_test) )\n",
    "con\n",
    "from mlxtend.plotting import plot_confusion_matrix\n",
    "plot_confusion_matrix(con )\n",
    "\n",
    "print (classification_report(y_test , model.predict(x_test)))"
   ]
  },
  {
   "cell_type": "code",
   "execution_count": 55,
   "id": "47ee93ce",
   "metadata": {
    "execution": {
     "iopub.execute_input": "2023-09-03T21:46:05.758836Z",
     "iopub.status.busy": "2023-09-03T21:46:05.757737Z",
     "iopub.status.idle": "2023-09-03T21:46:06.084581Z",
     "shell.execute_reply": "2023-09-03T21:46:06.083384Z"
    },
    "papermill": {
     "duration": 0.376669,
     "end_time": "2023-09-03T21:46:06.087090",
     "exception": false,
     "start_time": "2023-09-03T21:46:05.710421",
     "status": "completed"
    },
    "tags": []
   },
   "outputs": [
    {
     "data": {
      "image/png": "[encoded data removed]",
      "text/plain": [
       "<Figure size 800x550 with 1 Axes>"
      ]
     },
     "metadata": {},
     "output_type": "display_data"
    }
   ],
   "source": [
    "from sklearn.metrics import RocCurveDisplay\n",
    "svc_disp = RocCurveDisplay.from_estimator(model, x_test, y_test)"
   ]
  },
  {
   "cell_type": "code",
   "execution_count": 56,
   "id": "48264dee",
   "metadata": {
    "execution": {
     "iopub.execute_input": "2023-09-03T21:46:06.181830Z",
     "iopub.status.busy": "2023-09-03T21:46:06.180714Z",
     "iopub.status.idle": "2023-09-03T21:46:06.865996Z",
     "shell.execute_reply": "2023-09-03T21:46:06.864866Z"
    },
    "papermill": {
     "duration": 0.734916,
     "end_time": "2023-09-03T21:46:06.868393",
     "exception": false,
     "start_time": "2023-09-03T21:46:06.133477",
     "status": "completed"
    },
    "tags": []
   },
   "outputs": [
    {
     "data": {
      "image/png": "[encoded data removed]",
      "text/plain": [
       "<Figure size 800x550 with 1 Axes>"
      ]
     },
     "metadata": {},
     "output_type": "display_data"
    }
   ],
   "source": [
    "tuned_model_disp = RocCurveDisplay.from_estimator(tuned_model, x_test, y_test)"
   ]
  },
  {
   "cell_type": "markdown",
   "id": "70930602",
   "metadata": {
    "papermill": {
     "duration": 0.048663,
     "end_time": "2023-09-03T21:46:06.966068",
     "exception": false,
     "start_time": "2023-09-03T21:46:06.917405",
     "status": "completed"
    },
    "tags": []
   },
   "source": [
    "***\n",
    "<div style=\"color:white;\n",
    "           display:fill;\n",
    "           border-radius:5px;\n",
    "           background-color:#231855;\n",
    "           font-size:20px;\n",
    "           font-family:Nexa;\n",
    "           letter-spacing:0.5px\">\n",
    "        <p style=\"padding: 10px;\n",
    "              color:white;\">\n",
    "            <b>Thanks For Reading</b>\n",
    "        </p>\n",
    "</div>"
   ]
  }
 ],
 "kernelspec": {
  "display_name": "Python 3",
  "language": "python",
  "name": "python3"
 },
 "language_info": {
  "codemirror_mode": {
   "name": "ipython",
   "version": 3
  },
  "file_extension": ".py",
  "mimetype": "text/x-python",
  "name": "python",
  "nbconvert_exporter": "python",
  "pygments_lexer": "ipython3",
  "version": "3.6.4"
 },
 "metadata": {
  "colab": {
   "provenance": []
  },
  "kernelspec": {
   "display_name": "Python 3",
   "language": "python",
   "name": "python3"
  },
  "language_info": {
   "codemirror_mode": {
    "name": "ipython",
    "version": 3
   },
   "file_extension": ".py",
   "mimetype": "text/x-python",
   "name": "python",
   "nbconvert_exporter": "python",
   "pygments_lexer": "ipython3",
   "version": "3.10.12"
  },
  "papermill": {
   "default_parameters": {},
   "duration": 5573.506938,
   "end_time": "2023-09-03T21:46:09.659506",
   "environment_variables": {},
   "exception": null,
   "input_path": "__notebook__.ipynb",
   "output_path": "__notebook__.ipynb",
   "parameters": {},
   "start_time": "2023-09-03T20:13:16.152568",
   "version": "2.4.0"
  },
  "widgets": {
   "application/vnd.jupyter.widget-state+json": {
    "state": {
     "037b638e44224d9aabb83f570b3c0e4e": {
      "model_module": "@jupyter-widgets/controls",
      "model_module_version": "1.5.0",
      "model_name": "DescriptionStyleModel",
      "state": {
       "_model_module": "@jupyter-widgets/controls",
       "_model_module_version": "1.5.0",
       "_model_name": "DescriptionStyleModel",
       "_view_count": null,
       "_view_module": "@jupyter-widgets/base",
       "_view_module_version": "1.2.0",
       "_view_name": "StyleView",
       "description_width": ""
      }
     },
     "045d61cfbccf496dba52158c869d4d5b": {
      "model_module": "@jupyter-widgets/base",
      "model_module_version": "1.2.0",
      "model_name": "LayoutModel",
      "state": {
       "_model_module": "@jupyter-widgets/base",
       "_model_module_version": "1.2.0",
       "_model_name": "LayoutModel",
       "_view_count": null,
       "_view_module": "@jupyter-widgets/base",
       "_view_module_version": "1.2.0",
       "_view_name": "LayoutView",
       "align_content": null,
       "align_items": null,
       "align_self": null,
       "border": null,
       "bottom": null,
       "display": null,
       "flex": null,
       "flex_flow": null,
       "grid_area": null,
       "grid_auto_columns": null,
       "grid_auto_flow": null,
       "grid_auto_rows": null,
       "grid_column": null,
       "grid_gap": null,
       "grid_row": null,
       "grid_template_areas": null,
       "grid_template_columns": null,
       "grid_template_rows": null,
       "height": null,
       "justify_content": null,
       "justify_items": null,
       "left": null,
       "margin": null,
       "max_height": null,
       "max_width": null,
       "min_height": null,
       "min_width": null,
       "object_fit": null,
       "object_position": null,
       "order": null,
       "overflow": null,
       "overflow_x": null,
       "overflow_y": null,
       "padding": null,
       "right": null,
       "top": null,
       "visibility": null,
       "width": null
      }
     },
     "0740a10cde3e483fb68f89cf678e2b1d": {
      "model_module": "@jupyter-widgets/controls",
      "model_module_version": "1.5.0",
      "model_name": "HBoxModel",
      "state": {
       "_dom_classes": [],
       "_model_module": "@jupyter-widgets/controls",
       "_model_module_version": "1.5.0",
       "_model_name": "HBoxModel",
       "_view_count": null,
       "_view_module": "@jupyter-widgets/controls",
       "_view_module_version": "1.5.0",
       "_view_name": "HBoxView",
       "box_style": "",
       "children": [
        "IPY_MODEL_290f414d2bc747d18022ec6322029c95",
        "IPY_MODEL_09e7cda6325b4e7eac3b2523d5ff9f08",
        "IPY_MODEL_f4fb7487ef774e60890b514ab68c7c96"
       ],
       "layout": "IPY_MODEL_3d452d4bd8934d0dba3a740e4c4b0255"
      }
     },
     "09e7cda6325b4e7eac3b2523d5ff9f08": {
      "model_module": "@jupyter-widgets/controls",
      "model_module_version": "1.5.0",
      "model_name": "FloatProgressModel",
      "state": {
       "_dom_classes": [],
       "_model_module": "@jupyter-widgets/controls",
       "_model_module_version": "1.5.0",
       "_model_name": "FloatProgressModel",
       "_view_count": null,
       "_view_module": "@jupyter-widgets/controls",
       "_view_module_version": "1.5.0",
       "_view_name": "ProgressView",
       "bar_style": "",
       "description": "",
       "description_tooltip": null,
       "layout": "IPY_MODEL_26f8e906d47a4a5b93b602b381f9149c",
       "max": 69.0,
       "min": 0.0,
       "orientation": "horizontal",
       "style": "IPY_MODEL_7918fc47125143878410f629d12190d2",
       "value": 69.0
      }
     },
     "0e6ad0e041aa49d8a85af62ce5cd2168": {
      "model_module": "@jupyter-widgets/controls",
      "model_module_version": "1.5.0",
      "model_name": "HTMLModel",
      "state": {
       "_dom_classes": [],
       "_model_module": "@jupyter-widgets/controls",
       "_model_module_version": "1.5.0",
       "_model_name": "HTMLModel",
       "_view_count": null,
       "_view_module": "@jupyter-widgets/controls",
       "_view_module_version": "1.5.0",
       "_view_name": "HTMLView",
       "description": "",
       "description_tooltip": null,
       "layout": "IPY_MODEL_eac0d6cc60274ba985c03f43f0e55d6d",
       "placeholder": "​",
       "style": "IPY_MODEL_5281bed1e1dc4856870ea70e2dce295c",
       "value": " 7/7 [20:34&lt;00:00, 109.38s/it]"
      }
     },
     "1008bbc30878497bbe859245225f21cd": {
      "model_module": "@jupyter-widgets/controls",
      "model_module_version": "1.5.0",
      "model_name": "ToggleButtonsModel",
      "state": {
       "_dom_classes": [],
       "_model_module": "@jupyter-widgets/controls",
       "_model_module_version": "1.5.0",
       "_model_name": "ToggleButtonsModel",
       "_options_labels": [
        "Pipeline Plot",
        "Hyperparameters",
        "AUC",
        "Confusion Matrix",
        "Threshold",
        "Precision Recall",
        "Prediction Error",
        "Class Report",
        "Feature Selection",
        "Learning Curve",
        "Manifold Learning",
        "Calibration Curve",
        "Validation Curve",
        "Dimensions",
        "Feature Importance",
        "Feature Importance (All)",
        "Decision Boundary",
        "Lift Chart",
        "Gain Chart",
        "Decision Tree",
        "KS Statistic Plot"
       ],
       "_view_count": null,
       "_view_module": "@jupyter-widgets/controls",
       "_view_module_version": "1.5.0",
       "_view_name": "ToggleButtonsView",
       "button_style": "",
       "description": "Plot Type:",
       "description_tooltip": null,
       "disabled": false,
       "icons": [
        ""
       ],
       "index": 0,
       "layout": "IPY_MODEL_313e80a6ae0f447dbcbc8a76763a1ef3",
       "style": "IPY_MODEL_5c648296a23a4733b86310c9596b538e",
       "tooltips": []
      }
     },
     "24c37ca2a0804e56b6e0ff6fdaa3eb6f": {
      "model_module": "@jupyter-widgets/controls",
      "model_module_version": "1.5.0",
      "model_name": "HBoxModel",
      "state": {
       "_dom_classes": [],
       "_model_module": "@jupyter-widgets/controls",
       "_model_module_version": "1.5.0",
       "_model_name": "HBoxModel",
       "_view_count": null,
       "_view_module": "@jupyter-widgets/controls",
       "_view_module_version": "1.5.0",
       "_view_name": "HBoxView",
       "box_style": "",
       "children": [
        "IPY_MODEL_5f672e07909d4a07ac72aa4fa9574db0",
        "IPY_MODEL_5a9271cd2b4c41a6b2c425aaba6a5e4d",
        "IPY_MODEL_dfef417b302f48ac9459ffe47e3e52d7"
       ],
       "layout": "IPY_MODEL_be6e23ba288b412e8b2ddb22040f3acd"
      }
     },
     "26f8e906d47a4a5b93b602b381f9149c": {
      "model_module": "@jupyter-widgets/base",
      "model_module_version": "1.2.0",
      "model_name": "LayoutModel",
      "state": {
       "_model_module": "@jupyter-widgets/base",
       "_model_module_version": "1.2.0",
       "_model_name": "LayoutModel",
       "_view_count": null,
       "_view_module": "@jupyter-widgets/base",
       "_view_module_version": "1.2.0",
       "_view_name": "LayoutView",
       "align_content": null,
       "align_items": null,
       "align_self": null,
       "border": null,
       "bottom": null,
       "display": null,
       "flex": null,
       "flex_flow": null,
       "grid_area": null,
       "grid_auto_columns": null,
       "grid_auto_flow": null,
       "grid_auto_rows": null,
       "grid_column": null,
       "grid_gap": null,
       "grid_row": null,
       "grid_template_areas": null,
       "grid_template_columns": null,
       "grid_template_rows": null,
       "height": null,
       "justify_content": null,
       "justify_items": null,
       "left": null,
       "margin": null,
       "max_height": null,
       "max_width": null,
       "min_height": null,
       "min_width": null,
       "object_fit": null,
       "object_position": null,
       "order": null,
       "overflow": null,
       "overflow_x": null,
       "overflow_y": null,
       "padding": null,
       "right": null,
       "top": null,
       "visibility": null,
       "width": null
      }
     },
     "290f414d2bc747d18022ec6322029c95": {
      "model_module": "@jupyter-widgets/controls",
      "model_module_version": "1.5.0",
      "model_name": "HTMLModel",
      "state": {
       "_dom_classes": [],
       "_model_module": "@jupyter-widgets/controls",
       "_model_module_version": "1.5.0",
       "_model_name": "HTMLModel",
       "_view_count": null,
       "_view_module": "@jupyter-widgets/controls",
       "_view_module_version": "1.5.0",
       "_view_name": "HTMLView",
       "description": "",
       "description_tooltip": null,
       "layout": "IPY_MODEL_c994aa4a7ae74830a56a8198ccfaad77",
       "placeholder": "​",
       "style": "IPY_MODEL_60fa6908de824a09a0820e492c0ba7d8",
       "value": "Processing: 100%"
      }
     },
     "313e80a6ae0f447dbcbc8a76763a1ef3": {
      "model_module": "@jupyter-widgets/base",
      "model_module_version": "1.2.0",
      "model_name": "LayoutModel",
      "state": {
       "_model_module": "@jupyter-widgets/base",
       "_model_module_version": "1.2.0",
       "_model_name": "LayoutModel",
       "_view_count": null,
       "_view_module": "@jupyter-widgets/base",
       "_view_module_version": "1.2.0",
       "_view_name": "LayoutView",
       "align_content": null,
       "align_items": null,
       "align_self": null,
       "border": null,
       "bottom": null,
       "display": null,
       "flex": null,
       "flex_flow": null,
       "grid_area": null,
       "grid_auto_columns": null,
       "grid_auto_flow": null,
       "grid_auto_rows": null,
       "grid_column": null,
       "grid_gap": null,
       "grid_row": null,
       "grid_template_areas": null,
       "grid_template_columns": null,
       "grid_template_rows": null,
       "height": null,
       "justify_content": null,
       "justify_items": null,
       "left": null,
       "margin": null,
       "max_height": null,
       "max_width": null,
       "min_height": null,
       "min_width": null,
       "object_fit": null,
       "object_position": null,
       "order": null,
       "overflow": null,
       "overflow_x": null,
       "overflow_y": null,
       "padding": null,
       "right": null,
       "top": null,
       "visibility": null,
       "width": null
      }
     },
     "39a11498208849c49f96e5dbf0838132": {
      "model_module": "@jupyter-widgets/output",
      "model_module_version": "1.0.0",
      "model_name": "OutputModel",
      "state": {
       "_dom_classes": [],
       "_model_module": "@jupyter-widgets/output",
       "_model_module_version": "1.0.0",
       "_model_name": "OutputModel",
       "_view_count": null,
       "_view_module": "@jupyter-widgets/output",
       "_view_module_version": "1.0.0",
       "_view_name": "OutputView",
       "layout": "IPY_MODEL_045d61cfbccf496dba52158c869d4d5b",
       "msg_id": "",
       "outputs": [
        {
         "data": {
          "image/png": "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",
          "text/plain": "<Figure size 1200x600 with 1 Axes>"
         },
         "metadata": {},
         "output_type": "display_data"
        }
       ]
      }
     },
     "3c9d0dc256424309891a07bdb8fc237d": {
      "model_module": "@jupyter-widgets/controls",
      "model_module_version": "1.5.0",
      "model_name": "DescriptionStyleModel",
      "state": {
       "_model_module": "@jupyter-widgets/controls",
       "_model_module_version": "1.5.0",
       "_model_name": "DescriptionStyleModel",
       "_view_count": null,
       "_view_module": "@jupyter-widgets/base",
       "_view_module_version": "1.2.0",
       "_view_name": "StyleView",
       "description_width": ""
      }
     },
     "3d452d4bd8934d0dba3a740e4c4b0255": {
      "model_module": "@jupyter-widgets/base",
      "model_module_version": "1.2.0",
      "model_name": "LayoutModel",
      "state": {
       "_model_module": "@jupyter-widgets/base",
       "_model_module_version": "1.2.0",
       "_model_name": "LayoutModel",
       "_view_count": null,
       "_view_module": "@jupyter-widgets/base",
       "_view_module_version": "1.2.0",
       "_view_name": "LayoutView",
       "align_content": null,
       "align_items": null,
       "align_self": null,
       "border": null,
       "bottom": null,
       "display": null,
       "flex": null,
       "flex_flow": null,
       "grid_area": null,
       "grid_auto_columns": null,
       "grid_auto_flow": null,
       "grid_auto_rows": null,
       "grid_column": null,
       "grid_gap": null,
       "grid_row": null,
       "grid_template_areas": null,
       "grid_template_columns": null,
       "grid_template_rows": null,
       "height": null,
       "justify_content": null,
       "justify_items": null,
       "left": null,
       "margin": null,
       "max_height": null,
       "max_width": null,
       "min_height": null,
       "min_width": null,
       "object_fit": null,
       "object_position": null,
       "order": null,
       "overflow": null,
       "overflow_x": null,
       "overflow_y": null,
       "padding": null,
       "right": null,
       "top": null,
       "visibility": "hidden",
       "width": null
      }
     },
     "46f32fbf5f3c40adaccf7cebc0a592bb": {
      "model_module": "@jupyter-widgets/controls",
      "model_module_version": "1.5.0",
      "model_name": "ProgressStyleModel",
      "state": {
       "_model_module": "@jupyter-widgets/controls",
       "_model_module_version": "1.5.0",
       "_model_name": "ProgressStyleModel",
       "_view_count": null,
       "_view_module": "@jupyter-widgets/base",
       "_view_module_version": "1.2.0",
       "_view_name": "StyleView",
       "bar_color": null,
       "description_width": ""
      }
     },
     "49da251892b244379c66a2503e29860f": {
      "model_module": "@jupyter-widgets/base",
      "model_module_version": "1.2.0",
      "model_name": "LayoutModel",
      "state": {
       "_model_module": "@jupyter-widgets/base",
       "_model_module_version": "1.2.0",
       "_model_name": "LayoutModel",
       "_view_count": null,
       "_view_module": "@jupyter-widgets/base",
       "_view_module_version": "1.2.0",
       "_view_name": "LayoutView",
       "align_content": null,
       "align_items": null,
       "align_self": null,
       "border": null,
       "bottom": null,
       "display": null,
       "flex": null,
       "flex_flow": null,
       "grid_area": null,
       "grid_auto_columns": null,
       "grid_auto_flow": null,
       "grid_auto_rows": null,
       "grid_column": null,
       "grid_gap": null,
       "grid_row": null,
       "grid_template_areas": null,
       "grid_template_columns": null,
       "grid_template_rows": null,
       "height": null,
       "justify_content": null,
       "justify_items": null,
       "left": null,
       "margin": null,
       "max_height": null,
       "max_width": null,
       "min_height": null,
       "min_width": null,
       "object_fit": null,
       "object_position": null,
       "order": null,
       "overflow": null,
       "overflow_x": null,
       "overflow_y": null,
       "padding": null,
       "right": null,
       "top": null,
       "visibility": null,
       "width": null
      }
     },
     "4f47b6d6dd2e4e8a8c47c9f34d25cb79": {
      "model_module": "@jupyter-widgets/base",
      "model_module_version": "1.2.0",
      "model_name": "LayoutModel",
      "state": {
       "_model_module": "@jupyter-widgets/base",
       "_model_module_version": "1.2.0",
       "_model_name": "LayoutModel",
       "_view_count": null,
       "_view_module": "@jupyter-widgets/base",
       "_view_module_version": "1.2.0",
       "_view_name": "LayoutView",
       "align_content": null,
       "align_items": null,
       "align_self": null,
       "border": null,
       "bottom": null,
       "display": null,
       "flex": null,
       "flex_flow": null,
       "grid_area": null,
       "grid_auto_columns": null,
       "grid_auto_flow": null,
       "grid_auto_rows": null,
       "grid_column": null,
       "grid_gap": null,
       "grid_row": null,
       "grid_template_areas": null,
       "grid_template_columns": null,
       "grid_template_rows": null,
       "height": null,
       "justify_content": null,
       "justify_items": null,
       "left": null,
       "margin": null,
       "max_height": null,
       "max_width": null,
       "min_height": null,
       "min_width": null,
       "object_fit": null,
       "object_position": null,
       "order": null,
       "overflow": null,
       "overflow_x": null,
       "overflow_y": null,
       "padding": null,
       "right": null,
       "top": null,
       "visibility": null,
       "width": null
      }
     },
     "4feda4193f794a8b87142aa96983ed66": {
      "model_module": "@jupyter-widgets/base",
      "model_module_version": "1.2.0",
      "model_name": "LayoutModel",
      "state": {
       "_model_module": "@jupyter-widgets/base",
       "_model_module_version": "1.2.0",
       "_model_name": "LayoutModel",
       "_view_count": null,
       "_view_module": "@jupyter-widgets/base",
       "_view_module_version": "1.2.0",
       "_view_name": "LayoutView",
       "align_content": null,
       "align_items": null,
       "align_self": null,
       "border": null,
       "bottom": null,
       "display": null,
       "flex": null,
       "flex_flow": null,
       "grid_area": null,
       "grid_auto_columns": null,
       "grid_auto_flow": null,
       "grid_auto_rows": null,
       "grid_column": null,
       "grid_gap": null,
       "grid_row": null,
       "grid_template_areas": null,
       "grid_template_columns": null,
       "grid_template_rows": null,
       "height": null,
       "justify_content": null,
       "justify_items": null,
       "left": null,
       "margin": null,
       "max_height": null,
       "max_width": null,
       "min_height": null,
       "min_width": null,
       "object_fit": null,
       "object_position": null,
       "order": null,
       "overflow": null,
       "overflow_x": null,
       "overflow_y": null,
       "padding": null,
       "right": null,
       "top": null,
       "visibility": null,
       "width": null
      }
     },
     "5281bed1e1dc4856870ea70e2dce295c": {
      "model_module": "@jupyter-widgets/controls",
      "model_module_version": "1.5.0",
      "model_name": "DescriptionStyleModel",
      "state": {
       "_model_module": "@jupyter-widgets/controls",
       "_model_module_version": "1.5.0",
       "_model_name": "DescriptionStyleModel",
       "_view_count": null,
       "_view_module": "@jupyter-widgets/base",
       "_view_module_version": "1.2.0",
       "_view_name": "StyleView",
       "description_width": ""
      }
     },
     "5a9271cd2b4c41a6b2c425aaba6a5e4d": {
      "model_module": "@jupyter-widgets/controls",
      "model_module_version": "1.5.0",
      "model_name": "FloatProgressModel",
      "state": {
       "_dom_classes": [],
       "_model_module": "@jupyter-widgets/controls",
       "_model_module_version": "1.5.0",
       "_model_name": "FloatProgressModel",
       "_view_count": null,
       "_view_module": "@jupyter-widgets/controls",
       "_view_module_version": "1.5.0",
       "_view_name": "ProgressView",
       "bar_style": "",
       "description": "",
       "description_tooltip": null,
       "layout": "IPY_MODEL_96277e2e90064213a721dbfd5ae342e7",
       "max": 4.0,
       "min": 0.0,
       "orientation": "horizontal",
       "style": "IPY_MODEL_46f32fbf5f3c40adaccf7cebc0a592bb",
       "value": 4.0
      }
     },
     "5c648296a23a4733b86310c9596b538e": {
      "model_module": "@jupyter-widgets/controls",
      "model_module_version": "1.5.0",
      "model_name": "ToggleButtonsStyleModel",
      "state": {
       "_model_module": "@jupyter-widgets/controls",
       "_model_module_version": "1.5.0",
       "_model_name": "ToggleButtonsStyleModel",
       "_view_count": null,
       "_view_module": "@jupyter-widgets/base",
       "_view_module_version": "1.2.0",
       "_view_name": "StyleView",
       "button_width": "",
       "description_width": "",
       "font_weight": ""
      }
     },
     "5f672e07909d4a07ac72aa4fa9574db0": {
      "model_module": "@jupyter-widgets/controls",
      "model_module_version": "1.5.0",
      "model_name": "HTMLModel",
      "state": {
       "_dom_classes": [],
       "_model_module": "@jupyter-widgets/controls",
       "_model_module_version": "1.5.0",
       "_model_name": "HTMLModel",
       "_view_count": null,
       "_view_module": "@jupyter-widgets/controls",
       "_view_module_version": "1.5.0",
       "_view_name": "HTMLView",
       "description": "",
       "description_tooltip": null,
       "layout": "IPY_MODEL_49da251892b244379c66a2503e29860f",
       "placeholder": "​",
       "style": "IPY_MODEL_3c9d0dc256424309891a07bdb8fc237d",
       "value": "Processing: 100%"
      }
     },
     "60fa6908de824a09a0820e492c0ba7d8": {
      "model_module": "@jupyter-widgets/controls",
      "model_module_version": "1.5.0",
      "model_name": "DescriptionStyleModel",
      "state": {
       "_model_module": "@jupyter-widgets/controls",
       "_model_module_version": "1.5.0",
       "_model_name": "DescriptionStyleModel",
       "_view_count": null,
       "_view_module": "@jupyter-widgets/base",
       "_view_module_version": "1.2.0",
       "_view_name": "StyleView",
       "description_width": ""
      }
     },
     "6978d1f4fd934f58942c7e73b5c36a10": {
      "model_module": "@jupyter-widgets/controls",
      "model_module_version": "1.5.0",
      "model_name": "DescriptionStyleModel",
      "state": {
       "_model_module": "@jupyter-widgets/controls",
       "_model_module_version": "1.5.0",
       "_model_name": "DescriptionStyleModel",
       "_view_count": null,
       "_view_module": "@jupyter-widgets/base",
       "_view_module_version": "1.2.0",
       "_view_name": "StyleView",
       "description_width": ""
      }
     },
     "70aa7c65244647ada0b8026400dba6ec": {
      "model_module": "@jupyter-widgets/controls",
      "model_module_version": "1.5.0",
      "model_name": "FloatProgressModel",
      "state": {
       "_dom_classes": [],
       "_model_module": "@jupyter-widgets/controls",
       "_model_module_version": "1.5.0",
       "_model_name": "FloatProgressModel",
       "_view_count": null,
       "_view_module": "@jupyter-widgets/controls",
       "_view_module_version": "1.5.0",
       "_view_name": "ProgressView",
       "bar_style": "",
       "description": "",
       "description_tooltip": null,
       "layout": "IPY_MODEL_f921f1caf97f49609949b8646bf3c5ba",
       "max": 7.0,
       "min": 0.0,
       "orientation": "horizontal",
       "style": "IPY_MODEL_8d26181b8db34bf4b674b0e86adbf448",
       "value": 7.0
      }
     },
     "7918fc47125143878410f629d12190d2": {
      "model_module": "@jupyter-widgets/controls",
      "model_module_version": "1.5.0",
      "model_name": "ProgressStyleModel",
      "state": {
       "_model_module": "@jupyter-widgets/controls",
       "_model_module_version": "1.5.0",
       "_model_name": "ProgressStyleModel",
       "_view_count": null,
       "_view_module": "@jupyter-widgets/base",
       "_view_module_version": "1.2.0",
       "_view_name": "StyleView",
       "bar_color": null,
       "description_width": ""
      }
     },
     "84bbc749dacb45f4b7c686f19f850aa1": {
      "model_module": "@jupyter-widgets/controls",
      "model_module_version": "1.5.0",
      "model_name": "HTMLModel",
      "state": {
       "_dom_classes": [],
       "_model_module": "@jupyter-widgets/controls",
       "_model_module_version": "1.5.0",
       "_model_name": "HTMLModel",
       "_view_count": null,
       "_view_module": "@jupyter-widgets/controls",
       "_view_module_version": "1.5.0",
       "_view_name": "HTMLView",
       "description": "",
       "description_tooltip": null,
       "layout": "IPY_MODEL_4f47b6d6dd2e4e8a8c47c9f34d25cb79",
       "placeholder": "​",
       "style": "IPY_MODEL_037b638e44224d9aabb83f570b3c0e4e",
       "value": "Processing: 100%"
      }
     },
     "8d26181b8db34bf4b674b0e86adbf448": {
      "model_module": "@jupyter-widgets/controls",
      "model_module_version": "1.5.0",
      "model_name": "ProgressStyleModel",
      "state": {
       "_model_module": "@jupyter-widgets/controls",
       "_model_module_version": "1.5.0",
       "_model_name": "ProgressStyleModel",
       "_view_count": null,
       "_view_module": "@jupyter-widgets/base",
       "_view_module_version": "1.2.0",
       "_view_name": "StyleView",
       "bar_color": null,
       "description_width": ""
      }
     },
     "96277e2e90064213a721dbfd5ae342e7": {
      "model_module": "@jupyter-widgets/base",
      "model_module_version": "1.2.0",
      "model_name": "LayoutModel",
      "state": {
       "_model_module": "@jupyter-widgets/base",
       "_model_module_version": "1.2.0",
       "_model_name": "LayoutModel",
       "_view_count": null,
       "_view_module": "@jupyter-widgets/base",
       "_view_module_version": "1.2.0",
       "_view_name": "LayoutView",
       "align_content": null,
       "align_items": null,
       "align_self": null,
       "border": null,
       "bottom": null,
       "display": null,
       "flex": null,
       "flex_flow": null,
       "grid_area": null,
       "grid_auto_columns": null,
       "grid_auto_flow": null,
       "grid_auto_rows": null,
       "grid_column": null,
       "grid_gap": null,
       "grid_row": null,
       "grid_template_areas": null,
       "grid_template_columns": null,
       "grid_template_rows": null,
       "height": null,
       "justify_content": null,
       "justify_items": null,
       "left": null,
       "margin": null,
       "max_height": null,
       "max_width": null,
       "min_height": null,
       "min_width": null,
       "object_fit": null,
       "object_position": null,
       "order": null,
       "overflow": null,
       "overflow_x": null,
       "overflow_y": null,
       "padding": null,
       "right": null,
       "top": null,
       "visibility": null,
       "width": null
      }
     },
     "983bf49d2bd24a90804f4185257bd4bb": {
      "model_module": "@jupyter-widgets/controls",
      "model_module_version": "1.5.0",
      "model_name": "DescriptionStyleModel",
      "state": {
       "_model_module": "@jupyter-widgets/controls",
       "_model_module_version": "1.5.0",
       "_model_name": "DescriptionStyleModel",
       "_view_count": null,
       "_view_module": "@jupyter-widgets/base",
       "_view_module_version": "1.2.0",
       "_view_name": "StyleView",
       "description_width": ""
      }
     },
     "b6dcb81f859c4722a2c2b4f0d78ce24f": {
      "model_module": "@jupyter-widgets/base",
      "model_module_version": "1.2.0",
      "model_name": "LayoutModel",
      "state": {
       "_model_module": "@jupyter-widgets/base",
       "_model_module_version": "1.2.0",
       "_model_name": "LayoutModel",
       "_view_count": null,
       "_view_module": "@jupyter-widgets/base",
       "_view_module_version": "1.2.0",
       "_view_name": "LayoutView",
       "align_content": null,
       "align_items": null,
       "align_self": null,
       "border": null,
       "bottom": null,
       "display": null,
       "flex": null,
       "flex_flow": null,
       "grid_area": null,
       "grid_auto_columns": null,
       "grid_auto_flow": null,
       "grid_auto_rows": null,
       "grid_column": null,
       "grid_gap": null,
       "grid_row": null,
       "grid_template_areas": null,
       "grid_template_columns": null,
       "grid_template_rows": null,
       "height": null,
       "justify_content": null,
       "justify_items": null,
       "left": null,
       "margin": null,
       "max_height": null,
       "max_width": null,
       "min_height": null,
       "min_width": null,
       "object_fit": null,
       "object_position": null,
       "order": null,
       "overflow": null,
       "overflow_x": null,
       "overflow_y": null,
       "padding": null,
       "right": null,
       "top": null,
       "visibility": null,
       "width": null
      }
     },
     "b91173c9177447f4b9bbc9a49d0dfdfb": {
      "model_module": "@jupyter-widgets/controls",
      "model_module_version": "1.5.0",
      "model_name": "VBoxModel",
      "state": {
       "_dom_classes": [
        "widget-interact"
       ],
       "_model_module": "@jupyter-widgets/controls",
       "_model_module_version": "1.5.0",
       "_model_name": "VBoxModel",
       "_view_count": null,
       "_view_module": "@jupyter-widgets/controls",
       "_view_module_version": "1.5.0",
       "_view_name": "VBoxView",
       "box_style": "",
       "children": [
        "IPY_MODEL_1008bbc30878497bbe859245225f21cd",
        "IPY_MODEL_39a11498208849c49f96e5dbf0838132"
       ],
       "layout": "IPY_MODEL_c052aa72582c418b93a5ddc654ff3f35"
      }
     },
     "be6e23ba288b412e8b2ddb22040f3acd": {
      "model_module": "@jupyter-widgets/base",
      "model_module_version": "1.2.0",
      "model_name": "LayoutModel",
      "state": {
       "_model_module": "@jupyter-widgets/base",
       "_model_module_version": "1.2.0",
       "_model_name": "LayoutModel",
       "_view_count": null,
       "_view_module": "@jupyter-widgets/base",
       "_view_module_version": "1.2.0",
       "_view_name": "LayoutView",
       "align_content": null,
       "align_items": null,
       "align_self": null,
       "border": null,
       "bottom": null,
       "display": null,
       "flex": null,
       "flex_flow": null,
       "grid_area": null,
       "grid_auto_columns": null,
       "grid_auto_flow": null,
       "grid_auto_rows": null,
       "grid_column": null,
       "grid_gap": null,
       "grid_row": null,
       "grid_template_areas": null,
       "grid_template_columns": null,
       "grid_template_rows": null,
       "height": null,
       "justify_content": null,
       "justify_items": null,
       "left": null,
       "margin": null,
       "max_height": null,
       "max_width": null,
       "min_height": null,
       "min_width": null,
       "object_fit": null,
       "object_position": null,
       "order": null,
       "overflow": null,
       "overflow_x": null,
       "overflow_y": null,
       "padding": null,
       "right": null,
       "top": null,
       "visibility": "hidden",
       "width": null
      }
     },
     "c052aa72582c418b93a5ddc654ff3f35": {
      "model_module": "@jupyter-widgets/base",
      "model_module_version": "1.2.0",
      "model_name": "LayoutModel",
      "state": {
       "_model_module": "@jupyter-widgets/base",
       "_model_module_version": "1.2.0",
       "_model_name": "LayoutModel",
       "_view_count": null,
       "_view_module": "@jupyter-widgets/base",
       "_view_module_version": "1.2.0",
       "_view_name": "LayoutView",
       "align_content": null,
       "align_items": null,
       "align_self": null,
       "border": null,
       "bottom": null,
       "display": null,
       "flex": null,
       "flex_flow": null,
       "grid_area": null,
       "grid_auto_columns": null,
       "grid_auto_flow": null,
       "grid_auto_rows": null,
       "grid_column": null,
       "grid_gap": null,
       "grid_row": null,
       "grid_template_areas": null,
       "grid_template_columns": null,
       "grid_template_rows": null,
       "height": null,
       "justify_content": null,
       "justify_items": null,
       "left": null,
       "margin": null,
       "max_height": null,
       "max_width": null,
       "min_height": null,
       "min_width": null,
       "object_fit": null,
       "object_position": null,
       "order": null,
       "overflow": null,
       "overflow_x": null,
       "overflow_y": null,
       "padding": null,
       "right": null,
       "top": null,
       "visibility": null,
       "width": null
      }
     },
     "c4afc53f661644b2979d0d6c523547f6": {
      "model_module": "@jupyter-widgets/base",
      "model_module_version": "1.2.0",
      "model_name": "LayoutModel",
      "state": {
       "_model_module": "@jupyter-widgets/base",
       "_model_module_version": "1.2.0",
       "_model_name": "LayoutModel",
       "_view_count": null,
       "_view_module": "@jupyter-widgets/base",
       "_view_module_version": "1.2.0",
       "_view_name": "LayoutView",
       "align_content": null,
       "align_items": null,
       "align_self": null,
       "border": null,
       "bottom": null,
       "display": null,
       "flex": null,
       "flex_flow": null,
       "grid_area": null,
       "grid_auto_columns": null,
       "grid_auto_flow": null,
       "grid_auto_rows": null,
       "grid_column": null,
       "grid_gap": null,
       "grid_row": null,
       "grid_template_areas": null,
       "grid_template_columns": null,
       "grid_template_rows": null,
       "height": null,
       "justify_content": null,
       "justify_items": null,
       "left": null,
       "margin": null,
       "max_height": null,
       "max_width": null,
       "min_height": null,
       "min_width": null,
       "object_fit": null,
       "object_position": null,
       "order": null,
       "overflow": null,
       "overflow_x": null,
       "overflow_y": null,
       "padding": null,
       "right": null,
       "top": null,
       "visibility": "hidden",
       "width": null
      }
     },
     "c994aa4a7ae74830a56a8198ccfaad77": {
      "model_module": "@jupyter-widgets/base",
      "model_module_version": "1.2.0",
      "model_name": "LayoutModel",
      "state": {
       "_model_module": "@jupyter-widgets/base",
       "_model_module_version": "1.2.0",
       "_model_name": "LayoutModel",
       "_view_count": null,
       "_view_module": "@jupyter-widgets/base",
       "_view_module_version": "1.2.0",
       "_view_name": "LayoutView",
       "align_content": null,
       "align_items": null,
       "align_self": null,
       "border": null,
       "bottom": null,
       "display": null,
       "flex": null,
       "flex_flow": null,
       "grid_area": null,
       "grid_auto_columns": null,
       "grid_auto_flow": null,
       "grid_auto_rows": null,
       "grid_column": null,
       "grid_gap": null,
       "grid_row": null,
       "grid_template_areas": null,
       "grid_template_columns": null,
       "grid_template_rows": null,
       "height": null,
       "justify_content": null,
       "justify_items": null,
       "left": null,
       "margin": null,
       "max_height": null,
       "max_width": null,
       "min_height": null,
       "min_width": null,
       "object_fit": null,
       "object_position": null,
       "order": null,
       "overflow": null,
       "overflow_x": null,
       "overflow_y": null,
       "padding": null,
       "right": null,
       "top": null,
       "visibility": null,
       "width": null
      }
     },
     "dfef417b302f48ac9459ffe47e3e52d7": {
      "model_module": "@jupyter-widgets/controls",
      "model_module_version": "1.5.0",
      "model_name": "HTMLModel",
      "state": {
       "_dom_classes": [],
       "_model_module": "@jupyter-widgets/controls",
       "_model_module_version": "1.5.0",
       "_model_name": "HTMLModel",
       "_view_count": null,
       "_view_module": "@jupyter-widgets/controls",
       "_view_module_version": "1.5.0",
       "_view_name": "HTMLView",
       "description": "",
       "description_tooltip": null,
       "layout": "IPY_MODEL_b6dcb81f859c4722a2c2b4f0d78ce24f",
       "placeholder": "​",
       "style": "IPY_MODEL_6978d1f4fd934f58942c7e73b5c36a10",
       "value": " 4/4 [00:16&lt;00:00,  4.93s/it]"
      }
     },
     "e134ddcc3cf04b84be913bd8130486bb": {
      "model_module": "@jupyter-widgets/controls",
      "model_module_version": "1.5.0",
      "model_name": "HBoxModel",
      "state": {
       "_dom_classes": [],
       "_model_module": "@jupyter-widgets/controls",
       "_model_module_version": "1.5.0",
       "_model_name": "HBoxModel",
       "_view_count": null,
       "_view_module": "@jupyter-widgets/controls",
       "_view_module_version": "1.5.0",
       "_view_name": "HBoxView",
       "box_style": "",
       "children": [
        "IPY_MODEL_84bbc749dacb45f4b7c686f19f850aa1",
        "IPY_MODEL_70aa7c65244647ada0b8026400dba6ec",
        "IPY_MODEL_0e6ad0e041aa49d8a85af62ce5cd2168"
       ],
       "layout": "IPY_MODEL_c4afc53f661644b2979d0d6c523547f6"
      }
     },
     "eac0d6cc60274ba985c03f43f0e55d6d": {
      "model_module": "@jupyter-widgets/base",
      "model_module_version": "1.2.0",
      "model_name": "LayoutModel",
      "state": {
       "_model_module": "@jupyter-widgets/base",
       "_model_module_version": "1.2.0",
       "_model_name": "LayoutModel",
       "_view_count": null,
       "_view_module": "@jupyter-widgets/base",
       "_view_module_version": "1.2.0",
       "_view_name": "LayoutView",
       "align_content": null,
       "align_items": null,
       "align_self": null,
       "border": null,
       "bottom": null,
       "display": null,
       "flex": null,
       "flex_flow": null,
       "grid_area": null,
       "grid_auto_columns": null,
       "grid_auto_flow": null,
       "grid_auto_rows": null,
       "grid_column": null,
       "grid_gap": null,
       "grid_row": null,
       "grid_template_areas": null,
       "grid_template_columns": null,
       "grid_template_rows": null,
       "height": null,
       "justify_content": null,
       "justify_items": null,
       "left": null,
       "margin": null,
       "max_height": null,
       "max_width": null,
       "min_height": null,
       "min_width": null,
       "object_fit": null,
       "object_position": null,
       "order": null,
       "overflow": null,
       "overflow_x": null,
       "overflow_y": null,
       "padding": null,
       "right": null,
       "top": null,
       "visibility": null,
       "width": null
      }
     },
     "f4fb7487ef774e60890b514ab68c7c96": {
      "model_module": "@jupyter-widgets/controls",
      "model_module_version": "1.5.0",
      "model_name": "HTMLModel",
      "state": {
       "_dom_classes": [],
       "_model_module": "@jupyter-widgets/controls",
       "_model_module_version": "1.5.0",
       "_model_name": "HTMLModel",
       "_view_count": null,
       "_view_module": "@jupyter-widgets/controls",
       "_view_module_version": "1.5.0",
       "_view_name": "HTMLView",
       "description": "",
       "description_tooltip": null,
       "layout": "IPY_MODEL_4feda4193f794a8b87142aa96983ed66",
       "placeholder": "​",
       "style": "IPY_MODEL_983bf49d2bd24a90804f4185257bd4bb",
       "value": " 69/69 [1:06:02&lt;00:00, 32.49s/it]"
      }
     },
     "f921f1caf97f49609949b8646bf3c5ba": {
      "model_module": "@jupyter-widgets/base",
      "model_module_version": "1.2.0",
      "model_name": "LayoutModel",
      "state": {
       "_model_module": "@jupyter-widgets/base",
       "_model_module_version": "1.2.0",
       "_model_name": "LayoutModel",
       "_view_count": null,
       "_view_module": "@jupyter-widgets/base",
       "_view_module_version": "1.2.0",
       "_view_name": "LayoutView",
       "align_content": null,
       "align_items": null,
       "align_self": null,
       "border": null,
       "bottom": null,
       "display": null,
       "flex": null,
       "flex_flow": null,
       "grid_area": null,
       "grid_auto_columns": null,
       "grid_auto_flow": null,
       "grid_auto_rows": null,
       "grid_column": null,
       "grid_gap": null,
       "grid_row": null,
       "grid_template_areas": null,
       "grid_template_columns": null,
       "grid_template_rows": null,
       "height": null,
       "justify_content": null,
       "justify_items": null,
       "left": null,
       "margin": null,
       "max_height": null,
       "max_width": null,
       "min_height": null,
       "min_width": null,
       "object_fit": null,
       "object_position": null,
       "order": null,
       "overflow": null,
       "overflow_x": null,
       "overflow_y": null,
       "padding": null,
       "right": null,
       "top": null,
       "visibility": null,
       "width": null
      }
     }
    },
    "version_major": 2,
    "version_minor": 0
   }
  }
 },
 "nbformat": 4,
 "nbformat_minor": 5
}
